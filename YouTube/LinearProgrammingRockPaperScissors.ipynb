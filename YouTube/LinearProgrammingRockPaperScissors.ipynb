{
 "cells": [
  {
   "cell_type": "markdown",
   "metadata": {},
   "source": [
    "# Linear Programming: Rock, Paper, Scissors"
   ]
  },
  {
   "cell_type": "markdown",
   "metadata": {},
   "source": [
    "I am going to go through an old blog post of mine where I ran the Rock, Paper, Scissors game through a linear program. The original post was because I saw a *simple* linear program in the book but I needed a step hard to see how I was going to scale up the variables."
   ]
  },
  {
   "cell_type": "markdown",
   "metadata": {},
   "source": [
    "**CVXOPT**  \n",
    "[CVXOPT](https://cvxopt.org/) is an open source package for convex optimizations in Python. At the time of my research this was by far the fastest library by an order of magnitude. But, being on Windows I didn't much speed up. In the context of this notebook the speed doesn't really matter.\n",
    "\n",
    "**Installation Instructions**  \n",
    "I was able to install this by running a pip install as listed [here](https://cvxopt.org/install/index.html)."
   ]
  },
  {
   "cell_type": "code",
   "execution_count": 1,
   "metadata": {},
   "outputs": [],
   "source": [
    "from cvxopt import matrix, solvers\n",
    "glpksolver = 'cvxopt_glpk'\n",
    "solvers.options['show_progress'] = False\n",
    "solvers.options['LPX_K_MSGLEV'] = 0"
   ]
  },
  {
   "cell_type": "markdown",
   "metadata": {},
   "source": [
    "**LP Solver**  \n",
    "cvxopt has a solver class that solves a linear equation by passing in c, G, and h. The program will  \n",
    "\n",
    "minimize $$c^{T}x$$ subject to $$Gx + s = h$$ $$Ax = b$$ $$s>=0$$"
   ]
  },
  {
   "cell_type": "markdown",
   "metadata": {},
   "source": [
    "**c Matrix**  \n",
    "I need to *minimize* the results so I need to have a -1 in the first column that represents U while Rock, Paper, and Scissor columns are all 0."
   ]
  },
  {
   "cell_type": "code",
   "execution_count": 3,
   "metadata": {
    "collapsed": true
   },
   "outputs": [],
   "source": [
    "# Minimize: U + R + P + S\n",
    "c = matrix([-1.,0.,0.,0.])"
   ]
  },
  {
   "cell_type": "markdown",
   "metadata": {},
   "source": [
    "**G Matrix**  \n",
    "This is the big matrix. It contains ALL of the requirements on my linear program. \n",
    "\n",
    "The first 3 equations set up the results.  \n",
    "\n",
    "The first row is throwing Rock where do nothing with Rock (0), you lose (-1) to paper, but win (+1) to scissors. The second row is for Paper. The third row is for Scissors.  \n",
    "\n",
    "Throwing Rock: U - P + S <= 0 -> [1,0,-1,1]  \n",
    "Throwing Paper: U + R - S <= 0 -> [1,1,0,-1]  \n",
    "Throwing Scissors: U - R + P <= 0 -> [1,-1,1,0]  \n",
    "\n",
    "The next 3 rows is to ensure you can only throw a single play. Now, since we are using cvxopt we need to negate these. Instead of R >= 0 we need -R <= 0  \n",
    "\n",
    "-R <= 0 -> [0,-1, 0, 0]  \n",
    "-P <= 0 -> [0, 0,-1, 0]  \n",
    "-S <= 0 -> [0, 0, 0,-1]  \n",
    "\n",
    "The last set are the equality parameters. The ensures that we get a total of 1 when the game is over.  \n",
    "\n",
    "R + P + S <= 1 ->  [0, 1, 1, 1]  \n",
    "-R - P - S <= 1 -> [0,-1,-1,-1]  \n",
    "\n",
    "This results in this matrix:  \n",
    "[1, 0,-1, 1]  \n",
    "[1, 1, 0,-1]  \n",
    "[1,-1, 1, 0]  \n",
    "[0,-1, 0, 0]  \n",
    "[0, 0,-1, 0]  \n",
    "[0, 0, 0,-1]  \n",
    "[0, 1, 1, 1]  \n",
    "[0,-1,-1,-1]  \n",
    "\n",
    "We then transpose it for this library"
   ]
  },
  {
   "cell_type": "code",
   "execution_count": 2,
   "metadata": {
    "collapsed": true
   },
   "outputs": [],
   "source": [
    "G = matrix(\n",
    "    [\n",
    "        [ 1., 1., 1., 0., 0., 0., 0., 0.],\n",
    "        [ 0., 1.,-1.,-1., 0., 0., 1.,-1],\n",
    "        [-1., 0., 1., 0.,-1., 0., 1.,-1.],\n",
    "        [ 1.,-1., 0., 0., 0.,-1., 1.,-1.]\n",
    "    ])"
   ]
  },
  {
   "cell_type": "markdown",
   "metadata": {},
   "source": [
    "**h Matrix**  \n",
    "The h matrix is the solution to the previous 8 equations. The first 6 equations were <= 0 while the last 2 were the equality equations so you need 1 and -1."
   ]
  },
  {
   "cell_type": "code",
   "execution_count": 4,
   "metadata": {
    "collapsed": true
   },
   "outputs": [],
   "source": [
    "h = matrix([0.,0.,0.,0.,0.,0.,1.,-1.])"
   ]
  },
  {
   "cell_type": "markdown",
   "metadata": {},
   "source": [
    "**Run the Solver**"
   ]
  },
  {
   "cell_type": "code",
   "execution_count": 5,
   "metadata": {},
   "outputs": [
    {
     "name": "stdout",
     "output_type": "stream",
     "text": [
      "optimal\n",
      "[ 2.04e-10]\n",
      "[ 3.33e-01]\n",
      "[ 3.33e-01]\n",
      "[ 3.33e-01]\n",
      "\n"
     ]
    }
   ],
   "source": [
    "sol = solvers.lp(c,G,h, solver=glpksolver)\n",
    "print(sol['status'])\n",
    "print(sol['x'])"
   ]
  },
  {
   "cell_type": "markdown",
   "metadata": {},
   "source": [
    "**Summary**  \n",
    "If you understood what we were doing you should have expected to get 0 for U and then $\\frac{1}{3}$ for throwing each of the 3 types and that is what we got.  \n",
    "\n",
    "I hope this helps to explain a *slightly* more complex LP than what you would see in an introductory lesson."
   ]
  }
 ],
 "metadata": {
  "kernelspec": {
   "display_name": "Python [conda env:tf_current]",
   "language": "python",
   "name": "conda-env-tf_current-py"
  },
  "language_info": {
   "codemirror_mode": {
    "name": "ipython",
    "version": 3
   },
   "file_extension": ".py",
   "mimetype": "text/x-python",
   "name": "python",
   "nbconvert_exporter": "python",
   "pygments_lexer": "ipython3",
   "version": "3.6.2"
  }
 },
 "nbformat": 4,
 "nbformat_minor": 2
}
