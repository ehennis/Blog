{
  "nbformat": 4,
  "nbformat_minor": 0,
  "metadata": {
    "colab": {
      "name": "CtoF.ipynb",
      "provenance": [],
      "authorship_tag": "ABX9TyNiDGlCU76FwSDgSrcjUXtM",
      "include_colab_link": true
    },
    "kernelspec": {
      "name": "python3",
      "display_name": "Python 3"
    },
    "language_info": {
      "name": "python"
    }
  },
  "cells": [
    {
      "cell_type": "markdown",
      "metadata": {
        "id": "view-in-github",
        "colab_type": "text"
      },
      "source": [
        "<a href=\"https://colab.research.google.com/github/ehennis/Blog/blob/master/UsingYourModels/KCDC/CtoF.ipynb\" target=\"_parent\"><img src=\"https://colab.research.google.com/assets/colab-badge.svg\" alt=\"Open In Colab\"/></a>"
      ]
    },
    {
      "cell_type": "markdown",
      "source": [
        "# KCDC\n",
        "\n",
        "## Convert Celsius to Fahrenheit using a neural network"
      ],
      "metadata": {
        "id": "K9ens_BxE2E4"
      }
    },
    {
      "cell_type": "code",
      "execution_count": 1,
      "metadata": {
        "id": "inynp1T1E1dl"
      },
      "outputs": [],
      "source": [
        "import tensorflow as tf\n",
        "from tensorflow import keras\n",
        "import numpy as np\n",
        "import matplotlib.pyplot as plt"
      ]
    },
    {
      "cell_type": "code",
      "source": [
        "# Generate DataSet\n",
        "fahrenheit = list(range(-212,212))\n",
        "celsius = [(f - 32) * 5 / 9 for f in fahrenheit]\n",
        "\n",
        "# Create simple neural network\n",
        "model = keras.Sequential([keras.layers.Dense(1, activation=None, input_shape=[1])])\n",
        "model.compile(loss='mean_squared_error', optimizer=keras.optimizers.Nadam(learning_rate=0.1),metrics=['mean_absolute_error'])\n"
      ],
      "metadata": {
        "id": "GtFVKsZPF6fT"
      },
      "execution_count": 2,
      "outputs": []
    },
    {
      "cell_type": "code",
      "source": [
        "# Train Network\n",
        "model.fit(x=celsius,y=fahrenheit,batch_size=16,epochs=50)"
      ],
      "metadata": {
        "id": "6Pfo-DdlHVCI",
        "outputId": "6f0bee45-6791-4c9b-f2b7-d2ed37dd51b3",
        "colab": {
          "base_uri": "https://localhost:8080/"
        }
      },
      "execution_count": 3,
      "outputs": [
        {
          "output_type": "stream",
          "name": "stdout",
          "text": [
            "Epoch 1/50\n",
            "27/27 [==============================] - 1s 1ms/step - loss: 22333.7910 - mean_absolute_error: 125.4894\n",
            "Epoch 2/50\n",
            "27/27 [==============================] - 0s 1ms/step - loss: 2417.7163 - mean_absolute_error: 39.7008\n",
            "Epoch 3/50\n",
            "27/27 [==============================] - 0s 1ms/step - loss: 837.0032 - mean_absolute_error: 27.6147\n",
            "Epoch 4/50\n",
            "27/27 [==============================] - 0s 2ms/step - loss: 716.9651 - mean_absolute_error: 26.0706\n",
            "Epoch 5/50\n",
            "27/27 [==============================] - 0s 1ms/step - loss: 610.5246 - mean_absolute_error: 23.7743\n",
            "Epoch 6/50\n",
            "27/27 [==============================] - 0s 1ms/step - loss: 514.8087 - mean_absolute_error: 21.7687\n",
            "Epoch 7/50\n",
            "27/27 [==============================] - 0s 1ms/step - loss: 430.5872 - mean_absolute_error: 19.9989\n",
            "Epoch 8/50\n",
            "27/27 [==============================] - 0s 2ms/step - loss: 357.0764 - mean_absolute_error: 18.2946\n",
            "Epoch 9/50\n",
            "27/27 [==============================] - 0s 2ms/step - loss: 294.9142 - mean_absolute_error: 16.3023\n",
            "Epoch 10/50\n",
            "27/27 [==============================] - 0s 1ms/step - loss: 240.7700 - mean_absolute_error: 15.0468\n",
            "Epoch 11/50\n",
            "27/27 [==============================] - 0s 2ms/step - loss: 195.4089 - mean_absolute_error: 13.4079\n",
            "Epoch 12/50\n",
            "27/27 [==============================] - 0s 2ms/step - loss: 157.0444 - mean_absolute_error: 12.0665\n",
            "Epoch 13/50\n",
            "27/27 [==============================] - 0s 1ms/step - loss: 125.0193 - mean_absolute_error: 10.8535\n",
            "Epoch 14/50\n",
            "27/27 [==============================] - 0s 2ms/step - loss: 98.7883 - mean_absolute_error: 9.5220\n",
            "Epoch 15/50\n",
            "27/27 [==============================] - 0s 1ms/step - loss: 77.5617 - mean_absolute_error: 8.4827\n",
            "Epoch 16/50\n",
            "27/27 [==============================] - 0s 2ms/step - loss: 60.0823 - mean_absolute_error: 7.4862\n",
            "Epoch 17/50\n",
            "27/27 [==============================] - 0s 2ms/step - loss: 46.2574 - mean_absolute_error: 6.5349\n",
            "Epoch 18/50\n",
            "27/27 [==============================] - 0s 1ms/step - loss: 35.3674 - mean_absolute_error: 5.7130\n",
            "Epoch 19/50\n",
            "27/27 [==============================] - 0s 2ms/step - loss: 26.6834 - mean_absolute_error: 4.9878\n",
            "Epoch 20/50\n",
            "27/27 [==============================] - 0s 1ms/step - loss: 19.9774 - mean_absolute_error: 4.3182\n",
            "Epoch 21/50\n",
            "27/27 [==============================] - 0s 2ms/step - loss: 14.7268 - mean_absolute_error: 3.6884\n",
            "Epoch 22/50\n",
            "27/27 [==============================] - 0s 2ms/step - loss: 10.8429 - mean_absolute_error: 3.1743\n",
            "Epoch 23/50\n",
            "27/27 [==============================] - 0s 2ms/step - loss: 7.8800 - mean_absolute_error: 2.7136\n",
            "Epoch 24/50\n",
            "27/27 [==============================] - 0s 2ms/step - loss: 5.6890 - mean_absolute_error: 2.3020\n",
            "Epoch 25/50\n",
            "27/27 [==============================] - 0s 1ms/step - loss: 4.0363 - mean_absolute_error: 1.9102\n",
            "Epoch 26/50\n",
            "27/27 [==============================] - 0s 2ms/step - loss: 2.8831 - mean_absolute_error: 1.6382\n",
            "Epoch 27/50\n",
            "27/27 [==============================] - 0s 2ms/step - loss: 2.0005 - mean_absolute_error: 1.3591\n",
            "Epoch 28/50\n",
            "27/27 [==============================] - 0s 2ms/step - loss: 1.3860 - mean_absolute_error: 1.1377\n",
            "Epoch 29/50\n",
            "27/27 [==============================] - 0s 2ms/step - loss: 0.9502 - mean_absolute_error: 0.9369\n",
            "Epoch 30/50\n",
            "27/27 [==============================] - 0s 2ms/step - loss: 0.6449 - mean_absolute_error: 0.7703\n",
            "Epoch 31/50\n",
            "27/27 [==============================] - 0s 2ms/step - loss: 0.4340 - mean_absolute_error: 0.6404\n",
            "Epoch 32/50\n",
            "27/27 [==============================] - 0s 2ms/step - loss: 0.2891 - mean_absolute_error: 0.5126\n",
            "Epoch 33/50\n",
            "27/27 [==============================] - 0s 1ms/step - loss: 0.1901 - mean_absolute_error: 0.4182\n",
            "Epoch 34/50\n",
            "27/27 [==============================] - 0s 2ms/step - loss: 0.1239 - mean_absolute_error: 0.3412\n",
            "Epoch 35/50\n",
            "27/27 [==============================] - 0s 2ms/step - loss: 0.0803 - mean_absolute_error: 0.2717\n",
            "Epoch 36/50\n",
            "27/27 [==============================] - 0s 1ms/step - loss: 0.0512 - mean_absolute_error: 0.2155\n",
            "Epoch 37/50\n",
            "27/27 [==============================] - 0s 1ms/step - loss: 0.0324 - mean_absolute_error: 0.1740\n",
            "Epoch 38/50\n",
            "27/27 [==============================] - 0s 2ms/step - loss: 0.0204 - mean_absolute_error: 0.1351\n",
            "Epoch 39/50\n",
            "27/27 [==============================] - 0s 1ms/step - loss: 0.0126 - mean_absolute_error: 0.1078\n",
            "Epoch 40/50\n",
            "27/27 [==============================] - 0s 2ms/step - loss: 0.0077 - mean_absolute_error: 0.0845\n",
            "Epoch 41/50\n",
            "27/27 [==============================] - 0s 2ms/step - loss: 0.0047 - mean_absolute_error: 0.0652\n",
            "Epoch 42/50\n",
            "27/27 [==============================] - 0s 1ms/step - loss: 0.0028 - mean_absolute_error: 0.0510\n",
            "Epoch 43/50\n",
            "27/27 [==============================] - 0s 1ms/step - loss: 0.0016 - mean_absolute_error: 0.0387\n",
            "Epoch 44/50\n",
            "27/27 [==============================] - 0s 1ms/step - loss: 9.7341e-04 - mean_absolute_error: 0.0300\n",
            "Epoch 45/50\n",
            "27/27 [==============================] - 0s 1ms/step - loss: 5.6063e-04 - mean_absolute_error: 0.0227\n",
            "Epoch 46/50\n",
            "27/27 [==============================] - 0s 1ms/step - loss: 3.2327e-04 - mean_absolute_error: 0.0173\n",
            "Epoch 47/50\n",
            "27/27 [==============================] - 0s 2ms/step - loss: 1.8185e-04 - mean_absolute_error: 0.0129\n",
            "Epoch 48/50\n",
            "27/27 [==============================] - 0s 1ms/step - loss: 1.0157e-04 - mean_absolute_error: 0.0096\n",
            "Epoch 49/50\n",
            "27/27 [==============================] - 0s 2ms/step - loss: 5.6188e-05 - mean_absolute_error: 0.0072\n",
            "Epoch 50/50\n",
            "27/27 [==============================] - 0s 1ms/step - loss: 3.1047e-05 - mean_absolute_error: 0.0053\n"
          ]
        },
        {
          "output_type": "execute_result",
          "data": {
            "text/plain": [
              "<keras.callbacks.History at 0x7f37a2eca650>"
            ]
          },
          "metadata": {},
          "execution_count": 3
        }
      ]
    },
    {
      "cell_type": "code",
      "source": [
        "# Predict\n",
        "for c in range(0,100,10):\n",
        "  f_exp = (c * 9/5) + 32\n",
        "  print('%d degrees celsius should be %d degrees fahrenheit. Prediction: %f degrees fahrenheit' % (c, f_exp, model.predict([c])))\n",
        "\n",
        "print(model.layers[0].get_weights())"
      ],
      "metadata": {
        "id": "fxZSvRn2Hq4y",
        "outputId": "f032a71a-4b62-45d7-ff3c-3cc312651c50",
        "colab": {
          "base_uri": "https://localhost:8080/"
        }
      },
      "execution_count": 4,
      "outputs": [
        {
          "output_type": "stream",
          "name": "stdout",
          "text": [
            "0 degrees celsius should be 32 degrees fahrenheit. Prediction: 31.995182 degrees fahrenheit\n",
            "10 degrees celsius should be 50 degrees fahrenheit. Prediction: 49.994934 degrees fahrenheit\n",
            "20 degrees celsius should be 68 degrees fahrenheit. Prediction: 67.994682 degrees fahrenheit\n",
            "30 degrees celsius should be 86 degrees fahrenheit. Prediction: 85.994431 degrees fahrenheit\n",
            "40 degrees celsius should be 104 degrees fahrenheit. Prediction: 103.994186 degrees fahrenheit\n",
            "50 degrees celsius should be 122 degrees fahrenheit. Prediction: 121.993927 degrees fahrenheit\n",
            "60 degrees celsius should be 140 degrees fahrenheit. Prediction: 139.993683 degrees fahrenheit\n",
            "70 degrees celsius should be 158 degrees fahrenheit. Prediction: 157.993439 degrees fahrenheit\n",
            "80 degrees celsius should be 176 degrees fahrenheit. Prediction: 175.993179 degrees fahrenheit\n",
            "90 degrees celsius should be 194 degrees fahrenheit. Prediction: 193.992935 degrees fahrenheit\n",
            "[array([[1.799975]], dtype=float32), array([31.995182], dtype=float32)]\n"
          ]
        }
      ]
    },
    {
      "cell_type": "code",
      "source": [
        "# Show weights and bias\n",
        "weights = model.layers[0].get_weights()\n",
        "print('Weight: %f (Remember 9/5 = 1.8)' % weights[0])\n",
        "print('Bias: %f' % weights[1])"
      ],
      "metadata": {
        "id": "bkrYrseQK0Up",
        "outputId": "996f7bcd-c048-4f25-90a2-89311b9be6d5",
        "colab": {
          "base_uri": "https://localhost:8080/"
        }
      },
      "execution_count": 5,
      "outputs": [
        {
          "output_type": "stream",
          "name": "stdout",
          "text": [
            "Weight: 1.799975 (Remember 9/5 = 1.8)\n",
            "Bias: 31.995182\n"
          ]
        }
      ]
    },
    {
      "cell_type": "code",
      "source": [
        "# Save Model\n",
        "model.save(\"CtoF_Model.h5\")"
      ],
      "metadata": {
        "id": "IrjoXu7V8pVY"
      },
      "execution_count": 6,
      "outputs": []
    },
    {
      "cell_type": "code",
      "source": [
        "# Download Model\n",
        "from google.colab import files\n",
        "files.download(\"CtoF_Model.h5\")"
      ],
      "metadata": {
        "id": "WupcMlGt850W",
        "outputId": "58845db9-4ecc-490a-9382-8d24420515cc",
        "colab": {
          "base_uri": "https://localhost:8080/",
          "height": 17
        }
      },
      "execution_count": 7,
      "outputs": [
        {
          "output_type": "display_data",
          "data": {
            "text/plain": [
              "<IPython.core.display.Javascript object>"
            ],
            "application/javascript": [
              "\n",
              "    async function download(id, filename, size) {\n",
              "      if (!google.colab.kernel.accessAllowed) {\n",
              "        return;\n",
              "      }\n",
              "      const div = document.createElement('div');\n",
              "      const label = document.createElement('label');\n",
              "      label.textContent = `Downloading \"${filename}\": `;\n",
              "      div.appendChild(label);\n",
              "      const progress = document.createElement('progress');\n",
              "      progress.max = size;\n",
              "      div.appendChild(progress);\n",
              "      document.body.appendChild(div);\n",
              "\n",
              "      const buffers = [];\n",
              "      let downloaded = 0;\n",
              "\n",
              "      const channel = await google.colab.kernel.comms.open(id);\n",
              "      // Send a message to notify the kernel that we're ready.\n",
              "      channel.send({})\n",
              "\n",
              "      for await (const message of channel.messages) {\n",
              "        // Send a message to notify the kernel that we're ready.\n",
              "        channel.send({})\n",
              "        if (message.buffers) {\n",
              "          for (const buffer of message.buffers) {\n",
              "            buffers.push(buffer);\n",
              "            downloaded += buffer.byteLength;\n",
              "            progress.value = downloaded;\n",
              "          }\n",
              "        }\n",
              "      }\n",
              "      const blob = new Blob(buffers, {type: 'application/binary'});\n",
              "      const a = document.createElement('a');\n",
              "      a.href = window.URL.createObjectURL(blob);\n",
              "      a.download = filename;\n",
              "      div.appendChild(a);\n",
              "      a.click();\n",
              "      div.remove();\n",
              "    }\n",
              "  "
            ]
          },
          "metadata": {}
        },
        {
          "output_type": "display_data",
          "data": {
            "text/plain": [
              "<IPython.core.display.Javascript object>"
            ],
            "application/javascript": [
              "download(\"download_24ef6cd0-723d-430a-ad11-88c5c14f3264\", \"CtoF_Model.h5\", 19600)"
            ]
          },
          "metadata": {}
        }
      ]
    }
  ]
}