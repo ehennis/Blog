{
  "nbformat": 4,
  "nbformat_minor": 0,
  "metadata": {
    "colab": {
      "name": "CtoF.ipynb",
      "provenance": [],
      "authorship_tag": "ABX9TyMM4HtmJooCwmMozHChtE2Q",
      "include_colab_link": true
    },
    "kernelspec": {
      "name": "python3",
      "display_name": "Python 3"
    },
    "language_info": {
      "name": "python"
    }
  },
  "cells": [
    {
      "cell_type": "markdown",
      "metadata": {
        "id": "view-in-github",
        "colab_type": "text"
      },
      "source": [
        "<a href=\"https://colab.research.google.com/github/ehennis/Blog/blob/master/UsingYourModels/KCDC/CtoF.ipynb\" target=\"_parent\"><img src=\"https://colab.research.google.com/assets/colab-badge.svg\" alt=\"Open In Colab\"/></a>"
      ]
    },
    {
      "cell_type": "markdown",
      "source": [
        "# KCDC\n",
        "\n",
        "## Convert Celsius to Fahrenheit using a neural network"
      ],
      "metadata": {
        "id": "K9ens_BxE2E4"
      }
    },
    {
      "cell_type": "code",
      "execution_count": 1,
      "metadata": {
        "id": "inynp1T1E1dl"
      },
      "outputs": [],
      "source": [
        "import tensorflow as tf\n",
        "from tensorflow import keras\n",
        "import numpy as np\n",
        "import matplotlib.pyplot as plt"
      ]
    },
    {
      "cell_type": "code",
      "source": [
        "# Generate DataSet\n",
        "fahrenheit = list(range(-212,212))\n",
        "celsius = [(f - 32) * 5 / 9 for f in fahrenheit]\n",
        "\n",
        "# Create simple neural network\n",
        "model = keras.Sequential([keras.layers.Dense(1, activation=None, input_shape=[1])])\n",
        "model.compile(loss='mean_squared_error', optimizer=keras.optimizers.Nadam(learning_rate=0.1),metrics=['mean_absolute_error'])\n"
      ],
      "metadata": {
        "id": "GtFVKsZPF6fT"
      },
      "execution_count": 2,
      "outputs": []
    },
    {
      "cell_type": "code",
      "source": [
        "# Train Network\n",
        "model.fit(x=celsius,y=fahrenheit,batch_size=16,epochs=50)"
      ],
      "metadata": {
        "id": "6Pfo-DdlHVCI",
        "outputId": "24a30bff-21f9-49d9-806a-2bb450ac22b0",
        "colab": {
          "base_uri": "https://localhost:8080/"
        }
      },
      "execution_count": 3,
      "outputs": [
        {
          "output_type": "stream",
          "name": "stdout",
          "text": [
            "Epoch 1/50\n",
            "27/27 [==============================] - 1s 1ms/step - loss: 14354.0518 - mean_absolute_error: 98.0339\n",
            "Epoch 2/50\n",
            "27/27 [==============================] - 0s 1ms/step - loss: 1395.9930 - mean_absolute_error: 30.9713\n",
            "Epoch 3/50\n",
            "27/27 [==============================] - 0s 1ms/step - loss: 748.4553 - mean_absolute_error: 26.7454\n",
            "Epoch 4/50\n",
            "27/27 [==============================] - 0s 1ms/step - loss: 618.7629 - mean_absolute_error: 23.9096\n",
            "Epoch 5/50\n",
            "27/27 [==============================] - 0s 1ms/step - loss: 510.0024 - mean_absolute_error: 21.7961\n",
            "Epoch 6/50\n",
            "27/27 [==============================] - 0s 1ms/step - loss: 416.2147 - mean_absolute_error: 19.7760\n",
            "Epoch 7/50\n",
            "27/27 [==============================] - 0s 1ms/step - loss: 337.6486 - mean_absolute_error: 17.6150\n",
            "Epoch 8/50\n",
            "27/27 [==============================] - 0s 1ms/step - loss: 272.7807 - mean_absolute_error: 16.0393\n",
            "Epoch 9/50\n",
            "27/27 [==============================] - 0s 1ms/step - loss: 217.3300 - mean_absolute_error: 14.1538\n",
            "Epoch 10/50\n",
            "27/27 [==============================] - 0s 1ms/step - loss: 171.5554 - mean_absolute_error: 12.6781\n",
            "Epoch 11/50\n",
            "27/27 [==============================] - 0s 1ms/step - loss: 133.7300 - mean_absolute_error: 11.0985\n",
            "Epoch 12/50\n",
            "27/27 [==============================] - 0s 1ms/step - loss: 104.1798 - mean_absolute_error: 9.8597\n",
            "Epoch 13/50\n",
            "27/27 [==============================] - 0s 1ms/step - loss: 79.9513 - mean_absolute_error: 8.5283\n",
            "Epoch 14/50\n",
            "27/27 [==============================] - 0s 1ms/step - loss: 60.6493 - mean_absolute_error: 7.5401\n",
            "Epoch 15/50\n",
            "27/27 [==============================] - 0s 1ms/step - loss: 45.4982 - mean_absolute_error: 6.4788\n",
            "Epoch 16/50\n",
            "27/27 [==============================] - 0s 2ms/step - loss: 33.8643 - mean_absolute_error: 5.6500\n",
            "Epoch 17/50\n",
            "27/27 [==============================] - 0s 1ms/step - loss: 24.8284 - mean_absolute_error: 4.7613\n",
            "Epoch 18/50\n",
            "27/27 [==============================] - 0s 1ms/step - loss: 18.1001 - mean_absolute_error: 4.0863\n",
            "Epoch 19/50\n",
            "27/27 [==============================] - 0s 1ms/step - loss: 12.9829 - mean_absolute_error: 3.4568\n",
            "Epoch 20/50\n",
            "27/27 [==============================] - 0s 1ms/step - loss: 9.2180 - mean_absolute_error: 2.9219\n",
            "Epoch 21/50\n",
            "27/27 [==============================] - 0s 1ms/step - loss: 6.5038 - mean_absolute_error: 2.4626\n",
            "Epoch 22/50\n",
            "27/27 [==============================] - 0s 1ms/step - loss: 4.5083 - mean_absolute_error: 2.0492\n",
            "Epoch 23/50\n",
            "27/27 [==============================] - 0s 2ms/step - loss: 3.0961 - mean_absolute_error: 1.6901\n",
            "Epoch 24/50\n",
            "27/27 [==============================] - 0s 1ms/step - loss: 2.0930 - mean_absolute_error: 1.3923\n",
            "Epoch 25/50\n",
            "27/27 [==============================] - 0s 1ms/step - loss: 1.4013 - mean_absolute_error: 1.1430\n",
            "Epoch 26/50\n",
            "27/27 [==============================] - 0s 1ms/step - loss: 0.9277 - mean_absolute_error: 0.9193\n",
            "Epoch 27/50\n",
            "27/27 [==============================] - 0s 1ms/step - loss: 0.6071 - mean_absolute_error: 0.7528\n",
            "Epoch 28/50\n",
            "27/27 [==============================] - 0s 1ms/step - loss: 0.3940 - mean_absolute_error: 0.5995\n",
            "Epoch 29/50\n",
            "27/27 [==============================] - 0s 1ms/step - loss: 0.2524 - mean_absolute_error: 0.4852\n",
            "Epoch 30/50\n",
            "27/27 [==============================] - 0s 1ms/step - loss: 0.1582 - mean_absolute_error: 0.3830\n",
            "Epoch 31/50\n",
            "27/27 [==============================] - 0s 1ms/step - loss: 0.0982 - mean_absolute_error: 0.2973\n",
            "Epoch 32/50\n",
            "27/27 [==============================] - 0s 2ms/step - loss: 0.0617 - mean_absolute_error: 0.2410\n",
            "Epoch 33/50\n",
            "27/27 [==============================] - 0s 1ms/step - loss: 0.0371 - mean_absolute_error: 0.1825\n",
            "Epoch 34/50\n",
            "27/27 [==============================] - 0s 1ms/step - loss: 0.0224 - mean_absolute_error: 0.1434\n",
            "Epoch 35/50\n",
            "27/27 [==============================] - 0s 1ms/step - loss: 0.0134 - mean_absolute_error: 0.1108\n",
            "Epoch 36/50\n",
            "27/27 [==============================] - 0s 1ms/step - loss: 0.0079 - mean_absolute_error: 0.0852\n",
            "Epoch 37/50\n",
            "27/27 [==============================] - 0s 1ms/step - loss: 0.0046 - mean_absolute_error: 0.0651\n",
            "Epoch 38/50\n",
            "27/27 [==============================] - 0s 1ms/step - loss: 0.0026 - mean_absolute_error: 0.0486\n",
            "Epoch 39/50\n",
            "27/27 [==============================] - 0s 1ms/step - loss: 0.0015 - mean_absolute_error: 0.0371\n",
            "Epoch 40/50\n",
            "27/27 [==============================] - 0s 2ms/step - loss: 8.2818e-04 - mean_absolute_error: 0.0273\n",
            "Epoch 41/50\n",
            "27/27 [==============================] - 0s 1ms/step - loss: 4.6169e-04 - mean_absolute_error: 0.0206\n",
            "Epoch 42/50\n",
            "27/27 [==============================] - 0s 1ms/step - loss: 2.4912e-04 - mean_absolute_error: 0.0152\n",
            "Epoch 43/50\n",
            "27/27 [==============================] - 0s 1ms/step - loss: 1.3210e-04 - mean_absolute_error: 0.0110\n",
            "Epoch 44/50\n",
            "27/27 [==============================] - 0s 1ms/step - loss: 7.0050e-05 - mean_absolute_error: 0.0080\n",
            "Epoch 45/50\n",
            "27/27 [==============================] - 0s 2ms/step - loss: 3.6658e-05 - mean_absolute_error: 0.0058\n",
            "Epoch 46/50\n",
            "27/27 [==============================] - 0s 1ms/step - loss: 1.8704e-05 - mean_absolute_error: 0.0041\n",
            "Epoch 47/50\n",
            "27/27 [==============================] - 0s 1ms/step - loss: 9.4995e-06 - mean_absolute_error: 0.0030\n",
            "Epoch 48/50\n",
            "27/27 [==============================] - 0s 1ms/step - loss: 4.7335e-06 - mean_absolute_error: 0.0021\n",
            "Epoch 49/50\n",
            "27/27 [==============================] - 0s 1ms/step - loss: 2.3343e-06 - mean_absolute_error: 0.0015\n",
            "Epoch 50/50\n",
            "27/27 [==============================] - 0s 1ms/step - loss: 1.1373e-06 - mean_absolute_error: 0.0010\n"
          ]
        },
        {
          "output_type": "execute_result",
          "data": {
            "text/plain": [
              "<keras.callbacks.History at 0x7f2bbce91490>"
            ]
          },
          "metadata": {},
          "execution_count": 3
        }
      ]
    },
    {
      "cell_type": "code",
      "source": [
        "# Predict\n",
        "for c in range(0,100,10):\n",
        "  f_exp = (c * 9/5) + 32\n",
        "  print('%d degrees celsius should be %d degrees fahrenheit. Prediction: %f degrees fahrenheit' % (c, f_exp, model.predict([c])))\n",
        "\n",
        "print(model.layers[0].get_weights())"
      ],
      "metadata": {
        "id": "fxZSvRn2Hq4y",
        "outputId": "271992b3-4c74-421d-a1c0-52e5b1bc3600",
        "colab": {
          "base_uri": "https://localhost:8080/"
        }
      },
      "execution_count": 4,
      "outputs": [
        {
          "output_type": "stream",
          "name": "stdout",
          "text": [
            "0 degrees celsius should be 32 degrees fahrenheit. Prediction: 31.999107 degrees fahrenheit\n",
            "10 degrees celsius should be 50 degrees fahrenheit. Prediction: 49.999058 degrees fahrenheit\n",
            "20 degrees celsius should be 68 degrees fahrenheit. Prediction: 67.999008 degrees fahrenheit\n",
            "30 degrees celsius should be 86 degrees fahrenheit. Prediction: 85.998955 degrees fahrenheit\n",
            "40 degrees celsius should be 104 degrees fahrenheit. Prediction: 103.998909 degrees fahrenheit\n",
            "50 degrees celsius should be 122 degrees fahrenheit. Prediction: 121.998856 degrees fahrenheit\n",
            "60 degrees celsius should be 140 degrees fahrenheit. Prediction: 139.998810 degrees fahrenheit\n",
            "70 degrees celsius should be 158 degrees fahrenheit. Prediction: 157.998749 degrees fahrenheit\n",
            "80 degrees celsius should be 176 degrees fahrenheit. Prediction: 175.998718 degrees fahrenheit\n",
            "90 degrees celsius should be 194 degrees fahrenheit. Prediction: 193.998657 degrees fahrenheit\n",
            "[array([[1.799995]], dtype=float32), array([31.999107], dtype=float32)]\n"
          ]
        }
      ]
    },
    {
      "cell_type": "code",
      "source": [
        "# Show weights and bias\n",
        "weights = model.layers[0].get_weights()\n",
        "print('Weight: %f (Remember 9/5 = 1.8)' % weights[0])\n",
        "print('Bias: %f' % weights[1])"
      ],
      "metadata": {
        "id": "bkrYrseQK0Up",
        "outputId": "bfa843d6-d54f-4347-fb0b-bbba078f561e",
        "colab": {
          "base_uri": "https://localhost:8080/"
        }
      },
      "execution_count": 5,
      "outputs": [
        {
          "output_type": "stream",
          "name": "stdout",
          "text": [
            "Weight: 1.799995 (Remember 9/5 = 1.8)\n",
            "Bias: 31.999107\n"
          ]
        }
      ]
    },
    {
      "cell_type": "code",
      "source": [
        "# Save Model\n",
        "model.save(\"CtoF_Model.h5\")"
      ],
      "metadata": {
        "id": "IrjoXu7V8pVY"
      },
      "execution_count": null,
      "outputs": []
    },
    {
      "cell_type": "code",
      "source": [
        "# Download Model\n",
        "from google.colab import files\n",
        "files.download(\"CtoF_Model.h5\")"
      ],
      "metadata": {
        "id": "WupcMlGt850W",
        "outputId": "58845db9-4ecc-490a-9382-8d24420515cc",
        "colab": {
          "base_uri": "https://localhost:8080/",
          "height": 17
        }
      },
      "execution_count": null,
      "outputs": [
        {
          "output_type": "display_data",
          "data": {
            "text/plain": [
              "<IPython.core.display.Javascript object>"
            ],
            "application/javascript": [
              "\n",
              "    async function download(id, filename, size) {\n",
              "      if (!google.colab.kernel.accessAllowed) {\n",
              "        return;\n",
              "      }\n",
              "      const div = document.createElement('div');\n",
              "      const label = document.createElement('label');\n",
              "      label.textContent = `Downloading \"${filename}\": `;\n",
              "      div.appendChild(label);\n",
              "      const progress = document.createElement('progress');\n",
              "      progress.max = size;\n",
              "      div.appendChild(progress);\n",
              "      document.body.appendChild(div);\n",
              "\n",
              "      const buffers = [];\n",
              "      let downloaded = 0;\n",
              "\n",
              "      const channel = await google.colab.kernel.comms.open(id);\n",
              "      // Send a message to notify the kernel that we're ready.\n",
              "      channel.send({})\n",
              "\n",
              "      for await (const message of channel.messages) {\n",
              "        // Send a message to notify the kernel that we're ready.\n",
              "        channel.send({})\n",
              "        if (message.buffers) {\n",
              "          for (const buffer of message.buffers) {\n",
              "            buffers.push(buffer);\n",
              "            downloaded += buffer.byteLength;\n",
              "            progress.value = downloaded;\n",
              "          }\n",
              "        }\n",
              "      }\n",
              "      const blob = new Blob(buffers, {type: 'application/binary'});\n",
              "      const a = document.createElement('a');\n",
              "      a.href = window.URL.createObjectURL(blob);\n",
              "      a.download = filename;\n",
              "      div.appendChild(a);\n",
              "      a.click();\n",
              "      div.remove();\n",
              "    }\n",
              "  "
            ]
          },
          "metadata": {}
        },
        {
          "output_type": "display_data",
          "data": {
            "text/plain": [
              "<IPython.core.display.Javascript object>"
            ],
            "application/javascript": [
              "download(\"download_24ef6cd0-723d-430a-ad11-88c5c14f3264\", \"CtoF_Model.h5\", 19600)"
            ]
          },
          "metadata": {}
        }
      ]
    },
    {
      "cell_type": "code",
      "source": [
        "# Saved Model for Google Cloud\n",
        "tf.saved_model.save(model, \"CtoF\")"
      ],
      "metadata": {
        "id": "Opo3uNXsU4i2",
        "outputId": "5c7ff0b5-c5d1-4e44-ae3a-fab23843d92f",
        "colab": {
          "base_uri": "https://localhost:8080/"
        }
      },
      "execution_count": 6,
      "outputs": [
        {
          "output_type": "stream",
          "name": "stdout",
          "text": [
            "INFO:tensorflow:Assets written to: CtoF/assets\n"
          ]
        },
        {
          "output_type": "stream",
          "name": "stderr",
          "text": [
            "INFO:tensorflow:Assets written to: CtoF/assets\n"
          ]
        }
      ]
    },
    {
      "cell_type": "code",
      "source": [
        "# Download Model for Google Cloud\n",
        "from google.colab import files\n",
        "files.download(\"CtoF\")"
      ],
      "metadata": {
        "id": "076llvjwVq2P"
      },
      "execution_count": null,
      "outputs": []
    }
  ]
}