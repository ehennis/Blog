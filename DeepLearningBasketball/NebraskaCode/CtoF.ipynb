{
  "nbformat": 4,
  "nbformat_minor": 0,
  "metadata": {
    "colab": {
      "name": "CtoF.ipynb",
      "provenance": [],
      "authorship_tag": "ABX9TyON/JtTajfx6tq+ni37T+/F",
      "include_colab_link": true
    },
    "kernelspec": {
      "name": "python3",
      "display_name": "Python 3"
    },
    "language_info": {
      "name": "python"
    }
  },
  "cells": [
    {
      "cell_type": "markdown",
      "metadata": {
        "id": "view-in-github",
        "colab_type": "text"
      },
      "source": [
        "<a href=\"https://colab.research.google.com/github/ehennis/Blog/blob/master/DeepLearningBasketball/NebraskaCode/CtoF.ipynb\" target=\"_parent\"><img src=\"https://colab.research.google.com/assets/colab-badge.svg\" alt=\"Open In Colab\"/></a>"
      ]
    },
    {
      "cell_type": "markdown",
      "source": [
        "# Nebraska.Code\n",
        "\n",
        "## Convert Celsius to Fahrenheit using a neural network"
      ],
      "metadata": {
        "id": "K9ens_BxE2E4"
      }
    },
    {
      "cell_type": "code",
      "execution_count": 4,
      "metadata": {
        "id": "inynp1T1E1dl"
      },
      "outputs": [],
      "source": [
        "import tensorflow as tf\n",
        "from tensorflow import keras\n",
        "import numpy as np\n",
        "import matplotlib.pyplot as plt"
      ]
    },
    {
      "cell_type": "code",
      "source": [
        "# Generate DataSet\n",
        "fahrenheit = list(range(-212,212))\n",
        "celsius = [(f - 32) * 5 / 9 for f in fahrenheit]\n",
        "\n",
        "# Create simple neural network\n",
        "model = keras.Sequential([keras.layers.Dense(1, activation=None, input_shape=[1])])\n",
        "model.compile(loss='mean_squared_error', optimizer=keras.optimizers.Nadam(learning_rate=0.1),metrics=['mean_absolute_error'])\n"
      ],
      "metadata": {
        "id": "GtFVKsZPF6fT"
      },
      "execution_count": 21,
      "outputs": []
    },
    {
      "cell_type": "code",
      "source": [
        "# Train Network\n",
        "model.fit(x=celsius,y=fahrenheit,batch_size=16,epochs=50)"
      ],
      "metadata": {
        "id": "6Pfo-DdlHVCI"
      },
      "execution_count": null,
      "outputs": []
    },
    {
      "cell_type": "code",
      "source": [
        "# Predict\n",
        "for c in range(0,100,10):\n",
        "  f_exp = (c * 9/5) + 32\n",
        "  print('%d degrees celsius should be %d degrees fahrenheit. Prediction: %f degrees fahrenheit' % (c, f_exp, model.predict([c])))\n",
        "\n",
        "print(model.layers[0].get_weights())"
      ],
      "metadata": {
        "id": "fxZSvRn2Hq4y"
      },
      "execution_count": null,
      "outputs": []
    },
    {
      "cell_type": "code",
      "source": [
        "# Show weights and bias\n",
        "weights = model.layers[0].get_weights()\n",
        "print('Weight: %f (Remember 9/5 = 1.8)' % weights[0])\n",
        "print('Bias: %f' % weights[1])"
      ],
      "metadata": {
        "id": "bkrYrseQK0Up"
      },
      "execution_count": null,
      "outputs": []
    }
  ]
}