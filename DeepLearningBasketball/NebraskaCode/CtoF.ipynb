{
  "nbformat": 4,
  "nbformat_minor": 0,
  "metadata": {
    "colab": {
      "name": "CtoF.ipynb",
      "provenance": [],
      "authorship_tag": "ABX9TyN/CiQOSlulL1Rk/DDr8Bzl",
      "include_colab_link": true
    },
    "kernelspec": {
      "name": "python3",
      "display_name": "Python 3"
    },
    "language_info": {
      "name": "python"
    }
  },
  "cells": [
    {
      "cell_type": "markdown",
      "metadata": {
        "id": "view-in-github",
        "colab_type": "text"
      },
      "source": [
        "<a href=\"https://colab.research.google.com/github/ehennis/Blog/blob/master/DeepLearningBasketball/NebraskaCode/CtoF.ipynb\" target=\"_parent\"><img src=\"https://colab.research.google.com/assets/colab-badge.svg\" alt=\"Open In Colab\"/></a>"
      ]
    },
    {
      "cell_type": "markdown",
      "source": [
        "# Nebraska.Code\n",
        "\n",
        "## Convert Celsius to Fahrenheit using a neural network"
      ],
      "metadata": {
        "id": "K9ens_BxE2E4"
      }
    },
    {
      "cell_type": "code",
      "execution_count": 4,
      "metadata": {
        "id": "inynp1T1E1dl"
      },
      "outputs": [],
      "source": [
        "import tensorflow as tf\n",
        "from tensorflow import keras\n",
        "import numpy as np\n",
        "import matplotlib.pyplot as plt"
      ]
    },
    {
      "cell_type": "code",
      "source": [
        "# Generate DataSet\n",
        "fahrenheit = list(range(-212,212))\n",
        "celsius = [(f - 32) * 5 / 9 for f in fahrenheit]\n",
        "\n",
        "# Create simple neural network\n",
        "model = keras.Sequential([keras.layers.Dense(1, activation=None, input_shape=[1])])\n",
        "model.compile(loss='mean_squared_error', optimizer=keras.optimizers.Nadam(learning_rate=0.1),metrics=['mean_absolute_error'])\n"
      ],
      "metadata": {
        "id": "GtFVKsZPF6fT"
      },
      "execution_count": 21,
      "outputs": []
    },
    {
      "cell_type": "code",
      "source": [
        "# Train Network\n",
        "model.fit(x=celsius,y=fahrenheit,batch_size=16,epochs=50)"
      ],
      "metadata": {
        "id": "6Pfo-DdlHVCI"
      },
      "execution_count": null,
      "outputs": []
    },
    {
      "cell_type": "code",
      "source": [
        "# Predict\n",
        "for c in range(0,100,10):\n",
        "  f_exp = (c * 9/5) + 32\n",
        "  print('%d degrees celsius should be %d degrees fahrenheit. Prediction: %d degrees fahrenheit' % (c, f_exp, model.predict([c])))\n",
        "  \n",
        "print(model.layers[0].get_weights())"
      ],
      "metadata": {
        "colab": {
          "base_uri": "https://localhost:8080/"
        },
        "id": "fxZSvRn2Hq4y",
        "outputId": "290d559b-176c-494f-fdde-ee123c16bbee"
      },
      "execution_count": 32,
      "outputs": [
        {
          "output_type": "stream",
          "name": "stdout",
          "text": [
            "0 degrees celsius should be 32 degrees fahrenheit. Prediction: 31 degrees fahrenheit\n",
            "10 degrees celsius should be 50 degrees fahrenheit. Prediction: 49 degrees fahrenheit\n",
            "20 degrees celsius should be 68 degrees fahrenheit. Prediction: 67 degrees fahrenheit\n",
            "30 degrees celsius should be 86 degrees fahrenheit. Prediction: 85 degrees fahrenheit\n",
            "40 degrees celsius should be 104 degrees fahrenheit. Prediction: 103 degrees fahrenheit\n",
            "50 degrees celsius should be 122 degrees fahrenheit. Prediction: 121 degrees fahrenheit\n",
            "60 degrees celsius should be 140 degrees fahrenheit. Prediction: 139 degrees fahrenheit\n",
            "70 degrees celsius should be 158 degrees fahrenheit. Prediction: 157 degrees fahrenheit\n",
            "80 degrees celsius should be 176 degrees fahrenheit. Prediction: 175 degrees fahrenheit\n",
            "90 degrees celsius should be 194 degrees fahrenheit. Prediction: 193 degrees fahrenheit\n",
            "[array([[1.7999955]], dtype=float32), array([31.999397], dtype=float32)]\n"
          ]
        }
      ]
    },
    {
      "cell_type": "code",
      "source": [
        "# Show weights and bias\n",
        "weights = model.layers[0].get_weights()\n",
        "print('Weight: %f (Remember 9/5 = 1.8)' % weights[0])\n",
        "print('Bias: %f' % weights[1])"
      ],
      "metadata": {
        "colab": {
          "base_uri": "https://localhost:8080/"
        },
        "id": "bkrYrseQK0Up",
        "outputId": "f8100931-4284-4550-e5e2-575daec68803"
      },
      "execution_count": 31,
      "outputs": [
        {
          "output_type": "stream",
          "name": "stdout",
          "text": [
            "Weight: 1.799996 (Remember 9/5 = 1.8)\n",
            "Bias: 31.999397\n"
          ]
        }
      ]
    }
  ]
}