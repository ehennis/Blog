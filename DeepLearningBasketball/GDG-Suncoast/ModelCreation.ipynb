{
  "nbformat": 4,
  "nbformat_minor": 0,
  "metadata": {
    "colab": {
      "name": "ModelCreation.ipynb",
      "provenance": [],
      "authorship_tag": "ABX9TyOJRZ3q+rTAxmxGkClHuQXE",
      "include_colab_link": true
    },
    "kernelspec": {
      "name": "python3",
      "display_name": "Python 3"
    },
    "language_info": {
      "name": "python"
    }
  },
  "cells": [
    {
      "cell_type": "markdown",
      "metadata": {
        "id": "view-in-github",
        "colab_type": "text"
      },
      "source": [
        "<a href=\"https://colab.research.google.com/github/ehennis/Blog/blob/master/DeepLearningBasketball/GDG-Suncoast/ModelCreation.ipynb\" target=\"_parent\"><img src=\"https://colab.research.google.com/assets/colab-badge.svg\" alt=\"Open In Colab\"/></a>"
      ]
    },
    {
      "cell_type": "markdown",
      "source": [
        "# GDG Suncoast: Model Creation"
      ],
      "metadata": {
        "id": "eZrSHYKmWN4h"
      }
    },
    {
      "cell_type": "code",
      "source": [
        "from __future__ import absolute_import, division, print_function\n",
        "\n",
        "import tensorflow as tf\n",
        "from tensorflow import keras\n",
        "import pandas as pd\n",
        "import numpy as np\n",
        "import matplotlib.pyplot as plt"
      ],
      "metadata": {
        "id": "45DymIZlWDfE"
      },
      "execution_count": null,
      "outputs": []
    },
    {
      "cell_type": "markdown",
      "source": [
        "# Create the Neural Network Architecture"
      ],
      "metadata": {
        "id": "1FHv4rHGW1Bq"
      }
    },
    {
      "cell_type": "markdown",
      "source": [
        "### Parameters\n",
        "**Sequential** ([Documantaion](https://keras.io/api/models/sequential/)): A sequential network runs linearly through the layers.  \n",
        "**Dense** ([Documentaion](https://keras.io/api/layers/core_layers/dense/)): A densely connected network layer. This is the standard for most neural networks.  \n",
        "**Neurons/Units**: We set these to 32 to start. This is the dimensionality of the output space. Since we just want a final score differences we set the last value to 1.  \n",
        "**Input Shape**: This is the size of the data you are using to train. In our case, we have home team score, away team score, home team defense and away team defense. So, we set this value to 4.  \n",
        "**Activation** ([Documentation](https://keras.io/api/layers/activations/#relu-function)): We picked Recified Linear Unit (relu). Using trial and error you can determine which one is best for your data. There are some activations that are for specific network results.  \n",
        "**Optimizers** ([Documentation](https://keras.io/api/optimizers/rmsprop/)): Optimizers are used during training to try and find the global optimum which will lead to better results. We chose RMSProp as a general purpose optimizer.  \n",
        "**Metrics** ([Documentation](https://keras.io/api/metrics/)): This array determines what values are tracked and returned during training. We will use these to graph our results and determine how well our model is representing our data.  \n",
        "**Loss Function** ([Documentation](https://keras.io/api/losses/)): The loss function is what is computed to determine how good or bad our output matches our expected results."
      ],
      "metadata": {
        "id": "KYFb5JmuYD7H"
      }
    },
    {
      "cell_type": "code",
      "source": [
        "def Build_Model():\n",
        "  model = keras.models.Sequential([\n",
        "    keras.layers.Dense(32, activation='relu', input_shape=[4]),\n",
        "    keras.layers.Dense(32, activation='relu'),\n",
        "    keras.layers.Dense(1)                                   \n",
        "  ])\n",
        "  \n",
        "  opt = keras.optimizers.RMSprop()\n",
        "  m = [\n",
        "       keras.metrics.MeanAbsoluteError(),\n",
        "       keras.metrics.Accuracy(),\n",
        "       keras.metrics.MeanSquaredError()\n",
        "  ]\n",
        "  l = keras.losses.MeanSquaredError()\n",
        "  \n",
        "  model.compile(loss=l, optimizer=opt, metrics=m)\n",
        "  return model"
      ],
      "metadata": {
        "id": "QtsOInLIYNbq"
      },
      "execution_count": null,
      "outputs": []
    },
    {
      "cell_type": "code",
      "source": [
        "bballmodel = Build_Model()"
      ],
      "metadata": {
        "id": "UZwkeF_KYRXr"
      },
      "execution_count": null,
      "outputs": []
    },
    {
      "cell_type": "code",
      "source": [
        "# This method will be used in place of the normal output. This is cleaner in my opinion\n",
        "class PrintDoc(keras.callbacks.Callback):\n",
        "  def on_epoch_end(self, epoch, logs):\n",
        "    if epoch % 10 == 0: print('')\n",
        "    print('.', end='')"
      ],
      "metadata": {
        "id": "amsu5jbiYUEf"
      },
      "execution_count": null,
      "outputs": []
    },
    {
      "cell_type": "markdown",
      "source": [
        "### Model Complexity  \n",
        "I am going to take this section to talk about the complexity of the model as well as high bias and high variance.\n",
        "\n",
        "**Bias**: A model with low model complexity with a high error rate is said to have high bias. The high bias comes from underfitting the data.  \n",
        "\n",
        "**Variance**: A model with high complexity with a high error rate is said to have high variance. The high variance comes from overfitting the data."
      ],
      "metadata": {
        "id": "6roeoEGUYZgO"
      }
    },
    {
      "cell_type": "markdown",
      "source": [
        "# Train/Test/Validate"
      ],
      "metadata": {
        "id": "kKSn82E_YpEi"
      }
    },
    {
      "cell_type": "code",
      "source": [
        "#Load the data set from the previous colab (already created cleaned data)\n",
        "column_names = ['Date','HomeTeam','HomeScore','AwayTeam','AwayScore',\n",
        "                'HomeScoreAverage','HomeDefenseAverage','AwayScoreAverage','AwayDefenseAverage',\n",
        "                'Result']\n",
        "\n",
        "games_csv = 'https://raw.githubusercontent.com/ehennis/Blog/master/DeepLearningBasketball/NebraskaCode/Data/Games-Calculated.csv'\n",
        "all_data = pd.read_csv(games_csv, header=None, names=column_names)\n",
        "all_data.head()"
      ],
      "metadata": {
        "id": "SgK4GgIRYapc"
      },
      "execution_count": null,
      "outputs": []
    },
    {
      "cell_type": "markdown",
      "source": [
        "## Create the Train/Test/Validate data sets  "
      ],
      "metadata": {
        "id": "6_QpXqvkaxCI"
      }
    },
    {
      "cell_type": "markdown",
      "source": [
        "### All about data  \n",
        "When training a network we need to send in data for it to learn. We can't then use the same data to test if it is learning. It would be like working a problem in school and then get that same problem on the test. All it proves is you know that data. We need the model to generalize the data versus knowing the actual data.\n",
        "\n",
        "**Generalization** is a term used to describe the model's ability to understand new data it hasn't seen before. In this project, we need to generalize to all games in the future versus the individual games in the past. When the model doesn't generalize it gets into a scenario where it overfits.  \n",
        "\n",
        "**Overfitting** is a term used to describe when the model only learns the data it has versus the new data. You can see this visually in the graph of the errors resulting from training. You will see that your training errors will decrease while your validation errors will start to increase again.  \n",
        "\n",
        "### Splits  \n",
        "As stated above, we need to ensure we don't overfit to the data. To handle this we need to separate the data into 3 data sets (With the way Keras handles the validation within the network we only create 2). In my example, I used 80% of train (which will get split 80/20 for validation) and 20% for testing. This allows me plenty of randomized data to test my model.  \n",
        "\n",
        "### Data Labels  \n",
        "You will notice that I remove the *Results* column and name those as the labels. The labels are used as the answers or truth in the network. When the network gets the data it will then try and predict its own label and compare it versus the correct label. After they get the error (we use mean square error) it uses an algorithm called backpropagation to go back through all the weights and biases in the nodes to attempt to get the answer correct next time.  \n",
        "\n",
        "### Data Normalization  \n",
        "At the end of the code I normalize all of the data. The reason for me doing this is to ensure that the scale of the values are all similiar. If our first input ranges from 30 to 120 and the second input ranges from 2 to 10 the first input will have an outsized impact on our learning."
      ],
      "metadata": {
        "id": "Zvdac4HfYzWQ"
      }
    },
    {
      "cell_type": "code",
      "source": [
        "# Drop the columns that we are NOT going to train on\n",
        "all_data.drop(['Date','HomeTeam','HomeScore','AwayTeam','AwayScore'], axis=1, inplace=True)\n",
        "all_data.tail()\n",
        "\n",
        "#Break it into 80/20 splits\n",
        "train = all_data.sample(frac=0.8, random_state=0)\n",
        "test = all_data.drop(train.index)\n",
        "print('Training Size: %s' % train.shape[0])\n",
        "print('Testing Size: %s' % test.shape[0])\n",
        "\n",
        "#Create the labels\n",
        "train_labels = train.pop('Result')\n",
        "test_labels = test.pop('Result')\n",
        "\n",
        "# Normalize the data\n",
        "mean = train.mean(axis=0)\n",
        "train_data = train - mean\n",
        "std = train_data.std(axis=0)\n",
        "train_data /= std\n",
        "\n",
        "test_data = test - mean\n",
        "test_data /= std"
      ],
      "metadata": {
        "colab": {
          "base_uri": "https://localhost:8080/"
        },
        "id": "5we3jlQTY6LK",
        "outputId": "03e756d2-4c14-4ecf-c612-1a7670242005"
      },
      "execution_count": null,
      "outputs": [
        {
          "output_type": "stream",
          "name": "stdout",
          "text": [
            "Training Size: 16128\n",
            "Testing Size: 4032\n"
          ]
        }
      ]
    },
    {
      "cell_type": "markdown",
      "source": [
        "## Training\n",
        "\n",
        "**Parameter**  \n",
        "`fit` ([Documentation](https://keras.io/api/models/model_training_apis/#fit-method)): Fit is the method that does the training. We pass in our training values, our expected results, the number of epochs to train, the validation split, the level of logging, and finally we pass in our printing method."
      ],
      "metadata": {
        "id": "PomOf0uCY9uc"
      }
    },
    {
      "cell_type": "code",
      "source": [
        "history = bballmodel.fit(train_data, train_labels, epochs=100, validation_split=0.2, verbose=0, callbacks=[PrintDoc()])"
      ],
      "metadata": {
        "colab": {
          "base_uri": "https://localhost:8080/"
        },
        "id": "tIzSJYQNZJSB",
        "outputId": "27c660cd-8453-43cb-f5d1-5f12c242b6e4"
      },
      "execution_count": null,
      "outputs": [
        {
          "output_type": "stream",
          "name": "stdout",
          "text": [
            "\n",
            "..........\n",
            "..........\n",
            "..........\n",
            "..........\n",
            "..........\n",
            "..........\n",
            "..........\n",
            "..........\n",
            "..........\n",
            ".........."
          ]
        }
      ]
    },
    {
      "cell_type": "code",
      "source": [
        "# Check the results\n",
        "# Create a DataFrame from the output from the fit method\n",
        "hist = pd.DataFrame(history.history)\n",
        "# Create an epoch column and set it to the epoch index\n",
        "hist['epoch'] = history.epoch\n",
        "hist.tail()"
      ],
      "metadata": {
        "colab": {
          "base_uri": "https://localhost:8080/",
          "height": 206
        },
        "id": "zsXarySKZM91",
        "outputId": "1410e720-dc56-4096-a139-e137cb83c757"
      },
      "execution_count": null,
      "outputs": [
        {
          "output_type": "execute_result",
          "data": {
            "text/plain": [
              "         loss  mean_absolute_error  accuracy  mean_squared_error   val_loss  \\\n",
              "95  90.679527             7.301902       0.0           90.679527  85.906212   \n",
              "96  90.670853             7.299296       0.0           90.670853  86.134315   \n",
              "97  90.580666             7.294621       0.0           90.580666  85.861504   \n",
              "98  90.694855             7.302468       0.0           90.694855  86.201981   \n",
              "99  90.678871             7.296271       0.0           90.678871  85.584167   \n",
              "\n",
              "    val_mean_absolute_error  val_accuracy  val_mean_squared_error  epoch  \n",
              "95                 7.126376           0.0               85.906212     95  \n",
              "96                 7.136374           0.0               86.134315     96  \n",
              "97                 7.127809           0.0               85.861504     97  \n",
              "98                 7.145713           0.0               86.201981     98  \n",
              "99                 7.118531           0.0               85.584167     99  "
            ],
            "text/html": [
              "\n",
              "  <div id=\"df-50698326-7319-48bb-bdeb-ed56abf837c5\">\n",
              "    <div class=\"colab-df-container\">\n",
              "      <div>\n",
              "<style scoped>\n",
              "    .dataframe tbody tr th:only-of-type {\n",
              "        vertical-align: middle;\n",
              "    }\n",
              "\n",
              "    .dataframe tbody tr th {\n",
              "        vertical-align: top;\n",
              "    }\n",
              "\n",
              "    .dataframe thead th {\n",
              "        text-align: right;\n",
              "    }\n",
              "</style>\n",
              "<table border=\"1\" class=\"dataframe\">\n",
              "  <thead>\n",
              "    <tr style=\"text-align: right;\">\n",
              "      <th></th>\n",
              "      <th>loss</th>\n",
              "      <th>mean_absolute_error</th>\n",
              "      <th>accuracy</th>\n",
              "      <th>mean_squared_error</th>\n",
              "      <th>val_loss</th>\n",
              "      <th>val_mean_absolute_error</th>\n",
              "      <th>val_accuracy</th>\n",
              "      <th>val_mean_squared_error</th>\n",
              "      <th>epoch</th>\n",
              "    </tr>\n",
              "  </thead>\n",
              "  <tbody>\n",
              "    <tr>\n",
              "      <th>95</th>\n",
              "      <td>90.679527</td>\n",
              "      <td>7.301902</td>\n",
              "      <td>0.0</td>\n",
              "      <td>90.679527</td>\n",
              "      <td>85.906212</td>\n",
              "      <td>7.126376</td>\n",
              "      <td>0.0</td>\n",
              "      <td>85.906212</td>\n",
              "      <td>95</td>\n",
              "    </tr>\n",
              "    <tr>\n",
              "      <th>96</th>\n",
              "      <td>90.670853</td>\n",
              "      <td>7.299296</td>\n",
              "      <td>0.0</td>\n",
              "      <td>90.670853</td>\n",
              "      <td>86.134315</td>\n",
              "      <td>7.136374</td>\n",
              "      <td>0.0</td>\n",
              "      <td>86.134315</td>\n",
              "      <td>96</td>\n",
              "    </tr>\n",
              "    <tr>\n",
              "      <th>97</th>\n",
              "      <td>90.580666</td>\n",
              "      <td>7.294621</td>\n",
              "      <td>0.0</td>\n",
              "      <td>90.580666</td>\n",
              "      <td>85.861504</td>\n",
              "      <td>7.127809</td>\n",
              "      <td>0.0</td>\n",
              "      <td>85.861504</td>\n",
              "      <td>97</td>\n",
              "    </tr>\n",
              "    <tr>\n",
              "      <th>98</th>\n",
              "      <td>90.694855</td>\n",
              "      <td>7.302468</td>\n",
              "      <td>0.0</td>\n",
              "      <td>90.694855</td>\n",
              "      <td>86.201981</td>\n",
              "      <td>7.145713</td>\n",
              "      <td>0.0</td>\n",
              "      <td>86.201981</td>\n",
              "      <td>98</td>\n",
              "    </tr>\n",
              "    <tr>\n",
              "      <th>99</th>\n",
              "      <td>90.678871</td>\n",
              "      <td>7.296271</td>\n",
              "      <td>0.0</td>\n",
              "      <td>90.678871</td>\n",
              "      <td>85.584167</td>\n",
              "      <td>7.118531</td>\n",
              "      <td>0.0</td>\n",
              "      <td>85.584167</td>\n",
              "      <td>99</td>\n",
              "    </tr>\n",
              "  </tbody>\n",
              "</table>\n",
              "</div>\n",
              "      <button class=\"colab-df-convert\" onclick=\"convertToInteractive('df-50698326-7319-48bb-bdeb-ed56abf837c5')\"\n",
              "              title=\"Convert this dataframe to an interactive table.\"\n",
              "              style=\"display:none;\">\n",
              "        \n",
              "  <svg xmlns=\"http://www.w3.org/2000/svg\" height=\"24px\"viewBox=\"0 0 24 24\"\n",
              "       width=\"24px\">\n",
              "    <path d=\"M0 0h24v24H0V0z\" fill=\"none\"/>\n",
              "    <path d=\"M18.56 5.44l.94 2.06.94-2.06 2.06-.94-2.06-.94-.94-2.06-.94 2.06-2.06.94zm-11 1L8.5 8.5l.94-2.06 2.06-.94-2.06-.94L8.5 2.5l-.94 2.06-2.06.94zm10 10l.94 2.06.94-2.06 2.06-.94-2.06-.94-.94-2.06-.94 2.06-2.06.94z\"/><path d=\"M17.41 7.96l-1.37-1.37c-.4-.4-.92-.59-1.43-.59-.52 0-1.04.2-1.43.59L10.3 9.45l-7.72 7.72c-.78.78-.78 2.05 0 2.83L4 21.41c.39.39.9.59 1.41.59.51 0 1.02-.2 1.41-.59l7.78-7.78 2.81-2.81c.8-.78.8-2.07 0-2.86zM5.41 20L4 18.59l7.72-7.72 1.47 1.35L5.41 20z\"/>\n",
              "  </svg>\n",
              "      </button>\n",
              "      \n",
              "  <style>\n",
              "    .colab-df-container {\n",
              "      display:flex;\n",
              "      flex-wrap:wrap;\n",
              "      gap: 12px;\n",
              "    }\n",
              "\n",
              "    .colab-df-convert {\n",
              "      background-color: #E8F0FE;\n",
              "      border: none;\n",
              "      border-radius: 50%;\n",
              "      cursor: pointer;\n",
              "      display: none;\n",
              "      fill: #1967D2;\n",
              "      height: 32px;\n",
              "      padding: 0 0 0 0;\n",
              "      width: 32px;\n",
              "    }\n",
              "\n",
              "    .colab-df-convert:hover {\n",
              "      background-color: #E2EBFA;\n",
              "      box-shadow: 0px 1px 2px rgba(60, 64, 67, 0.3), 0px 1px 3px 1px rgba(60, 64, 67, 0.15);\n",
              "      fill: #174EA6;\n",
              "    }\n",
              "\n",
              "    [theme=dark] .colab-df-convert {\n",
              "      background-color: #3B4455;\n",
              "      fill: #D2E3FC;\n",
              "    }\n",
              "\n",
              "    [theme=dark] .colab-df-convert:hover {\n",
              "      background-color: #434B5C;\n",
              "      box-shadow: 0px 1px 3px 1px rgba(0, 0, 0, 0.15);\n",
              "      filter: drop-shadow(0px 1px 2px rgba(0, 0, 0, 0.3));\n",
              "      fill: #FFFFFF;\n",
              "    }\n",
              "  </style>\n",
              "\n",
              "      <script>\n",
              "        const buttonEl =\n",
              "          document.querySelector('#df-50698326-7319-48bb-bdeb-ed56abf837c5 button.colab-df-convert');\n",
              "        buttonEl.style.display =\n",
              "          google.colab.kernel.accessAllowed ? 'block' : 'none';\n",
              "\n",
              "        async function convertToInteractive(key) {\n",
              "          const element = document.querySelector('#df-50698326-7319-48bb-bdeb-ed56abf837c5');\n",
              "          const dataTable =\n",
              "            await google.colab.kernel.invokeFunction('convertToInteractive',\n",
              "                                                     [key], {});\n",
              "          if (!dataTable) return;\n",
              "\n",
              "          const docLinkHtml = 'Like what you see? Visit the ' +\n",
              "            '<a target=\"_blank\" href=https://colab.research.google.com/notebooks/data_table.ipynb>data table notebook</a>'\n",
              "            + ' to learn more about interactive tables.';\n",
              "          element.innerHTML = '';\n",
              "          dataTable['output_type'] = 'display_data';\n",
              "          await google.colab.output.renderOutput(dataTable, element);\n",
              "          const docLink = document.createElement('div');\n",
              "          docLink.innerHTML = docLinkHtml;\n",
              "          element.appendChild(docLink);\n",
              "        }\n",
              "      </script>\n",
              "    </div>\n",
              "  </div>\n",
              "  "
            ]
          },
          "metadata": {},
          "execution_count": 8
        }
      ]
    },
    {
      "cell_type": "markdown",
      "source": [
        "### Graph the results"
      ],
      "metadata": {
        "id": "v2NBm9LDZQ6g"
      }
    },
    {
      "cell_type": "code",
      "source": [
        "def plot_history(history):\n",
        "  plt.figure()\n",
        "  plt.xlabel('Epoch')\n",
        "  plt.ylabel('Mean Absolute Error')\n",
        "  plt.plot(history['epoch'], history['mean_absolute_error'],\n",
        "           label='Train Mean Absolute Error')\n",
        "  plt.plot(history['epoch'], history['val_mean_absolute_error'],\n",
        "           label = 'Val Mean Absolute Error')\n",
        "  plt.legend()\n",
        "  #plt.ylim([0,1])\n",
        "  plt.show()\n",
        "\n",
        "plot_history(hist)"
      ],
      "metadata": {
        "colab": {
          "base_uri": "https://localhost:8080/",
          "height": 279
        },
        "id": "n3-IOXTVZPxb",
        "outputId": "d6b74c6a-cfdd-497f-ea27-b79b2569f2f5"
      },
      "execution_count": null,
      "outputs": [
        {
          "output_type": "display_data",
          "data": {
            "text/plain": [
              "<Figure size 432x288 with 1 Axes>"
            ],
            "image/png": "[encoded data removed]"
          },
          "metadata": {
            "needs_background": "light"
          }
        }
      ]
    },
    {
      "cell_type": "markdown",
      "source": [
        "### Graph Meaning  \n",
        "Your graph might vary but there are certain things that I like to look at when determining if my network is up to the standard expected.  \n",
        "1. Overfitting: Does the validation error graph start to increase at the end. If it starts going up we have trained too much  \n",
        "2. Epochs: Do I need to train longer or shorter. In my case, my validation error levels off around 20 epochs. I could look into uses less epochs.\n",
        "3. Error Rate: After I make sure that my training looks good I check to see if the error rate is acceptable. 7 points of variance is quite a lot when it comes to a basketball game. That is the difference between a win and losing by 6. But, since humans are involved and I don't have unlimited resources I am happy with this value. In a later milestone we do some tuning to try and lower this."
      ],
      "metadata": {
        "id": "_gKUyVVlZW1L"
      }
    },
    {
      "cell_type": "markdown",
      "source": [
        "### Overfitting"
      ],
      "metadata": {
        "id": "WvUJvKpdZ6ng"
      }
    },
    {
      "cell_type": "code",
      "source": [
        "overfitmodel = Build_Model()\n",
        "history_overfit = overfitmodel.fit(train_data, train_labels, epochs=1000, validation_split=0.2, verbose=0, callbacks=[PrintDoc()])"
      ],
      "metadata": {
        "colab": {
          "base_uri": "https://localhost:8080/"
        },
        "id": "zBUHB7YYaERD",
        "outputId": "ea5473b4-ca74-4c21-d4f0-5771a0187310"
      },
      "execution_count": null,
      "outputs": [
        {
          "output_type": "stream",
          "name": "stdout",
          "text": [
            "\n",
            "..........\n",
            "..........\n",
            "..........\n",
            "..........\n",
            "..........\n",
            "..........\n",
            "..........\n",
            "..........\n",
            "..........\n",
            "..........\n",
            "..........\n",
            "..........\n",
            "..........\n",
            "..........\n",
            "..........\n",
            "..........\n",
            "..........\n",
            "..........\n",
            "..........\n",
            "..........\n",
            "..........\n",
            "..........\n",
            "..........\n",
            "..........\n",
            "..........\n",
            "..........\n",
            "..........\n",
            "..........\n",
            "..........\n",
            "..........\n",
            "..........\n",
            "..........\n",
            "..........\n",
            "..........\n",
            "..........\n",
            "..........\n",
            "..........\n",
            "..........\n",
            "..........\n",
            "..........\n",
            "..........\n",
            "..........\n",
            "..........\n",
            "..........\n",
            "..........\n",
            "..........\n",
            "..........\n",
            "..........\n",
            "..........\n",
            "..........\n",
            "..........\n",
            "..........\n",
            "..........\n",
            "..........\n",
            "..........\n",
            "..........\n",
            "..........\n",
            "..........\n",
            "..........\n",
            "..........\n",
            "..........\n",
            "..........\n",
            "..........\n",
            "..........\n",
            "..........\n",
            "..........\n",
            "..........\n",
            "..........\n",
            "..........\n",
            "..........\n",
            "..........\n",
            "..........\n",
            "..........\n",
            "..........\n",
            "..........\n",
            "..........\n",
            "..........\n",
            "..........\n",
            "..........\n",
            "..........\n",
            "..........\n",
            "..........\n",
            "..........\n",
            "..........\n",
            "..........\n",
            "..........\n",
            "..........\n",
            "..........\n",
            "..........\n",
            "..........\n",
            "..........\n",
            "..........\n",
            "..........\n",
            "..........\n",
            "..........\n",
            "..........\n",
            "....."
          ]
        }
      ]
    },
    {
      "cell_type": "code",
      "source": [
        "# Check the results\n",
        "# Create a DataFrame from the output from the fit method\n",
        "hist_overfit = pd.DataFrame(history_overfit.history)\n",
        "# Create an epoch column and set it to the epoch index\n",
        "hist_overfit['epoch'] = history_overfit.epoch\n",
        "\n",
        "plot_history(hist_overfit)"
      ],
      "metadata": {
        "id": "W14sdYl9aPif"
      },
      "execution_count": null,
      "outputs": []
    },
    {
      "cell_type": "markdown",
      "source": [
        "## Hyper Parameter Tuning"
      ],
      "metadata": {
        "id": "YHACr8d1bCLx"
      }
    },
    {
      "cell_type": "markdown",
      "source": [
        "Unless you are lucky, your first model architecture won't be perfect. This milestone is attempting to find the optimal parameters for your neural network. Below, I will try with different layers, different neuron counts, and different activation functions.  \n",
        "\n",
        "First, I am going to try different amounts of neurons in the layers. From there, I will take the winner and change the activation function. Once I have that picked out, I will change the optimizer.\n",
        "\n",
        "### Layers and Neurons  \n",
        "We can adjust the complexity of the model but varying the number of layers and the neurons inside of them. Our only limitation is that our input layer has to match our data and our output layer needs to give us a number.  \n",
        "\n",
        "One thing to keep in mind is that the more complexity of your model the more data it will take to generalize it. This is because the network has so many paths through it that it will give the exact result of game versus having multiple games go through that same path.\n",
        "\n",
        "### Activation Function  \n",
        "The activation function determines how each neuron is adjusted based on the error. In our case, if the expected result was 5 and the actual was 3 that means the activation function will pass in the error into its function and then adjust the neuron accordingly.\n",
        "\n",
        "We started with `relu` and will try `sigmoid` and `softmax`. \n",
        "\n",
        "**RELU**: Rectified Linear Unit. It is a very quickly converging. This function will return a positive value. Equation: $$relu(x) = max(x,0)$$  \n",
        "**Softmax**: This function will also return a postivie value but from 0 to 1. It converts a real vector to a vector of categorical probabilities. Equation: $$softmax(x_i) = \\frac{exp(x_i)}{\\sum_{0}^{k}exp(x_k)}$$  \n",
        "**Sigmoid**: This function will also return a postive value from 0 to 1. It is equivalent to a 2-element Softmax. Equation: $$sigmoid(x) = \\frac{1}{(1 + exp(-x))}$$  \n",
        "\n",
        "Available Keras activation functions: [https://keras.io/api/layers/activations/](https://keras.io/api/layers/activations/).  \n",
        "\n",
        "### Optimizer  \n",
        "**RMSProp** [Link](https://keras.io/api/optimizers/rmsprop/): Maintains a moving average of the squares of the gradients and divides the gradient by the root of this average.  \n",
        "**SDG (stochastic gradient descent)** [Link](https://keras.io/api/optimizers/sgd/): A basic gradient descent optimizer.  \n",
        "**Adam** [Link](https://keras.io/api/optimizers/adam/): Adam is based on SDG but uses adaptive estimation of the first and second order moments.  \n",
        "**Adamax** [Link](https://keras.io/api/optimizers/adamax/): Adamax is a variation of Adam based on the infinity norm.    \n",
        "\n",
        "Available Keras optimizers: [https://keras.io/api/optimizers/](https://keras.io/api/optimizers/)"
      ],
      "metadata": {
        "id": "FBEdnuHdbKKn"
      }
    },
    {
      "cell_type": "code",
      "source": [
        "# Original Model\n",
        "_, orig_mean_absolute_error, _, _ = bballmodel.evaluate(test_data, test_labels, verbose=0)"
      ],
      "metadata": {
        "id": "c6w6jczRbbzs"
      },
      "execution_count": null,
      "outputs": []
    },
    {
      "cell_type": "markdown",
      "source": [
        "### Less Neutrons\n",
        "32 -> 24, 12, 8"
      ],
      "metadata": {
        "id": "kw2hM_CIb0hi"
      }
    },
    {
      "cell_type": "code",
      "source": [
        "def Build_Model_24Neutrons():\n",
        "  model = keras.models.Sequential([\n",
        "    keras.layers.Dense(24, activation='relu', input_shape=[4]),\n",
        "    keras.layers.Dense(24, activation='relu'),\n",
        "    keras.layers.Dense(1)                                   \n",
        "  ])\n",
        "  \n",
        "  opt = keras.optimizers.RMSprop()\n",
        "  m = [\n",
        "       keras.metrics.MeanAbsoluteError(),\n",
        "       keras.metrics.Accuracy(),\n",
        "       keras.metrics.MeanSquaredError()\n",
        "  ]\n",
        "  l = keras.losses.MeanSquaredError()\n",
        "  \n",
        "  model.compile(loss=l, optimizer=opt, metrics=m)\n",
        "  return model\n",
        "\n",
        "def Build_Model_12Neutrons():\n",
        "  model = keras.models.Sequential([\n",
        "    keras.layers.Dense(12, activation='relu', input_shape=[4]),\n",
        "    keras.layers.Dense(12, activation='relu'),\n",
        "    keras.layers.Dense(1)                                   \n",
        "  ])\n",
        "  \n",
        "  opt = keras.optimizers.RMSprop()\n",
        "  m = [\n",
        "       keras.metrics.MeanAbsoluteError(),\n",
        "       keras.metrics.Accuracy(),\n",
        "       keras.metrics.MeanSquaredError()\n",
        "  ]\n",
        "  l = keras.losses.MeanSquaredError()\n",
        "  \n",
        "  model.compile(loss=l, optimizer=opt, metrics=m)\n",
        "  return model\n",
        "\n",
        "def Build_Model_8Neutrons():\n",
        "  model = keras.models.Sequential([\n",
        "    keras.layers.Dense(8, activation='relu', input_shape=[4]),\n",
        "    keras.layers.Dense(8, activation='relu'),\n",
        "    keras.layers.Dense(1)                                   \n",
        "  ])\n",
        "  \n",
        "  opt = keras.optimizers.RMSprop()\n",
        "  m = [\n",
        "       keras.metrics.MeanAbsoluteError(),\n",
        "       keras.metrics.Accuracy(),\n",
        "       keras.metrics.MeanSquaredError()\n",
        "  ]\n",
        "  l = keras.losses.MeanSquaredError()\n",
        "  \n",
        "  model.compile(loss=l, optimizer=opt, metrics=m)\n",
        "  return model"
      ],
      "metadata": {
        "id": "E_Wu0f3Yb5-T"
      },
      "execution_count": null,
      "outputs": []
    },
    {
      "cell_type": "code",
      "source": [
        "m8 = Build_Model_8Neutrons()\n",
        "m8_history = m8.fit(train_data, train_labels, epochs=100, validation_split=0.2, verbose=0, callbacks=[PrintDoc()])\n",
        "\n",
        "m12 = Build_Model_12Neutrons()\n",
        "m12_history = m12.fit(train_data, train_labels, epochs=100, validation_split=0.2, verbose=0, callbacks=[PrintDoc()])\n",
        "\n",
        "m24 = Build_Model_24Neutrons()\n",
        "m24_history = m24.fit(train_data, train_labels, epochs=100, validation_split=0.2, verbose=0, callbacks=[PrintDoc()])"
      ],
      "metadata": {
        "id": "sQCXSfB7b-Dz"
      },
      "execution_count": null,
      "outputs": []
    },
    {
      "cell_type": "code",
      "source": [
        "# Grab Their Results\n",
        "_, m8_mean_absolute_error, _, _ = m8.evaluate(test_data, test_labels,verbose=0)\n",
        "print('8 Neurons model: %s' % m8_mean_absolute_error)\n",
        "\n",
        "_, m12_mean_absolute_error, _, _ = m12.evaluate(test_data, test_labels,verbose=0)\n",
        "print('12 Neurons model: %s' % m12_mean_absolute_error)\n",
        "\n",
        "_, m24_mean_absolute_error, _, _ = m24.evaluate(test_data, test_labels,verbose=0)\n",
        "print('24 Neurons model: %s' % m24_mean_absolute_error)\n",
        "\n",
        "print('Milestone 3 model: %s' % orig_mean_absolute_error)"
      ],
      "metadata": {
        "id": "HLtWr--ScE45"
      },
      "execution_count": null,
      "outputs": []
    },
    {
      "cell_type": "markdown",
      "source": [
        "**Winner**: 24 Neurons"
      ],
      "metadata": {
        "id": "yzCtKD5ZcJLf"
      }
    },
    {
      "cell_type": "markdown",
      "source": [
        "### Activiation Functions\n",
        "RELU (rectified linear unit) -> Sigmoid, Softmax"
      ],
      "metadata": {
        "id": "CqC5ek6jcOSW"
      }
    },
    {
      "cell_type": "code",
      "source": [
        "def Build_Model_Sigmoid():\n",
        "  model = keras.models.Sequential([\n",
        "    keras.layers.Dense(24, activation='sigmoid', input_shape=[4]),\n",
        "    keras.layers.Dense(24, activation='sigmoid'),\n",
        "    keras.layers.Dense(1)                                   \n",
        "  ])\n",
        "  \n",
        "  opt = keras.optimizers.RMSprop()\n",
        "  m = [\n",
        "       keras.metrics.MeanAbsoluteError(),\n",
        "       keras.metrics.Accuracy(),\n",
        "       keras.metrics.MeanSquaredError()\n",
        "  ]\n",
        "  l = keras.losses.MeanSquaredError()\n",
        "  \n",
        "  model.compile(loss=l, optimizer=opt, metrics=m)\n",
        "  return model\n",
        "\n",
        "def Build_Model_Softmax():\n",
        "  model = keras.models.Sequential([\n",
        "    keras.layers.Dense(24, activation='softmax', input_shape=[4]),\n",
        "    keras.layers.Dense(24, activation='softmax'),\n",
        "    keras.layers.Dense(1)                                   \n",
        "  ])\n",
        "  \n",
        "  opt = keras.optimizers.RMSprop()\n",
        "  m = [\n",
        "       keras.metrics.MeanAbsoluteError(),\n",
        "       keras.metrics.Accuracy(),\n",
        "       keras.metrics.MeanSquaredError()\n",
        "  ]\n",
        "  l = keras.losses.MeanSquaredError()\n",
        "  \n",
        "  model.compile(loss=l, optimizer=opt, metrics=m)\n",
        "  return model"
      ],
      "metadata": {
        "id": "Ry4pZsrmcYX_"
      },
      "execution_count": null,
      "outputs": []
    },
    {
      "cell_type": "code",
      "source": [
        "# Train the networks\n",
        "msg = Build_Model_Sigmoid()\n",
        "msg_history = msg.fit(train_data, train_labels, epochs=100, validation_split=0.2, verbose=0, callbacks=[PrintDoc()])\n",
        "\n",
        "msm = Build_Model_Softmax()\n",
        "msm_history = msm.fit(train_data, train_labels, epochs=100, validation_split=0.2, verbose=0, callbacks=[PrintDoc()])"
      ],
      "metadata": {
        "id": "VOsc4gN0cbp1"
      },
      "execution_count": null,
      "outputs": []
    },
    {
      "cell_type": "code",
      "source": [
        "_, msg_mean_absolute_error, _, _ = msg.evaluate(test_data, test_labels,verbose=0)\n",
        "print('Sigmoid model: %s' % msg_mean_absolute_error)\n",
        "\n",
        "_, msm_mean_absolute_error, _, _ = msm.evaluate(test_data, test_labels,verbose=0)\n",
        "print('Softmax model: %s' % msm_mean_absolute_error)\n",
        "\n",
        "\n",
        "print('24 Neuron model: %s' % m24_mean_absolute_error)"
      ],
      "metadata": {
        "id": "_u4g8eAuceGQ"
      },
      "execution_count": null,
      "outputs": []
    },
    {
      "cell_type": "markdown",
      "source": [
        "**Winner**: Still the 24 neurons with relu"
      ],
      "metadata": {
        "id": "YZXgCQiJcfNr"
      }
    },
    {
      "cell_type": "markdown",
      "source": [
        "### Optimizers\n",
        "RMSProp -> SDG (stochastic gradient descent), Adam, Adamax"
      ],
      "metadata": {
        "id": "nqB8-Vy2cjo7"
      }
    },
    {
      "cell_type": "code",
      "source": [
        "def Build_Model_SDG():\n",
        "  model = keras.models.Sequential([\n",
        "    keras.layers.Dense(24, activation='relu', input_shape=[4]),\n",
        "    keras.layers.Dense(24, activation='relu'),\n",
        "    keras.layers.Dense(1)                                   \n",
        "  ])\n",
        "  \n",
        "  opt = keras.optimizers.SGD()\n",
        "  m = [\n",
        "       keras.metrics.MeanAbsoluteError(),\n",
        "       keras.metrics.Accuracy(),\n",
        "       keras.metrics.MeanSquaredError()\n",
        "  ]\n",
        "  l = keras.losses.MeanSquaredError()\n",
        "  \n",
        "  model.compile(loss=l, optimizer=opt, metrics=m)\n",
        "  return model\n",
        "\n",
        "def Build_Model_Adam():\n",
        "  model = keras.models.Sequential([\n",
        "    keras.layers.Dense(24, activation='relu', input_shape=[4]),\n",
        "    keras.layers.Dense(24, activation='relu'),\n",
        "    keras.layers.Dense(1)                                   \n",
        "  ])\n",
        "  \n",
        "  opt = keras.optimizers.Adam()\n",
        "  m = [\n",
        "       keras.metrics.MeanAbsoluteError(),\n",
        "       keras.metrics.Accuracy(),\n",
        "       keras.metrics.MeanSquaredError()\n",
        "  ]\n",
        "  l = keras.losses.MeanSquaredError()\n",
        "  \n",
        "  model.compile(loss=l, optimizer=opt, metrics=m)\n",
        "  return model\n",
        "\n",
        "def Build_Model_Adamax():\n",
        "  model = keras.models.Sequential([\n",
        "    keras.layers.Dense(24, activation='relu', input_shape=[4]),\n",
        "    keras.layers.Dense(24, activation='relu'),\n",
        "    keras.layers.Dense(1)                                   \n",
        "  ])\n",
        "  \n",
        "  opt = keras.optimizers.Adamax()\n",
        "  m = [\n",
        "       keras.metrics.MeanAbsoluteError(),\n",
        "       keras.metrics.Accuracy(),\n",
        "       keras.metrics.MeanSquaredError()\n",
        "  ]\n",
        "  l = keras.losses.MeanSquaredError()\n",
        "  \n",
        "  model.compile(loss=l, optimizer=opt, metrics=m)\n",
        "  return model"
      ],
      "metadata": {
        "id": "No3jLqkscr3-"
      },
      "execution_count": null,
      "outputs": []
    },
    {
      "cell_type": "code",
      "source": [
        "# Train the networks\n",
        "sdg = Build_Model_SDG()\n",
        "sdg_history = sdg.fit(train_data, train_labels, epochs=100, validation_split=0.2, verbose=0, callbacks=[PrintDoc()])\n",
        "\n",
        "adam = Build_Model_Adam()\n",
        "adam_history = adam.fit(train_data, train_labels, epochs=100, validation_split=0.2, verbose=0, callbacks=[PrintDoc()])\n",
        "\n",
        "ada = Build_Model_Adamax()\n",
        "ada_history = ada.fit(train_data, train_labels, epochs=100, validation_split=0.2, verbose=0, callbacks=[PrintDoc()])"
      ],
      "metadata": {
        "id": "GQdIM7IYctb4"
      },
      "execution_count": null,
      "outputs": []
    },
    {
      "cell_type": "code",
      "source": [
        "_, sdg_mean_absolute_error, _, _ = sdg.evaluate(test_data, test_labels,verbose=0)\n",
        "print('SDG model: %s' % sdg_mean_absolute_error)\n",
        "\n",
        "_, adam_mean_absolute_error, _, _ = adam.evaluate(test_data, test_labels,verbose=0)\n",
        "print('Adam model: %s' % adam_mean_absolute_error)\n",
        "\n",
        "_, ada_mean_absolute_error, _, _ = ada.evaluate(test_data, test_labels,verbose=0)\n",
        "print('Adamax model: %s' % ada_mean_absolute_error)\n",
        "\n",
        "\n",
        "print('RMSProp model: %s' % m24_mean_absolute_error)"
      ],
      "metadata": {
        "id": "2euv9maocwaX"
      },
      "execution_count": null,
      "outputs": []
    },
    {
      "cell_type": "markdown",
      "source": [
        "**Winner**: RMSProp activation was still the best"
      ],
      "metadata": {
        "id": "ECQ5fqrgc0dC"
      }
    }
  ]
}