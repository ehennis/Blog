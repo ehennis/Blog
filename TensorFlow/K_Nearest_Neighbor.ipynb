{
  "nbformat": 4,
  "nbformat_minor": 0,
  "metadata": {
    "colab": {
      "name": "K Nearest Neighbor",
      "version": "0.3.2",
      "provenance": [],
      "private_outputs": true
    },
    "kernelspec": {
      "name": "python3",
      "display_name": "Python 3"
    }
  },
  "cells": [
    {
      "metadata": {
        "id": "yNQtccX1AVT_",
        "colab_type": "text"
      },
      "cell_type": "markdown",
      "source": [
        "# K Nearest Neighbor in TensorFlow 2.0"
      ]
    },
    {
      "metadata": {
        "id": "R2scrQG3AZj4",
        "colab_type": "text"
      },
      "cell_type": "markdown",
      "source": [
        "I was asked this question and I really struggled with it so I decided to Google around and see what was out there. I found a few v1 solutions but nothing that used v2. So, here I am."
      ]
    },
    {
      "metadata": {
        "id": "eIQJphYCSVWG",
        "colab_type": "text"
      },
      "cell_type": "markdown",
      "source": [
        "<table class=\"tfo-notebook-buttons\" align=\"left\">\n",
        "  <td>\n",
        "    <a target=\"_blank\" href=\"https://colab.research.google.com/github/ehennis/Blog/blob/master/TensorFlow/K_Nearest_Neighbor.ipynb\"><img src=\"https://www.tensorflow.org/images/colab_logo_32px.png\" />Run in Google Colab</a>\n",
        "  </td>\n",
        "  <td>\n",
        "    <a target=\"_blank\" href=\"https://github.com/ehennis/Blog/blob/master/TensorFlow/K_Nearest_Neighbor.ipynb\"><img src=\"https://www.tensorflow.org/images/GitHub-Mark-32px.png\" />View source on GitHub</a>\n",
        "  </td>\n",
        "</table>"
      ]
    },
    {
      "metadata": {
        "id": "5gullmOMAkn9",
        "colab_type": "code",
        "colab": {}
      },
      "cell_type": "code",
      "source": [
        "!pip install tensorflow==2.0.0-alpha0"
      ],
      "execution_count": 0,
      "outputs": []
    },
    {
      "metadata": {
        "id": "QHNbt0ozAtQR",
        "colab_type": "code",
        "colab": {
          "base_uri": "https://localhost:8080/",
          "height": 34
        },
        "outputId": "0b6d4e84-0a21-4216-cfa7-7bc916323c13"
      },
      "cell_type": "code",
      "source": [
        "from __future__ import absolute_import, division, print_function\n",
        "\n",
        "import tensorflow as tf\n",
        "import numpy as np\n",
        "\n",
        "from sklearn import datasets\n",
        "\n",
        "print(tf.__version__)"
      ],
      "execution_count": 2,
      "outputs": [
        {
          "output_type": "stream",
          "text": [
            "2.0.0-alpha0\n"
          ],
          "name": "stdout"
        }
      ]
    },
    {
      "metadata": {
        "id": "nOuGsRq5B3fG",
        "colab_type": "code",
        "colab": {
          "base_uri": "https://localhost:8080/",
          "height": 51
        },
        "outputId": "1c0b36ac-5e12-45d7-fab8-eec84446499c"
      },
      "cell_type": "code",
      "source": [
        "column_names = ['sepal_length', 'sepal_width', 'petal_length', 'petal_width', 'species']\n",
        "feature_names = column_names[:-1]\n",
        "label_name = column_names[-1]\n",
        "\n",
        "class_names = ['Iris setosa', 'Iris versicolor', 'Iris virginica']\n",
        "print(\"Features: {}\".format(feature_names))\n",
        "print(\"Label: {}\".format(label_name))"
      ],
      "execution_count": 4,
      "outputs": [
        {
          "output_type": "stream",
          "text": [
            "Features: ['sepal_length', 'sepal_width', 'petal_length', 'petal_width']\n",
            "Label: species\n"
          ],
          "name": "stdout"
        }
      ]
    },
    {
      "metadata": {
        "id": "JNQSiOdSDcz8",
        "colab_type": "text"
      },
      "cell_type": "markdown",
      "source": [
        "**K Nearest Neighbor**  \n",
        "I need to grab some *test* data in order to compare versus the *train* data."
      ]
    },
    {
      "metadata": {
        "id": "4he45htdDlES",
        "colab_type": "code",
        "colab": {
          "base_uri": "https://localhost:8080/",
          "height": 102
        },
        "outputId": "6076566c-d96f-49b1-fc06-64699f73ffdf"
      },
      "cell_type": "code",
      "source": [
        "iris_dataset = datasets.load_iris()\n",
        "\n",
        "#Create X/Y arrays\n",
        "x_vals = np.array([x[0:4] for x in iris_dataset.data])\n",
        "y_vals = np.array(iris_dataset.target)\n",
        "y_vals = np.eye(len(set(y_vals)))[y_vals]\n",
        "x_vals = (x_vals - x_vals.min(0)) / x_vals.ptp(0)\n",
        "\n",
        "np.random.seed(50)\n",
        "#Grab 80%\n",
        "train_indices = np.random.choice(len(x_vals), round(len(x_vals) * 0.8), replace=False)\n",
        "#Test on the remaining 20%\n",
        "test_indices = np.array(list(set(range(len(x_vals))) - set(train_indices)))\n",
        "\n",
        "x_vals_train = x_vals[train_indices] #120 records\n",
        "x_vals_test = x_vals[test_indices] #30 records\n",
        "y_vals_train = y_vals[train_indices]\n",
        "y_vals_test = y_vals[test_indices]\n",
        "\n",
        "feature_number = len(x_vals_train[0]) #4 features\n",
        "\n",
        "#Grab the 3 nearest neighbors\n",
        "k=3 \n",
        "\n",
        "#Grab a value to use to find the knn\n",
        "orig_value = x_vals_test[0]\n",
        "\n",
        "#Calculate the squared difference for each training record against\n",
        "#the orig_valu\n",
        "t_diffs = tf.math.squared_difference(x_vals_train, orig_value)\n",
        "#Sum across the array (4 features) into a single value\n",
        "t_diff_sums = tf.reduce_sum(t_diffs, axis=1)\n",
        "#Negate the values since I really want the LOWEST values\n",
        "elements, indices = tf.math.top_k(tf.negative(t_diff_sums),k=k)\n",
        "\n",
        "#print(elements)\n",
        "print(indices)\n",
        "print('Original Element: %s' % orig_value)\n",
        "print('1st Best Element: %s' % x_vals_train[indices[0]])\n",
        "print('2nd Best Element: %s' % x_vals_train[indices[1]])\n",
        "print('3rd Best Element: %s' % x_vals_train[indices[2]])\n"
      ],
      "execution_count": 5,
      "outputs": [
        {
          "output_type": "stream",
          "text": [
            "tf.Tensor([75 80 35], shape=(3,), dtype=int32)\n",
            "Original Element: [0.11111111 0.5        0.05084746 0.04166667]\n",
            "1st Best Element: [0.08333333 0.5        0.06779661 0.04166667]\n",
            "2nd Best Element: [0.11111111 0.5        0.10169492 0.04166667]\n",
            "3rd Best Element: [0.08333333 0.45833333 0.08474576 0.04166667]\n"
          ],
          "name": "stdout"
        }
      ]
    }
  ]
}