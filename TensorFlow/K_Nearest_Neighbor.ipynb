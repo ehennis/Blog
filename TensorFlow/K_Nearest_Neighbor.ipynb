{
  "nbformat": 4,
  "nbformat_minor": 0,
  "metadata": {
    "colab": {
      "name": "K Nearest Neighbor",
      "version": "0.3.2",
      "provenance": [],
      "private_outputs": true
    },
    "kernelspec": {
      "name": "python3",
      "display_name": "Python 3"
    }
  },
  "cells": [
    {
      "metadata": {
        "id": "yNQtccX1AVT_",
        "colab_type": "text"
      },
      "cell_type": "markdown",
      "source": [
        "# K Nearest Neighbor in TensorFlow 2.0"
      ]
    },
    {
      "metadata": {
        "id": "R2scrQG3AZj4",
        "colab_type": "text"
      },
      "cell_type": "markdown",
      "source": [
        "I was asked this question and I really struggled with it so I decided to Google around and see what was out there. I found a few v1 solutions but nothing that used v2. So, here I am."
      ]
    },
    {
      "metadata": {
        "id": "5gullmOMAkn9",
        "colab_type": "code",
        "colab": {
          "base_uri": "https://localhost:8080/",
          "height": 581
        },
        "outputId": "0674ed0e-3e01-4cad-afdf-b89af9ba68d2"
      },
      "cell_type": "code",
      "source": [
        "!pip install tensorflow==2.0.0-alpha0"
      ],
      "execution_count": 1,
      "outputs": [
        {
          "output_type": "stream",
          "text": [
            "Collecting tensorflow==2.0.0-alpha0\n",
            "\u001b[?25l  Downloading https://files.pythonhosted.org/packages/29/39/f99185d39131b8333afcfe1dcdb0629c2ffc4ecfb0e4c14ca210d620e56c/tensorflow-2.0.0a0-cp36-cp36m-manylinux1_x86_64.whl (79.9MB)\n",
            "\u001b[K    100% |████████████████████████████████| 79.9MB 338kB/s \n",
            "\u001b[?25hRequirement already satisfied: six>=1.10.0 in /usr/local/lib/python3.6/dist-packages (from tensorflow==2.0.0-alpha0) (1.11.0)\n",
            "Requirement already satisfied: astor>=0.6.0 in /usr/local/lib/python3.6/dist-packages (from tensorflow==2.0.0-alpha0) (0.7.1)\n",
            "Requirement already satisfied: wheel>=0.26 in /usr/local/lib/python3.6/dist-packages (from tensorflow==2.0.0-alpha0) (0.33.1)\n",
            "Requirement already satisfied: keras-applications>=1.0.6 in /usr/local/lib/python3.6/dist-packages (from tensorflow==2.0.0-alpha0) (1.0.7)\n",
            "Requirement already satisfied: protobuf>=3.6.1 in /usr/local/lib/python3.6/dist-packages (from tensorflow==2.0.0-alpha0) (3.6.1)\n",
            "Requirement already satisfied: absl-py>=0.7.0 in /usr/local/lib/python3.6/dist-packages (from tensorflow==2.0.0-alpha0) (0.7.0)\n",
            "Requirement already satisfied: keras-preprocessing>=1.0.5 in /usr/local/lib/python3.6/dist-packages (from tensorflow==2.0.0-alpha0) (1.0.9)\n",
            "Collecting tf-estimator-nightly<1.14.0.dev2019030116,>=1.14.0.dev2019030115 (from tensorflow==2.0.0-alpha0)\n",
            "\u001b[?25l  Downloading https://files.pythonhosted.org/packages/13/82/f16063b4eed210dc2ab057930ac1da4fbe1e91b7b051a6c8370b401e6ae7/tf_estimator_nightly-1.14.0.dev2019030115-py2.py3-none-any.whl (411kB)\n",
            "\u001b[K    100% |████████████████████████████████| 419kB 22.5MB/s \n",
            "\u001b[?25hCollecting google-pasta>=0.1.2 (from tensorflow==2.0.0-alpha0)\n",
            "\u001b[?25l  Downloading https://files.pythonhosted.org/packages/8c/96/adbd4eafe72ce9b5ca6f168fbf109386e1b601f7c59926a11e9d7b7a5b44/google_pasta-0.1.4-py3-none-any.whl (51kB)\n",
            "\u001b[K    100% |████████████████████████████████| 61kB 26.9MB/s \n",
            "\u001b[?25hRequirement already satisfied: gast>=0.2.0 in /usr/local/lib/python3.6/dist-packages (from tensorflow==2.0.0-alpha0) (0.2.2)\n",
            "Requirement already satisfied: termcolor>=1.1.0 in /usr/local/lib/python3.6/dist-packages (from tensorflow==2.0.0-alpha0) (1.1.0)\n",
            "Requirement already satisfied: grpcio>=1.8.6 in /usr/local/lib/python3.6/dist-packages (from tensorflow==2.0.0-alpha0) (1.15.0)\n",
            "Requirement already satisfied: numpy<2.0,>=1.14.5 in /usr/local/lib/python3.6/dist-packages (from tensorflow==2.0.0-alpha0) (1.14.6)\n",
            "Collecting tb-nightly<1.14.0a20190302,>=1.14.0a20190301 (from tensorflow==2.0.0-alpha0)\n",
            "\u001b[?25l  Downloading https://files.pythonhosted.org/packages/a9/51/aa1d756644bf4624c03844115e4ac4058eff77acd786b26315f051a4b195/tb_nightly-1.14.0a20190301-py3-none-any.whl (3.0MB)\n",
            "\u001b[K    100% |████████████████████████████████| 3.0MB 11.2MB/s \n",
            "\u001b[?25hRequirement already satisfied: h5py in /usr/local/lib/python3.6/dist-packages (from keras-applications>=1.0.6->tensorflow==2.0.0-alpha0) (2.8.0)\n",
            "Requirement already satisfied: setuptools in /usr/local/lib/python3.6/dist-packages (from protobuf>=3.6.1->tensorflow==2.0.0-alpha0) (40.8.0)\n",
            "Requirement already satisfied: markdown>=2.6.8 in /usr/local/lib/python3.6/dist-packages (from tb-nightly<1.14.0a20190302,>=1.14.0a20190301->tensorflow==2.0.0-alpha0) (3.0.1)\n",
            "Requirement already satisfied: werkzeug>=0.11.15 in /usr/local/lib/python3.6/dist-packages (from tb-nightly<1.14.0a20190302,>=1.14.0a20190301->tensorflow==2.0.0-alpha0) (0.14.1)\n",
            "Installing collected packages: tf-estimator-nightly, google-pasta, tb-nightly, tensorflow\n",
            "  Found existing installation: tensorflow 1.13.1\n",
            "    Uninstalling tensorflow-1.13.1:\n",
            "      Successfully uninstalled tensorflow-1.13.1\n",
            "Successfully installed google-pasta-0.1.4 tb-nightly-1.14.0a20190301 tensorflow-2.0.0a0 tf-estimator-nightly-1.14.0.dev2019030115\n"
          ],
          "name": "stdout"
        }
      ]
    },
    {
      "metadata": {
        "id": "QHNbt0ozAtQR",
        "colab_type": "code",
        "colab": {
          "base_uri": "https://localhost:8080/",
          "height": 34
        },
        "outputId": "0b6d4e84-0a21-4216-cfa7-7bc916323c13"
      },
      "cell_type": "code",
      "source": [
        "from __future__ import absolute_import, division, print_function\n",
        "\n",
        "import tensorflow as tf\n",
        "import numpy as np\n",
        "\n",
        "from sklearn import datasets\n",
        "\n",
        "print(tf.__version__)"
      ],
      "execution_count": 2,
      "outputs": [
        {
          "output_type": "stream",
          "text": [
            "2.0.0-alpha0\n"
          ],
          "name": "stdout"
        }
      ]
    },
    {
      "metadata": {
        "id": "nOuGsRq5B3fG",
        "colab_type": "code",
        "colab": {
          "base_uri": "https://localhost:8080/",
          "height": 51
        },
        "outputId": "1c0b36ac-5e12-45d7-fab8-eec84446499c"
      },
      "cell_type": "code",
      "source": [
        "column_names = ['sepal_length', 'sepal_width', 'petal_length', 'petal_width', 'species']\n",
        "feature_names = column_names[:-1]\n",
        "label_name = column_names[-1]\n",
        "\n",
        "class_names = ['Iris setosa', 'Iris versicolor', 'Iris virginica']\n",
        "print(\"Features: {}\".format(feature_names))\n",
        "print(\"Label: {}\".format(label_name))"
      ],
      "execution_count": 4,
      "outputs": [
        {
          "output_type": "stream",
          "text": [
            "Features: ['sepal_length', 'sepal_width', 'petal_length', 'petal_width']\n",
            "Label: species\n"
          ],
          "name": "stdout"
        }
      ]
    },
    {
      "metadata": {
        "id": "JNQSiOdSDcz8",
        "colab_type": "text"
      },
      "cell_type": "markdown",
      "source": [
        "**K Nearest Neighbor**  \n",
        "I need to grab some *test* data in order to compare versus the *train* data."
      ]
    },
    {
      "metadata": {
        "id": "4he45htdDlES",
        "colab_type": "code",
        "colab": {
          "base_uri": "https://localhost:8080/",
          "height": 102
        },
        "outputId": "6076566c-d96f-49b1-fc06-64699f73ffdf"
      },
      "cell_type": "code",
      "source": [
        "iris_dataset = datasets.load_iris()\n",
        "\n",
        "#Create X/Y arrays\n",
        "x_vals = np.array([x[0:4] for x in iris_dataset.data])\n",
        "y_vals = np.array(iris_dataset.target)\n",
        "y_vals = np.eye(len(set(y_vals)))[y_vals]\n",
        "x_vals = (x_vals - x_vals.min(0)) / x_vals.ptp(0)\n",
        "\n",
        "np.random.seed(50)\n",
        "#Grab 80%\n",
        "train_indices = np.random.choice(len(x_vals), round(len(x_vals) * 0.8), replace=False)\n",
        "#Test on the remaining 20%\n",
        "test_indices = np.array(list(set(range(len(x_vals))) - set(train_indices)))\n",
        "\n",
        "x_vals_train = x_vals[train_indices] #120 records\n",
        "x_vals_test = x_vals[test_indices] #30 records\n",
        "y_vals_train = y_vals[train_indices]\n",
        "y_vals_test = y_vals[test_indices]\n",
        "\n",
        "feature_number = len(x_vals_train[0]) #4 features\n",
        "\n",
        "#Grab the 3 nearest neighbors\n",
        "k=3 \n",
        "\n",
        "#Grab a value to use to find the knn\n",
        "orig_value = x_vals_test[0]\n",
        "\n",
        "#Calculate the squared difference for each training record against\n",
        "#the orig_valu\n",
        "t_diffs = tf.math.squared_difference(x_vals_train, orig_value)\n",
        "#Sum across the array (4 features) into a single value\n",
        "t_diff_sums = tf.reduce_sum(t_diffs, axis=1)\n",
        "#Negate the values since I really want the LOWEST values\n",
        "elements, indices = tf.math.top_k(tf.negative(t_diff_sums),k=k)\n",
        "\n",
        "#print(elements)\n",
        "print(indices)\n",
        "print('Original Element: %s' % orig_value)\n",
        "print('1st Best Element: %s' % x_vals_train[indices[0]])\n",
        "print('2nd Best Element: %s' % x_vals_train[indices[1]])\n",
        "print('3rd Best Element: %s' % x_vals_train[indices[2]])\n"
      ],
      "execution_count": 5,
      "outputs": [
        {
          "output_type": "stream",
          "text": [
            "tf.Tensor([75 80 35], shape=(3,), dtype=int32)\n",
            "Original Element: [0.11111111 0.5        0.05084746 0.04166667]\n",
            "1st Best Element: [0.08333333 0.5        0.06779661 0.04166667]\n",
            "2nd Best Element: [0.11111111 0.5        0.10169492 0.04166667]\n",
            "3rd Best Element: [0.08333333 0.45833333 0.08474576 0.04166667]\n"
          ],
          "name": "stdout"
        }
      ]
    }
  ]
}