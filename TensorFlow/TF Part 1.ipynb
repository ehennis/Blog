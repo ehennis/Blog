{
 "cells": [
  {
   "cell_type": "markdown",
   "metadata": {},
   "source": [
    "# TensorFlow Learning Part 1: Environment  \n",
    "I have created a new environment (tf_current) that has the latest version of TensorFlow. I will keep my (root) environment the way it is since I have a few talks planned and I don't want to break anything."
   ]
  },
  {
   "cell_type": "markdown",
   "metadata": {},
   "source": [
    "**Creating the Environment**  \n",
    "Here are the commands I created using Anaconda on Windows 10  \n",
    "\n",
    "Create the environment using Python 3.6:  \n",
    "&nbsp;&nbsp;&nbsp;&nbsp;&nbsp;conda create -n tf_current python=3.6  \n",
    "Change to the new environment:  \n",
    "&nbsp;&nbsp;&nbsp;&nbsp;&nbsp;activate tf_current  \n",
    "Install the latest TensorFlow:  \n",
    "&nbsp;&nbsp;&nbsp;&nbsp;&nbsp;pip install tensorflow  \n",
    "Install the module that will allow me to select a different environment within the notebooks:  \n",
    "&nbsp;&nbsp;&nbsp;&nbsp;&nbsp;conda install nb_conda  \n",
    "Install Pandas for some math work  \n",
    "&nbsp;&nbsp;&nbsp;&nbsp;&nbsp;pip install pandas"
   ]
  },
  {
   "cell_type": "code",
   "execution_count": 4,
   "metadata": {
    "collapsed": true
   },
   "outputs": [],
   "source": [
    "import tensorflow as tf"
   ]
  },
  {
   "cell_type": "code",
   "execution_count": 6,
   "metadata": {},
   "outputs": [
    {
     "name": "stdout",
     "output_type": "stream",
     "text": [
      "1.12.0\n"
     ]
    }
   ],
   "source": [
    "#Validate Version\n",
    "print (tf.__version__)"
   ]
  },
  {
   "cell_type": "markdown",
   "metadata": {},
   "source": [
    "**Generic Classification**"
   ]
  },
  {
   "cell_type": "code",
   "execution_count": 11,
   "metadata": {
    "collapsed": true
   },
   "outputs": [],
   "source": [
    "mnist = tf.keras.datasets.mnist\n",
    "\n",
    "(x_train,y_train),(x_test,y_test) = mnist.load_data() #Load the data and split into Train/Test\n",
    "x_train, x_text = x_train / 255.0, x_test / 255.0"
   ]
  },
  {
   "cell_type": "code",
   "execution_count": 14,
   "metadata": {},
   "outputs": [
    {
     "name": "stdout",
     "output_type": "stream",
     "text": [
      "Epoch 1/5\n",
      "60000/60000 [==============================] - 12s 202us/step - loss: 0.2005 - acc: 0.9411\n",
      "Epoch 2/5\n",
      "60000/60000 [==============================] - 12s 193us/step - loss: 0.0806 - acc: 0.9756\n",
      "Epoch 3/5\n",
      "60000/60000 [==============================] - 12s 192us/step - loss: 0.0518 - acc: 0.9833\n",
      "Epoch 4/5\n",
      "60000/60000 [==============================] - 11s 191us/step - loss: 0.0365 - acc: 0.9883\n",
      "Epoch 5/5\n",
      "60000/60000 [==============================] - 11s 190us/step - loss: 0.0268 - acc: 0.9911\n",
      "10000/10000 [==============================] - 0s 42us/step\n"
     ]
    },
    {
     "data": {
      "text/plain": [
       "[0.34913151187835684, 0.9782]"
      ]
     },
     "execution_count": 14,
     "metadata": {},
     "output_type": "execute_result"
    }
   ],
   "source": [
    "#Create the model\n",
    "model = tf.keras.models.Sequential([\n",
    "    tf.keras.layers.Flatten(),\n",
    "    tf.keras.layers.Dense(512, activation=tf.nn.relu),\n",
    "    tf.keras.layers.Dropout(0.2),\n",
    "    tf.keras.layers.Dense(10, activation=tf.nn.softmax)\n",
    "])\n",
    "model.compile(optimizer='adam',\n",
    "             loss='sparse_categorical_crossentropy',\n",
    "             metrics=['accuracy']) #Returns accuracy from 'evaluate'\n",
    "\n",
    "model.fit(x_train,y_train,epochs=5)\n",
    "model.evaluate(x_test,y_test) #Returns [Loss,Accuracy]"
   ]
  },
  {
   "cell_type": "markdown",
   "metadata": {},
   "source": [
    "As you can see with the results we had a loss of 0.35 and an accuracy score of 0.9782."
   ]
  }
 ],
 "metadata": {
  "kernelspec": {
   "display_name": "Python [conda env:tf_current]",
   "language": "python",
   "name": "conda-env-tf_current-py"
  },
  "language_info": {
   "codemirror_mode": {
    "name": "ipython",
    "version": 3
   },
   "file_extension": ".py",
   "mimetype": "text/x-python",
   "name": "python",
   "nbconvert_exporter": "python",
   "pygments_lexer": "ipython3",
   "version": "3.6.2"
  }
 },
 "nbformat": 4,
 "nbformat_minor": 2
}
