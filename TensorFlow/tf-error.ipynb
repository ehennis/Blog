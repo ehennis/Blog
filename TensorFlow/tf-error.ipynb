{
  "nbformat": 4,
  "nbformat_minor": 0,
  "metadata": {
    "colab": {
      "name": "BasketballScout.ipynb",
      "version": "0.3.2",
      "provenance": [],
      "private_outputs": true
    },
    "kernelspec": {
      "display_name": "Python [default]",
      "language": "python",
      "name": "python3"
    },
    "accelerator": "GPU"
  },
  "cells": [
    {
      "metadata": {
        "colab_type": "code",
        "id": "2N069isR8_5l",
        "colab": {}
      },
      "cell_type": "code",
      "source": [
        "!pip install tensorflow==2.0.0-alpha0\n",
        "!pip install tfp-nightly\n",
        "#!pip install seaborn"
      ],
      "execution_count": 0,
      "outputs": []
    },
    {
      "metadata": {
        "colab_type": "code",
        "id": "ARwHO9cg8hCl",
        "colab": {}
      },
      "cell_type": "code",
      "source": [
        "from __future__ import absolute_import, division, print_function\n",
        "from platform import python_version\n",
        " \n",
        "import tensorflow as tf\n",
        "import pandas as pd\n",
        "import numpy as np\n",
        "import matplotlib.pyplot as plt\n",
        "import seaborn as sns\n",
        "\n",
        "from tensorflow import keras\n",
        "\n",
        "print(tf.__version__)\n",
        "print(python_version())\n",
        "print(pd.__version__)"
      ],
      "execution_count": 0,
      "outputs": []
    },
    {
      "metadata": {
        "colab_type": "code",
        "id": "w7d5UVrk8hCs",
        "colab": {}
      },
      "cell_type": "code",
      "source": [
        "column_names = ['Date','HomeTeam','HomeScore','AwayTeam','AwayScore']\n",
        "team_columns = ['Conference','Team']"
      ],
      "execution_count": 0,
      "outputs": []
    },
    {
      "metadata": {
        "colab_type": "code",
        "id": "7LLSNLyf92po",
        "colab": {}
      },
      "cell_type": "code",
      "source": [
        "games_csv = 'https://raw.githubusercontent.com/ehennis/BasketballScout/master/Data/Games.csv'\n",
        "games = pd.read_csv(games_csv, header=None, names=column_names)"
      ],
      "execution_count": 0,
      "outputs": []
    },
    {
      "metadata": {
        "id": "pNGoUfL3NCm0",
        "colab_type": "code",
        "colab": {}
      },
      "cell_type": "code",
      "source": [
        "games = games.drop( games[(games['HomeScore'] == 0)].index )"
      ],
      "execution_count": 0,
      "outputs": []
    },
    {
      "metadata": {
        "colab_type": "text",
        "id": "dHqqZ1db0elq"
      },
      "cell_type": "markdown",
      "source": [
        "## Win/Loss Record"
      ]
    },
    {
      "metadata": {
        "colab_type": "code",
        "id": "KoS13p940EEu",
        "colab": {}
      },
      "cell_type": "code",
      "source": [
        "games.loc[ (games.HomeScore > games.AwayScore),'HomeResult'] = 1\n",
        "games.loc[ (games.HomeScore < games.AwayScore),'HomeResult'] = 0\n",
        "\n",
        "games.loc[ (games.HomeScore < games.AwayScore),'AwayResult'] = 1\n",
        "games.loc[ (games.HomeScore > games.AwayScore),'AwayResult'] = 0"
      ],
      "execution_count": 0,
      "outputs": []
    },
    {
      "metadata": {
        "colab_type": "text",
        "id": "s-ShyGf1Sq22"
      },
      "cell_type": "markdown",
      "source": [
        "## Break into Seasons"
      ]
    },
    {
      "metadata": {
        "colab_type": "code",
        "id": "oIDZVyD7ghai",
        "colab": {}
      },
      "cell_type": "code",
      "source": [
        "s2015 = games[(games['Date'] > '2015-11-01') & (games['Date'] < '2016-04-15')].copy()\n",
        "s2016 = games[(games['Date'] > '2016-11-01') & (games['Date'] < '2017-04-15')].copy()\n",
        "s2017 = games[(games['Date'] > '2017-11-01') & (games['Date'] < '2018-04-15')].copy()\n",
        "s2018 = games[(games['Date'] > '2018-11-01') & (games['Date'] < '2019-04-15')].copy()\n",
        "\n",
        "print('2015 (%s): %s - %s' % (s2015.shape[0],np.min(s2015.Date),np.max(s2015.Date)))\n",
        "print('2016 (%s): %s - %s' % (s2016.shape[0],np.min(s2016.Date),np.max(s2016.Date)))\n",
        "print('2017 (%s): %s - %s' % (s2017.shape[0],np.min(s2017.Date),np.max(s2017.Date)))\n",
        "print('2018 (%s): %s - %s' % (s2018.shape[0],np.min(s2018.Date),np.max(s2018.Date)))"
      ],
      "execution_count": 0,
      "outputs": []
    },
    {
      "metadata": {
        "colab_type": "text",
        "id": "jKXyrDqcgnSe"
      },
      "cell_type": "markdown",
      "source": [
        "## Load/Clean Teams"
      ]
    },
    {
      "metadata": {
        "colab_type": "code",
        "id": "w3i11dWbN68p",
        "colab": {}
      },
      "cell_type": "code",
      "source": [
        "teams_csv = 'https://raw.githubusercontent.com/ehennis/BasketballScout/master/Data/Teams.csv'\n",
        "teams = pd.read_csv(teams_csv, header=None, names=team_columns)"
      ],
      "execution_count": 0,
      "outputs": []
    },
    {
      "metadata": {
        "id": "O9YyL7ikeLg4",
        "colab_type": "text"
      },
      "cell_type": "markdown",
      "source": [
        "**Add Conference  Code**\n",
        "I am going to add the conference in the hopes that it can determine pre conference and major mismatches"
      ]
    },
    {
      "metadata": {
        "colab_type": "code",
        "id": "clHOUUnye0kJ",
        "colab": {}
      },
      "cell_type": "code",
      "source": [
        "#Add a category code to the Teams data frame\n",
        "teams['ConfCode'] = pd.Categorical(teams.Conference).codes\n",
        "teams.head()"
      ],
      "execution_count": 0,
      "outputs": []
    },
    {
      "metadata": {
        "colab_type": "text",
        "id": "4lG64rZ6gt7W"
      },
      "cell_type": "markdown",
      "source": [
        "**Alter Team Names**  \n",
        "The first 3 seasons I scraped used shortened names. 2018 does not. Instead of changing all of those I am just going to change the values in 2018-2019 season"
      ]
    },
    {
      "metadata": {
        "colab_type": "code",
        "id": "LXGuiqGezCyT",
        "colab": {}
      },
      "cell_type": "code",
      "source": [
        "def RenameTeams(df_games, column_name):\n",
        "  df_games.loc[ df_games[column_name] == 'A&M-Corpus Chris'\t\t, column_name ] = \t\t'Texas A&M-CC'\t\n",
        "  df_games.loc[ df_games[column_name] == 'Alabama St.'\t\t, column_name ] = \t\t'Alabama State'\t\t\n",
        "  df_games.loc[ df_games[column_name] == 'Albany (NY)'\t\t, column_name ] = \t\t'Albany'\t\t\t\t\n",
        "  df_games.loc[ df_games[column_name] == 'Alcorn St.'\t\t\t, column_name ] = \t\t'Alcorn State'\t\t\n",
        "  df_games.loc[ df_games[column_name] == 'American'\t\t\t, column_name ] = \t\t'American University'\n",
        "  df_games.loc[ df_games[column_name] == 'Appalachian St.'\t\t\t, column_name ] = \t\t'Appalachian State'\t\n",
        "  df_games.loc[ df_games[column_name] == 'Arizona St.'\t\t, column_name ] = \t\t'Arizona State'\t\t\t\t\t\t\n",
        "  df_games.loc[ df_games[column_name] == 'Army West Point'\t\t, column_name ] = \t\t'Army'\t\t\t\t\t\n",
        "  df_games.loc[ df_games[column_name] == 'Ark.-Pine Bluff'\t\t, column_name ] = \t\t'Arkansas-Pine Bluff'\n",
        "  df_games.loc[ df_games[column_name] == 'UALR'\t\t\t\t, column_name ] = \t\t'Arkansas-Little Rock'\t\n",
        "  df_games.loc[ df_games[column_name] == 'Little Rock'\t\t\t\t, column_name ] = \t\t'Arkansas-Little Rock'\t\t\t\n",
        "  df_games.loc[ df_games[column_name] == 'Arkansas St.'\t\t, column_name ] = \t\t'Arkansas State'\t\t\n",
        "  df_games.loc[ df_games[column_name] == 'Ball St.'\t\t\t, column_name ] = \t\t'Ball State'\t\t\t\n",
        "  df_games.loc[ df_games[column_name] == 'Boise St.'\t\t\t, column_name ] = \t\t'Boise State'\t\t\n",
        "  df_games.loc[ df_games[column_name] == 'Boston U.'\t\t\t, column_name ] = \t\t'Boston University'\t\t\t\n",
        "  df_games.loc[ df_games[column_name] == 'Cal Baptist'\t, column_name ] = \t\t'California Baptist'\t\t\t\n",
        "  df_games.loc[ df_games[column_name] == 'Charleston So.'\t, column_name ] = \t\t'Charleston Southern'\t\t\t\n",
        "  df_games.loc[ df_games[column_name] == 'Cent. Conn. St.'\t, column_name ] = \t\t'Central Connecticut State'\t\n",
        "  df_games.loc[ df_games[column_name] == 'Central Conn. St.'\t, column_name ] = \t\t'Central Connecticut State'\t\n",
        "  df_games.loc[ df_games[column_name] == 'Central Mich.'\t, column_name ] = \t\t'Central Michigan'\t\n",
        "  df_games.loc[ df_games[column_name] == 'Col. of Charleston'\t, column_name ] = \t\t'Charleston'\t\t\t\n",
        "  df_games.loc[ df_games[column_name] == 'Chicago St.'\t\t, column_name ] = \t\t'Chicago State'\t\t\n",
        "  df_games.loc[ df_games[column_name] == 'Cleveland St.'\t\t, column_name ] = \t\t'Cleveland State'\t\t\n",
        "  df_games.loc[ df_games[column_name] == 'Coastal Caro.'\t\t, column_name ] = \t\t'Coastal Carolina'\t\t\t\t\n",
        "  df_games.loc[ df_games[column_name] == 'Colorado St.'\t\t, column_name ] = \t\t'Colorado State'\t\n",
        "  df_games.loc[ df_games[column_name] == 'Coppin St.'\t\t\t, column_name ] = \t\t'Coppin State'\t\t\t\n",
        "  df_games.loc[ df_games[column_name] == 'Bakersfield'\t\t, column_name ] = \t\t'Cal State Bakersfield'\t\n",
        "  df_games.loc[ df_games[column_name] == 'CSU Bakersfield'\t\t, column_name ] = \t\t'Cal State Bakersfield'\t\t\n",
        "  df_games.loc[ df_games[column_name] == 'Bryant'\t\t, column_name ] = \t\t'Bryant University'\t\n",
        "  df_games.loc[ df_games[column_name] == 'Cal St. Fullerton'\t, column_name ] = \t\t'Cal State Fullerton'\n",
        "  df_games.loc[ df_games[column_name] == 'CSU Fullerton'\t, column_name ] = \t\t'Cal State Fullerton'\t\t\n",
        "  df_games.loc[ df_games[column_name] == 'CSUN'\t, column_name ] = \t\t'Cal State Northridge'\t\n",
        "  df_games.loc[ df_games[column_name] == 'Cal St. Northridge'\t, column_name ] = \t\t'Cal State Northridge'\t\t\t\t\t\t\n",
        "  df_games.loc[ df_games[column_name] == 'Central Ark.'\t\t, column_name ] = \t\t'Central Arkansas'\t\t\t\t\t\t\n",
        "  df_games.loc[ df_games[column_name] == 'Delaware St.'\t\t, column_name ] = \t\t'Delaware State'\t\t\n",
        "  df_games.loc[ df_games[column_name] == 'Detroit'\t\t\t, column_name ] = \t\t'Detroit Mercy'\t\t\n",
        "  df_games.loc[ df_games[column_name] == 'East Tenn. St.'\t\t, column_name ] = \t\t'East Tennessee State'\n",
        "  df_games.loc[ df_games[column_name] == 'Eastern Ill.'\t\t, column_name ] = \t\t'Eastern Illinois'\t\t\n",
        "  df_games.loc[ df_games[column_name] == 'Eastern Ky.'\t\t, column_name ] = \t\t'Eastern Kentucky'\t\t\n",
        "  df_games.loc[ df_games[column_name] == 'Eastern Mich.'\t\t, column_name ] = \t\t'Eastern Michigan'\t\n",
        "  df_games.loc[ df_games[column_name] == 'Eastern Wash.'\t\t, column_name ] = \t\t'Eastern Washington'\n",
        "  df_games.loc[ df_games[column_name] == \"Fairleigh D'son\"\t\t, column_name ] = \t\t'Fairleigh Dickinson'\t\t\t\t\n",
        "  df_games.loc[ df_games[column_name] == 'FGCU'\t\t, column_name ] = \t\t'Florida Gulf Coast'\t\t\t\t\t\t\n",
        "  df_games.loc[ df_games[column_name] == 'FIU'\t\t\t\t, column_name ] = \t\t'Florida International'\t\t\t\t\t\n",
        "  df_games.loc[ df_games[column_name] == 'Fla. Atlantic'\t\t, column_name ] = \t\t'Florida Atlantic'\n",
        "  df_games.loc[ df_games[column_name] == 'Florida St.'\t\t, column_name ] = \t\t'Florida State'\t\t\t\n",
        "  df_games.loc[ df_games[column_name] == 'Fresno St.'\t\t\t, column_name ] = \t\t'Fresno State'\t\t\n",
        "  df_games.loc[ df_games[column_name] == 'Fort Wayne'\t\t, column_name ] = \t\t'Purdue Fort Wayne'\t\t\n",
        "  df_games.loc[ df_games[column_name] == 'IPFW'\t\t\t\t, column_name ] = \t\t'Purdue Fort Wayne'\t\t\t\t\n",
        "  df_games.loc[ df_games[column_name] == 'Ga. Southern'\t\t, column_name ] = \t\t'Georgia Southern'\t\t\t\n",
        "  df_games.loc[ df_games[column_name] == 'Georgia St.'\t\t, column_name ] = \t\t'Georgia State'\t\t\t\n",
        "  df_games.loc[ df_games[column_name] == 'Geo. Washington'\t\t, column_name ] = \t\t'George Washington'\t\t\t\t\n",
        "  df_games.loc[ df_games[column_name] == 'Grambling'\t\t, column_name ] = \t\t'Grambling State'\t\t\n",
        "  df_games.loc[ df_games[column_name] == 'Humboldt St.'\t\t, column_name ] = \t\t'Humboldt State'\t\t\n",
        "  df_games.loc[ df_games[column_name] == 'Idaho St.'\t\t\t, column_name ] = \t\t'Idaho State'\t\t\t\n",
        "  df_games.loc[ df_games[column_name] == 'Illinois St.'\t\t, column_name ] = \t\t'Illinois State'\t\t\n",
        "  df_games.loc[ df_games[column_name] == 'Iowa St.'\t\t\t, column_name ] = \t\t'Iowa State'\t\t\t\n",
        "  df_games.loc[ df_games[column_name] == 'Indiana St.'\t\t, column_name ] = \t\t'Indiana State'\t\t\n",
        "  df_games.loc[ df_games[column_name] == 'Jackson St.'\t\t, column_name ] = \t\t'Jackson State'\t\t\n",
        "  df_games.loc[ df_games[column_name] == 'Jacksonville St.'\t\t, column_name ] = \t\t'Jacksonville State'\t\t\t\n",
        "  df_games.loc[ df_games[column_name] == 'Kansas St.'\t\t, column_name ] = \t\t'Kansas State'\n",
        "  df_games.loc[ df_games[column_name] == 'Kennesaw St.'\t\t, column_name ] = \t\t'Kennesaw State'\t\t\n",
        "  df_games.loc[ df_games[column_name] == 'Kent St.'\t\t\t, column_name ] = \t\t'Kent State'\t\t\t\n",
        "  df_games.loc[ df_games[column_name] == 'Louisiana'\t\t, column_name ] = \t\t'Louisiana-Lafayette'\n",
        "  df_games.loc[ df_games[column_name] == 'Lamar University'\t\t, column_name ] = \t\t'Lamar'\t\n",
        "  df_games.loc[ df_games[column_name] == 'La.-Monroe'\t\t, column_name ] = \t\t'Louisiana-Monroe'\t\t\n",
        "  df_games.loc[ df_games[column_name] == 'Long Beach St.'\t\t, column_name ] = \t\t'Long Beach State'\t\n",
        "  df_games.loc[ df_games[column_name] == 'Long Island'\t\t, column_name ] = \t\t'LIU Brooklyn'\n",
        "  df_games.loc[ df_games[column_name] == 'LMU'\t, column_name ] = \t\t'Loyola Marymount'\t\t\t\t\t\n",
        "  df_games.loc[ df_games[column_name] == 'Loyola Chicago'\t, column_name ] = \t\t'Loyola (IL)'\t\t\t\n",
        "  df_games.loc[ df_games[column_name] == 'Loyola Maryland'\t, column_name ] = \t\t'Loyola (MD)'\t\t\t\n",
        "  df_games.loc[ df_games[column_name] == 'Loyola (Md.)'\t, column_name ] = \t\t'Loyola (MD)'\t\t\n",
        "  df_games.loc[ df_games[column_name] == 'UMES'\t\t, column_name ] = \t\t'Maryland-Eastern Shore'\n",
        "  df_games.loc[ df_games[column_name] == 'Miami (Fla.)'\t\t, column_name ] = \t\t'Miami (FL)'\n",
        "  df_games.loc[ df_games[column_name] == 'Miami (Ohio)'\t\t, column_name ] = \t\t'Miami (OH)'\n",
        "  df_games.loc[ df_games[column_name] == \"Mt. St. Mary's\"\t\t, column_name ] = \t\t\"Mount St Mary's\"\t\t\t\n",
        "  df_games.loc[ df_games[column_name] == 'Mass.-Lowell'\t\t, column_name ] = \t\t'Massachusetts-Lowell'\t\t\t\t\n",
        "  df_games.loc[ df_games[column_name] == 'McNeese'\t\t, column_name ] = \t\t'McNeese State'\t\t\t\t\t\t\t\t\t\t\n",
        "  df_games.loc[ df_games[column_name] == 'McNeese '\t\t, column_name ] = \t\t'McNeese State'\t\t\t\t\t\t\n",
        "  df_games.loc[ df_games[column_name] == 'McNeese St.'\t\t, column_name ] = \t\t'McNeese State'\t\t\t\n",
        "  df_games.loc[ df_games[column_name] == 'Middle Tenn.'\t\t, column_name ] = \t\t'Middle Tennessee'\t\t\n",
        "  df_games.loc[ df_games[column_name] == 'Mississippi St.'\t\t, column_name ] = \t\t'Mississippi State'\t\n",
        "  df_games.loc[ df_games[column_name] == 'Mississippi Val.'\t\t, column_name ] = \t\t'Mississippi Valley State'\t\t\t\n",
        "  df_games.loc[ df_games[column_name] == 'Mich. St. '\t\t, column_name ] = \t\t'Michigan State'\t\t\n",
        "  df_games.loc[ df_games[column_name] == 'Michigan St.'\t\t, column_name ] = \t\t'Michigan State'\t\t\t\n",
        "  df_games.loc[ df_games[column_name] == 'Mississippi'\t\t\t, column_name ] = \t\t'Ole Miss'\t\t\t\n",
        "  df_games.loc[ df_games[column_name] == 'Missouri St.'\t\t, column_name ] = \t\t'Missouri State'\t\n",
        "  df_games.loc[ df_games[column_name] == 'Montana St.'\t\t, column_name ] = \t\t'Montana State'\t\t\n",
        "  df_games.loc[ df_games[column_name] == 'Morehead St.'\t\t, column_name ] = \t\t'Morehead State'\t\t\n",
        "  df_games.loc[ df_games[column_name] == 'Morgan St.'\t\t\t, column_name ] = \t\t'Morgan State'\t\t\t\n",
        "  df_games.loc[ df_games[column_name] == 'Murray St.'\t\t\t, column_name ] = \t\t'Murray State'\t\t\n",
        "  df_games.loc[ df_games[column_name] == 'N.C. A&T'\t, column_name ] = \t\t'North Carolina A&T'\n",
        "  df_games.loc[ df_games[column_name] == 'N.C. Central'\t, column_name ] = \t\t'North Carolina Central'\n",
        "  df_games.loc[ df_games[column_name] == 'New Mexico St.'\t, column_name ] = \t\t'New Mexico State'\t\t\t\t\n",
        "  df_games.loc[ df_games[column_name] == 'NC State'\t, column_name ] = \t\t'North Carolina State'\n",
        "  df_games.loc[ df_games[column_name] == 'North Carolina St.'\t, column_name ] = \t\t'North Carolina State'\t\n",
        "  df_games.loc[ df_games[column_name] == 'North Dakota St.'\t, column_name ] = \t\t'North Dakota State'\t\t\t\t\n",
        "  df_games.loc[ df_games[column_name] == 'Northern Ariz.'\t, column_name ] = \t\t'Northern Arizona'\t\t\t\t\n",
        "  df_games.loc[ df_games[column_name] == 'Northern Colo.'\t, column_name ] = \t\t'Northern Colorado'\t\t\n",
        "  df_games.loc[ df_games[column_name] == 'Northern Ill.'\t, column_name ] = \t\t'Northern Illinois'\t\t\t\n",
        "  df_games.loc[ df_games[column_name] == \"N'western St.\"\t, column_name ] = \t\t\"Northwestern State\"\t\n",
        "  df_games.loc[ df_games[column_name] == 'Northwestern St.'\t, column_name ] = \t\t\"Northwestern State\"\t\t\t\t\n",
        "  df_games.loc[ df_games[column_name] == 'Nicholls St.'\t\t, column_name ] = \t\t'Nicholls State'\t\t\n",
        "  df_games.loc[ df_games[column_name] == 'Norfolk St.'\t\t, column_name ] = \t\t'Norfolk State'\t\t\n",
        "  df_games.loc[ df_games[column_name] == 'Northern Ky.'\t\t, column_name ] = \t\t'Northern Kentucky'\t\n",
        "  df_games.loc[ df_games[column_name] == 'Ohio St.'\t\t\t, column_name ] = \t\t'Ohio State'\t\t\t\n",
        "  df_games.loc[ df_games[column_name] == 'Ohio St. '\t\t\t, column_name ] = \t\t'Ohio State'\t\t\t\n",
        "  df_games.loc[ df_games[column_name] == 'Oklahoma St.'\t\t, column_name ] = \t\t'Oklahoma State'\t\n",
        "  df_games.loc[ df_games[column_name] == 'Oregon St.'\t\t, column_name ] = \t\t'Oregon State'\t\n",
        "  df_games.loc[ df_games[column_name] == 'Neb. Omaha'\t\t\t, column_name ] = \t\t'Nebraska-Omaha'\t\n",
        "  df_games.loc[ df_games[column_name] == 'Omaha'\t\t\t, column_name ] = \t\t'Nebraska-Omaha'\t\t\t\t\t\n",
        "  df_games.loc[ df_games[column_name] == 'Penn'\t\t\t, column_name ] = \t\t'Pennsylvania'\t\t\t\t\t\t\t\t\n",
        "  df_games.loc[ df_games[column_name] == 'Penn St.'\t\t\t, column_name ] = \t\t'Penn State'\t\t\t\t\n",
        "  df_games.loc[ df_games[column_name] == 'Prairie View'\t\t, column_name ] = \t\t'Prairie View A&M'\t\t\n",
        "  df_games.loc[ df_games[column_name] == 'Portland St.'\t\t, column_name ] = \t\t'Portland State'\t\t\n",
        "  df_games.loc[ df_games[column_name] == 'S.C. Upstate'\t, column_name ] = \t\t'USC Upstate'\t\n",
        "  df_games.loc[ df_games[column_name] == 'S. Carolina St.'\t, column_name ] = \t\t'South Carolina State'\n",
        "  df_games.loc[ df_games[column_name] == 'South Carolina St.'\t, column_name ] = \t\t'South Carolina State'\t\t\t\n",
        "  df_games.loc[ df_games[column_name] == 'Sacramento St.'\t\t, column_name ] = \t\t'Sacramento State'\t\t\t\n",
        "  df_games.loc[ df_games[column_name] == 'Sam Houston St.'\t\t, column_name ] = \t\t'Sam Houston State'\t\t\t\t\n",
        "  df_games.loc[ df_games[column_name] == 'San Diego St.'\t\t, column_name ] = \t\t'San Diego State'\t\t\n",
        "  df_games.loc[ df_games[column_name] == 'San Jose St.'\t\t, column_name ] = \t\t'San Jose State'\t\t\n",
        "  df_games.loc[ df_games[column_name] == 'Savannah St.'\t\t, column_name ] = \t\t'Savannah State'\t\t\n",
        "  df_games.loc[ df_games[column_name] == 'Seattle U'\t\t\t, column_name ] = \t\t'Seattle'\t\t\t\n",
        "  df_games.loc[ df_games[column_name] == 'SFA'\t, column_name ] = \t\t'Stephen F Austin'\n",
        "  df_games.loc[ df_games[column_name] == 'Stephen F. Austin'\t, column_name ] = \t\t'Stephen F Austin'\t\t\t\t\t\n",
        "  df_games.loc[ df_games[column_name] == 'SIU Edwardsville'\t, column_name ] = \t\t'SIU-Edwardsville'\t\t\t\t\t\t\n",
        "  df_games.loc[ df_games[column_name] == 'SIUE'\t, column_name ] = \t\t'SIU-Edwardsville'\t\t\t\t\t\n",
        "  df_games.loc[ df_games[column_name] == 'South Ala.'\t\t\t, column_name ] = \t\t'South Alabama'\t\t\t\n",
        "  df_games.loc[ df_games[column_name] == 'South Dakota St.'\t\t\t, column_name ] = \t\t'South Dakota State'\t\n",
        "  df_games.loc[ df_games[column_name] == 'South Fla.'\t\t\t, column_name ] = \t\t'South Florida'\t\t\n",
        "  df_games.loc[ df_games[column_name] == 'Southern Ill.'\t\t, column_name ] = \t\t'Southern Illinois'\t\n",
        "  df_games.loc[ df_games[column_name] == 'Southeast Mo. St.'\t\t, column_name ] = \t\t'Southeast Missouri State'\n",
        "  df_games.loc[ df_games[column_name] == 'Southeastern La.'\t\t, column_name ] = \t\t'Southeastern Louisiana'\t\t\n",
        "  df_games.loc[ df_games[column_name] == 'Southern Miss.'\t\t, column_name ] = \t\t'Southern Miss'\t\t\n",
        "  df_games.loc[ df_games[column_name] == 'Southern U.'\t\t, column_name ] = \t\t'Southern University'\t\n",
        "  df_games.loc[ df_games[column_name] == 'Southern Univ.'\t\t, column_name ] = \t\t'Southern University'\t\n",
        "  df_games.loc[ df_games[column_name] == \"St. Bonaventure\"\t, column_name ] = \t\t\"St Bonaventure\"\t\t\t\n",
        "  df_games.loc[ df_games[column_name] == \"St. Francis (B'klyn)\"\t, column_name ] = \t\t\"St Francis (BKN)\"\t\t\t\n",
        "  df_games.loc[ df_games[column_name] == 'St. Francis (NY)'\t, column_name ] = \t\t\"St Francis (BKN)\"\n",
        "  df_games.loc[ df_games[column_name] == 'St. Francis (PA)'\t, column_name ] = \t\t\"St Francis (PA)\"\t\n",
        "  df_games.loc[ df_games[column_name] == 'St. Francis (Pa.)'\t, column_name ] = \t\t\"St Francis (PA)\"\t\n",
        "  df_games.loc[ df_games[column_name] == \"Saint Joseph's\"\t, column_name ] = \t\t\"Saint Joseph's (PA)\"\n",
        "  df_games.loc[ df_games[column_name] == \"St. Mary's (CA)\"\t, column_name ] = \t\t\"Saint Mary's\"\t\n",
        "  df_games.loc[ df_games[column_name] == \"St. Mary's (Cal.)\"\t, column_name ] = \t\t\"Saint Mary's\"\t\n",
        "  df_games.loc[ df_games[column_name] == \"St. Peter's\"\t, column_name ] = \t\t\"St Peter's\"\t\n",
        "  df_games.loc[ df_games[column_name] == \"St. John's (NY)\"\t, column_name ] = \t\t\"St John's\"\t\t\n",
        "  df_games.loc[ df_games[column_name] == \"St. John's \"\t, column_name ] = \t\t\"St John's\"\t\t\t\t\n",
        "  df_games.loc[ df_games[column_name] == 'Tennessee St.'\t\t, column_name ] = \t\t'Tennessee State'\t\t\n",
        "  df_games.loc[ df_games[column_name] == 'Texas A&M-C.C.'\t\t\t, column_name ] = \t\t'Texas A&M-CC'\t\t\t\n",
        "  df_games.loc[ df_games[column_name] == 'Texas St.'\t\t\t, column_name ] = \t\t'Texas State'\t\t\t\n",
        "  df_games.loc[ df_games[column_name] == 'UC Santa Barbara'\t, column_name ] = \t\t'UC Santa Barb.'\t\t\n",
        "  df_games.loc[ df_games[column_name] == 'Ill.-Chicago'\t\t, column_name ] = \t\t'UIC'\t\t\t\t\t\n",
        "  df_games.loc[ df_games[column_name] == 'Md.-East. Shore'\t, column_name ] = \t\t'Maryland-Eastern Shore'\t\t\t\t\t\n",
        "  df_games.loc[ df_games[column_name] == 'UNCG'\t\t, column_name ] = \t\t'UNC Greensboro'\t\t\t\t\t\n",
        "  df_games.loc[ df_games[column_name] == 'UNCW'\t\t, column_name ] = \t\t'North Carolina-Wilmington'\t\t\t\t\t\n",
        "  df_games.loc[ df_games[column_name] == 'UNC Wilmington'\t\t, column_name ] = \t\t'North Carolina-Wilmington'\t\t\t\t\t\n",
        "  df_games.loc[ df_games[column_name] == 'Southern California', column_name ] = \t\t'USC'\t\t\t\t\t\n",
        "  df_games.loc[ df_games[column_name] == 'UConn'\t\t\t, column_name ] = \t\t'Connecticut'\t\t\t\t\t\n",
        "  df_games.loc[ df_games[column_name] == 'UC Santa Barb.'\t\t\t, column_name ] = \t\t'UC Santa Barbara'\t\t\t\t\t\t\n",
        "  df_games.loc[ df_games[column_name] == 'UIC'\t\t\t, column_name ] = \t\t'Illinois-Chicago'\t\t\t\t\t\t\n",
        "  df_games.loc[ df_games[column_name] == 'UNI'\t\t\t, column_name ] = \t\t'Northern Iowa'\t\t\t\t\t\t\t\n",
        "  df_games.loc[ df_games[column_name] == 'UT Arlington'\t\t\t, column_name ] = \t\t'Texas-Arlington'\t\t\n",
        "  df_games.loc[ df_games[column_name] == 'UT Arlington '\t\t\t, column_name ] = \t\t'Texas-Arlington'\t\t\n",
        "  df_games.loc[ df_games[column_name] == 'UT Martin'\t\t\t, column_name ] = \t\t'Tennessee-Martin'\t\t\n",
        "  df_games.loc[ df_games[column_name] == 'UTRGV'\t\t\t, column_name ] = \t\t'Texas Rio Grande Valley'\t\t\n",
        "  df_games.loc[ df_games[column_name] == 'Utah St.'\t\t\t, column_name ] = \t\t'Utah State'\t\t\t\t\n",
        "  df_games.loc[ df_games[column_name] == 'VCU'\t\t\t, column_name ] = \t\t'Virginia Commonwealth'\t\t\n",
        "  df_games.loc[ df_games[column_name] == 'VMI'\t\t\t, column_name ] = \t\t'Virginia Military'\t\t\n",
        "  df_games.loc[ df_games[column_name] == 'Washington St.'\t\t\t, column_name ] = \t\t'Washington State'\t\t\t\n",
        "  df_games.loc[ df_games[column_name] == 'Weber St.'\t\t\t, column_name ] = \t\t'Weber State'\t\t\t\n",
        "  df_games.loc[ df_games[column_name] == 'Western Caro.'\t\t, column_name ] = \t\t'Western Carolina'\n",
        "  df_games.loc[ df_games[column_name] == 'Western Ill.'\t\t, column_name ] = \t\t'Western Illinois'\t\n",
        "  df_games.loc[ df_games[column_name] == 'Western Ky.'\t\t, column_name ] = \t\t'Western Kentucky'\t\n",
        "  df_games.loc[ df_games[column_name] == 'Western Mich.'\t\t, column_name ] = \t\t'Western Michigan'\t\t\n",
        "  df_games.loc[ df_games[column_name] == 'Wichita St.'\t\t, column_name ] = \t\t'Wichita State'\t\t\n",
        "  df_games.loc[ df_games[column_name] == 'Wright St.'\t\t\t, column_name ] = \t\t'Wright State'\t\n",
        "  df_games.loc[ df_games[column_name] == 'Youngstown St.'\t\t\t, column_name ] = \t\t'Youngstown State'\t"
      ],
      "execution_count": 0,
      "outputs": []
    },
    {
      "metadata": {
        "colab_type": "code",
        "id": "gpbam92mg4uo",
        "colab": {}
      },
      "cell_type": "code",
      "source": [
        "RenameTeams(s2015,'HomeTeam')\n",
        "RenameTeams(s2015,'AwayTeam')\n",
        "RenameTeams(s2016,'HomeTeam')\n",
        "RenameTeams(s2016,'AwayTeam')\n",
        "RenameTeams(s2017,'HomeTeam')\n",
        "RenameTeams(s2017,'AwayTeam')\n",
        "RenameTeams(s2018,'HomeTeam')\n",
        "RenameTeams(s2018,'AwayTeam')\n"
      ],
      "execution_count": 0,
      "outputs": []
    },
    {
      "metadata": {
        "colab_type": "text",
        "id": "o_W69qshYovT"
      },
      "cell_type": "markdown",
      "source": [
        "## Find Points Per Game on Offense and Defense"
      ]
    },
    {
      "metadata": {
        "colab_type": "text",
        "id": "Wk88SvMwYypf"
      },
      "cell_type": "markdown",
      "source": [
        "* Break into teams\n",
        "* Determine Home PPG and Away PPG\n",
        "* Determine Home Points Against and Away Points Against"
      ]
    },
    {
      "metadata": {
        "colab_type": "code",
        "id": "kSVWB45XaKWs",
        "colab": {}
      },
      "cell_type": "code",
      "source": [
        "def CalculateScores(df):\n",
        "  for index, row in teams.iterrows():\n",
        "    ## Home Team Stats\n",
        "    df.loc[ df['HomeTeam'] == row.Team, 'HomeScoreAverage' ] = df[(df['HomeTeam'] == row.Team)]['HomeScore'].expanding().mean()\n",
        "    df.loc[ df['HomeTeam'] == row.Team, 'HomeDefenseAverage' ] = df[(df['HomeTeam'] == row.Team)]['AwayScore'].expanding().mean()\n",
        "    ## Away Team Stats\n",
        "    df.loc[ df['AwayTeam'] == row.Team, 'AwayScoreAverage' ] = df[(df['AwayTeam'] == row.Team)]['AwayScore'].expanding().mean()\n",
        "    df.loc[ df['AwayTeam'] == row.Team, 'AwayDefenseAverage' ] = df[(df['AwayTeam'] == row.Team)]['HomeScore'].expanding().mean()\n",
        "    \n",
        "\n",
        "\n",
        "CalculateScores(s2015)\n",
        "CalculateScores(s2016)\n",
        "CalculateScores(s2017)\n",
        "CalculateScores(s2018)"
      ],
      "execution_count": 0,
      "outputs": []
    },
    {
      "metadata": {
        "id": "aJMW_dHIKAzB",
        "colab_type": "text"
      },
      "cell_type": "markdown",
      "source": [
        "## Combine the data sets"
      ]
    },
    {
      "metadata": {
        "id": "8qJixuBcJQEZ",
        "colab_type": "code",
        "colab": {}
      },
      "cell_type": "code",
      "source": [
        "all_data = pd.concat([s2015,s2016,s2017,s2018])\n"
      ],
      "execution_count": 0,
      "outputs": []
    },
    {
      "metadata": {
        "id": "E4BMWVuioRvB",
        "colab_type": "text"
      },
      "cell_type": "markdown",
      "source": [
        "**Conference Code**  \n",
        "Add the conference code"
      ]
    },
    {
      "metadata": {
        "id": "yCGLgz6yoWiu",
        "colab_type": "code",
        "colab": {}
      },
      "cell_type": "code",
      "source": [
        "all_data = all_data.merge(teams, how='left', left_on='HomeTeam', right_on='Team')\n",
        "all_data = all_data.merge(teams, how='left', left_on='AwayTeam', right_on='Team')\n",
        "all_data.rename(columns={'ConfCode_x' : 'HomeConf'}, inplace=True)\n",
        "all_data.rename(columns={'ConfCode_y' : 'AwayConf'}, inplace=True)\n",
        "all_data.drop(['Team_x','Team_y','Conference_x','Conference_y'], axis=1, inplace=True)\n",
        "all_data.head()"
      ],
      "execution_count": 0,
      "outputs": []
    },
    {
      "metadata": {
        "id": "einKhP6iZNs2",
        "colab_type": "text"
      },
      "cell_type": "markdown",
      "source": [
        "**Clean Data**  \n",
        "We have some D2 and Juco teams that won't have a scoring average so we need to drop those rows."
      ]
    },
    {
      "metadata": {
        "id": "HtFUkQqdZTtW",
        "colab_type": "code",
        "colab": {}
      },
      "cell_type": "code",
      "source": [
        "all_data = all_data.dropna()"
      ],
      "execution_count": 0,
      "outputs": []
    },
    {
      "metadata": {
        "id": "4dehNeRVJ77X",
        "colab_type": "text"
      },
      "cell_type": "markdown",
      "source": [
        "## Add Label"
      ]
    },
    {
      "metadata": {
        "id": "pmDS6VK5Hffv",
        "colab_type": "code",
        "colab": {}
      },
      "cell_type": "code",
      "source": [
        "all_data['Result'] = games.HomeScore - games.AwayScore\n",
        "all_data.tail()"
      ],
      "execution_count": 0,
      "outputs": []
    },
    {
      "metadata": {
        "id": "DrWlPNazD9dF",
        "colab_type": "text"
      },
      "cell_type": "markdown",
      "source": [
        "## Machine Learn All The Things"
      ]
    },
    {
      "metadata": {
        "id": "8SP5IV9_eRlx",
        "colab_type": "text"
      },
      "cell_type": "markdown",
      "source": [
        "**TensorBoard**  \n",
        "Setting up the TensorBoard values"
      ]
    },
    {
      "metadata": {
        "id": "eQrpUSJdeV-A",
        "colab_type": "code",
        "colab": {}
      },
      "cell_type": "code",
      "source": [
        "import datetime, os\n",
        "%load_ext tensorboard.notebook\n",
        "logdir = os.path.join(\"logs\", datetime.datetime.now().strftime(\"%Y%m%d-%H%M%S\"))\n",
        "tensorboard_callback = tf.keras.callbacks.TensorBoard(logdir, histogram_freq=1)"
      ],
      "execution_count": 0,
      "outputs": []
    },
    {
      "metadata": {
        "id": "2vlJzkDTIBS4",
        "colab_type": "text"
      },
      "cell_type": "markdown",
      "source": [
        "**PrintDoc**  \n",
        "Create a method to supress the typical output to make it \"cleaner\" looking"
      ]
    },
    {
      "metadata": {
        "id": "xzjqU0noIAL-",
        "colab_type": "code",
        "colab": {}
      },
      "cell_type": "code",
      "source": [
        "class PrintDoc(keras.callbacks.Callback):\n",
        "  def on_epoch_end(self, epoch, logs):\n",
        "    if epoch % 100 == 0: print('')\n",
        "    print('.', end='')"
      ],
      "execution_count": 0,
      "outputs": []
    },
    {
      "metadata": {
        "id": "uddfGuirLBGp",
        "colab_type": "text"
      },
      "cell_type": "markdown",
      "source": [
        "I don't need HomeTeam, AwayTeam, HomeResult, AwayResult so I can remove them."
      ]
    },
    {
      "metadata": {
        "id": "sZgyAH-HLARv",
        "colab_type": "code",
        "colab": {}
      },
      "cell_type": "code",
      "source": [
        "all_data = all_data.drop(['Date','HomeTeam','HomeScore','AwayTeam','AwayScore','HomeResult', 'AwayResult'], axis=1)\n",
        "all_data.tail()"
      ],
      "execution_count": 0,
      "outputs": []
    },
    {
      "metadata": {
        "id": "qb1HClZFKcq7",
        "colab_type": "code",
        "colab": {}
      },
      "cell_type": "code",
      "source": [
        "#Break it into 80/20 splits\n",
        "train = all_data.sample(frac=0.8, random_state=0)\n",
        "test = all_data.drop(train.index)\n",
        "print('Training Size: %s' % train.shape[0])\n",
        "print('Testing Size: %s' % test.shape[0])\n",
        "\n",
        "#Create the labels\n",
        "train_labels = train.pop('Result')\n",
        "test_labels = test.pop('Result')"
      ],
      "execution_count": 0,
      "outputs": []
    },
    {
      "metadata": {
        "colab_type": "code",
        "id": "QkaStAYWSVzA",
        "colab": {}
      },
      "cell_type": "code",
      "source": [
        "mean = train.mean(axis=0)\n",
        "train_data = train - mean\n",
        "std = train_data.std(axis=0)\n",
        "train_data /= std\n",
        "\n",
        "test_data = test - mean\n",
        "test_data /= std"
      ],
      "execution_count": 0,
      "outputs": []
    },
    {
      "metadata": {
        "id": "ls4HkbBkHswW",
        "colab_type": "text"
      },
      "cell_type": "markdown",
      "source": [
        "**Training the model**"
      ]
    },
    {
      "metadata": {
        "id": "1yrIEl2-Ip8x",
        "colab_type": "text"
      },
      "cell_type": "markdown",
      "source": [
        "Creating a method to build the model"
      ]
    },
    {
      "metadata": {
        "id": "whK96m7IGhl3",
        "colab_type": "code",
        "colab": {}
      },
      "cell_type": "code",
      "source": [
        "def Build_Model():\n",
        "  model = keras.models.Sequential([\n",
        "      keras.layers.Dense(32, activation='relu', input_shape=[len(train.keys())]),\n",
        "      keras.layers.Dense(32, activation='relu'),\n",
        "      keras.layers.Dense(1) #No last layer activation for continous prediction\n",
        "  ])\n",
        "  \n",
        "  optimizer = keras.optimizers.RMSprop()\n",
        "  \n",
        "  model.compile(loss='mean_squared_error', optimizer=optimizer, metrics=['mae','accuracy', 'mse'])\n",
        "  return model"
      ],
      "execution_count": 0,
      "outputs": []
    },
    {
      "metadata": {
        "id": "xzQDatA7o35T",
        "colab_type": "code",
        "colab": {}
      },
      "cell_type": "code",
      "source": [
        "train.drop(['HomeConf','AwayConf'], axis=1, inplace=True)\n",
        "train_data.drop(['HomeConf','AwayConf'], axis=1, inplace=True)\n",
        "train_data.head()"
      ],
      "execution_count": 0,
      "outputs": []
    },
    {
      "metadata": {
        "id": "YKeFl3NnI2c-",
        "colab_type": "code",
        "colab": {}
      },
      "cell_type": "code",
      "source": [
        "model = Build_Model()\n",
        "#Train\n",
        "history = model.fit(train_data, train_labels, epochs=10, validation_split=0.2, verbose=0, callbacks=[PrintDoc(),tensorboard_callback])"
      ],
      "execution_count": 0,
      "outputs": []
    },
    {
      "metadata": {
        "id": "ezNL8UPUd5bm",
        "colab_type": "code",
        "colab": {}
      },
      "cell_type": "code",
      "source": [
        "%tensorboard --logdir logs"
      ],
      "execution_count": 0,
      "outputs": []
    }
  ]
}