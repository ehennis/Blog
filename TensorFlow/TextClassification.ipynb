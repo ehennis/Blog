{
 "cells": [
  {
   "cell_type": "markdown",
   "metadata": {},
   "source": [
    "# Text Classification"
   ]
  },
  {
   "cell_type": "markdown",
   "metadata": {},
   "source": [
    "Here is the first lesson on TensorFlow. It is around [text classification](https://www.tensorflow.org/tutorials/keras/basic_text_classification). This will be an example of a binary or two-class classification. It will classify movie reviews as either positive or negative based on the text of the review.  \n",
    "  \n",
    "We will use the [IMDB dataset](https://www.tensorflow.org/api_docs/python/tf/keras/datasets/imdb) that contains 50,000 movie reviews. We will split them into 25,000 for training and 25,000 for testing. We will pass in the parameter 'num_words' that will keep the 10,000 most frequently occuring words. If we brought in every word our dataset would be massive."
   ]
  },
  {
   "cell_type": "code",
   "execution_count": 19,
   "metadata": {
    "collapsed": true
   },
   "outputs": [],
   "source": [
    "#Import keras and helper libraries\n",
    "import tensorflow as tf\n",
    "from tensorflow import keras\n",
    "import numpy as np\n",
    "import matplotlib.pyplot as plt"
   ]
  },
  {
   "cell_type": "code",
   "execution_count": 2,
   "metadata": {},
   "outputs": [
    {
     "name": "stdout",
     "output_type": "stream",
     "text": [
      "Downloading data from https://storage.googleapis.com/tensorflow/tf-keras-datasets/imdb.npz\n",
      "17465344/17464789 [==============================] - 2s 0us/step\n"
     ]
    }
   ],
   "source": [
    "#Download the built-in dataset\n",
    "imdb = keras.datasets.imdb\n",
    "(train_data, train_labels), (test_data, test_labels) = imdb.load_data(num_words=10000)"
   ]
  },
  {
   "cell_type": "markdown",
   "metadata": {},
   "source": [
    "**Exploring the Data**  \n",
    "LIke any dataset you are going to use we need to explore it to get a feel for it. This will help us preprocess the data as well as build a model. The first steps are to see the size of your data. Next you would see what the actual content of the data. There are many more steps and each dataset will reveal when you need to do when you start training.  \n",
    "  \n",
    "In the following code you can see that we have 25,000 reviews and those reviews are broken down by replacing the words with integer values representing the specific word in the dictionary."
   ]
  },
  {
   "cell_type": "code",
   "execution_count": 5,
   "metadata": {},
   "outputs": [
    {
     "name": "stdout",
     "output_type": "stream",
     "text": [
      "Training entries: 25000, labels 25000\n",
      "[1, 14, 22, 16, 43, 530, 973, 1622, 1385, 65, 458, 4468, 66, 3941, 4, 173, 36, 256, 5, 25, 100, 43, 838, 112, 50, 670, 2, 9, 35, 480, 284, 5, 150, 4, 172, 112, 167, 2, 336, 385, 39, 4, 172, 4536, 1111, 17, 546, 38, 13, 447, 4, 192, 50, 16, 6, 147, 2025, 19, 14, 22, 4, 1920, 4613, 469, 4, 22, 71, 87, 12, 16, 43, 530, 38, 76, 15, 13, 1247, 4, 22, 17, 515, 17, 12, 16, 626, 18, 2, 5, 62, 386, 12, 8, 316, 8, 106, 5, 4, 2223, 5244, 16, 480, 66, 3785, 33, 4, 130, 12, 16, 38, 619, 5, 25, 124, 51, 36, 135, 48, 25, 1415, 33, 6, 22, 12, 215, 28, 77, 52, 5, 14, 407, 16, 82, 2, 8, 4, 107, 117, 5952, 15, 256, 4, 2, 7, 3766, 5, 723, 36, 71, 43, 530, 476, 26, 400, 317, 46, 7, 4, 2, 1029, 13, 104, 88, 4, 381, 15, 297, 98, 32, 2071, 56, 26, 141, 6, 194, 7486, 18, 4, 226, 22, 21, 134, 476, 26, 480, 5, 144, 30, 5535, 18, 51, 36, 28, 224, 92, 25, 104, 4, 226, 65, 16, 38, 1334, 88, 12, 16, 283, 5, 16, 4472, 113, 103, 32, 15, 16, 5345, 19, 178, 32]\n"
     ]
    }
   ],
   "source": [
    "print('Training entries: {}, labels {}'.format(len(train_data), len(train_labels)))\n",
    "print(train_data[0])"
   ]
  },
  {
   "cell_type": "markdown",
   "metadata": {},
   "source": [
    "In the previous notebook, every image was the same size so we knew what side our first layer of the neural network needed to be. In this dataset, each review is different lengths so we will need to handle that later."
   ]
  },
  {
   "cell_type": "code",
   "execution_count": 7,
   "metadata": {},
   "outputs": [
    {
     "name": "stdout",
     "output_type": "stream",
     "text": [
      "First review length: 218, Second review length: 189\n"
     ]
    }
   ],
   "source": [
    "print('First review length: {}, Second review length: {}'.format(len(train_data[0]),len(train_data[1])))"
   ]
  },
  {
   "cell_type": "markdown",
   "metadata": {},
   "source": [
    "**Convert Ints back to Words**  \n",
    "Here is the code to convert the integers back to their actual words. This will be nice to have to validate your work."
   ]
  },
  {
   "cell_type": "code",
   "execution_count": 8,
   "metadata": {},
   "outputs": [
    {
     "name": "stdout",
     "output_type": "stream",
     "text": [
      "Downloading data from https://storage.googleapis.com/tensorflow/tf-keras-datasets/imdb_word_index.json\n",
      "1646592/1641221 [==============================] - 0s 0us/step\n"
     ]
    }
   ],
   "source": [
    "# A dictionary mapping words to an integer index\n",
    "word_index = imdb.get_word_index()\n",
    "\n",
    "# The first indices are reserved\n",
    "word_index = {k:(v+3) for k,v in word_index.items()} \n",
    "word_index[\"<PAD>\"] = 0\n",
    "word_index[\"<START>\"] = 1\n",
    "word_index[\"<UNK>\"] = 2  # unknown\n",
    "word_index[\"<UNUSED>\"] = 3\n",
    "\n",
    "reverse_word_index = dict([(value, key) for (key, value) in word_index.items()])\n",
    "\n",
    "def decode_review(text):\n",
    "    return ' '.join([reverse_word_index.get(i, '?') for i in text])"
   ]
  },
  {
   "cell_type": "code",
   "execution_count": 9,
   "metadata": {},
   "outputs": [
    {
     "data": {
      "text/plain": [
       "\"<START> this film was just brilliant casting location scenery story direction everyone's really suited the part they played and you could just imagine being there robert <UNK> is an amazing actor and now the same being director <UNK> father came from the same scottish island as myself so i loved the fact there was a real connection with this film the witty remarks throughout the film were great it was just brilliant so much that i bought the film as soon as it was released for <UNK> and would recommend it to everyone to watch and the fly fishing was amazing really cried at the end it was so sad and you know what they say if you cry at a film it must have been good and this definitely was also <UNK> to the two little boy's that played the <UNK> of norman and paul they were just brilliant children are often left out of the <UNK> list i think because the stars that play them all grown up are such a big profile for the whole film but these children are amazing and should be praised for what they have done don't you think the whole story was so lovely because it was true and was someone's life after all that was shared with us all\""
      ]
     },
     "execution_count": 9,
     "metadata": {},
     "output_type": "execute_result"
    }
   ],
   "source": [
    "decode_review(train_data[0])"
   ]
  },
  {
   "cell_type": "markdown",
   "metadata": {},
   "source": [
    "**Preprocessing the Data**  \n",
    "First, we need to convert the words to tensors so that we can feed them into the neural network.  \n",
    "  \n",
    "We can do this 2 ways. First, we can do what they call one-hot encoding. I have done this in most of my assignments that revolved around text. What you do is created a column for each of the words and if that word is in the text you set it to 1. If it isn't, you set it to 0. The obvious downside is that we would have 10k extra columns. Second, we can pad the reviews so that they are all the same length. This is the approach the lesson decided to use."
   ]
  },
  {
   "cell_type": "code",
   "execution_count": 12,
   "metadata": {},
   "outputs": [
    {
     "name": "stdout",
     "output_type": "stream",
     "text": [
      "First review length: 256, Second review length: 256\n"
     ]
    }
   ],
   "source": [
    "train_data = keras.preprocessing.sequence.pad_sequences(train_data,\n",
    "                                                      value=word_index[\"<PAD>\"],\n",
    "                                                      padding='post',\n",
    "                                                      maxlen=256)\n",
    "\n",
    "test_data = keras.preprocessing.sequence.pad_sequences(test_data,\n",
    "                                                      value=word_index[\"<PAD>\"],\n",
    "                                                      padding='post',\n",
    "                                                      maxlen=256)\n",
    "\n",
    "#Validate\n",
    "print('First review length: {}, Second review length: {}'.format(len(train_data[0]),len(train_data[1])))"
   ]
  },
  {
   "cell_type": "markdown",
   "metadata": {},
   "source": [
    "**Build the Model**  \n",
    "We need to make 2 decisions. First, how many layers. Second, how many units/neurons for each layer.  "
   ]
  },
  {
   "cell_type": "code",
   "execution_count": 13,
   "metadata": {},
   "outputs": [
    {
     "name": "stdout",
     "output_type": "stream",
     "text": [
      "_________________________________________________________________\n",
      "Layer (type)                 Output Shape              Param #   \n",
      "=================================================================\n",
      "embedding (Embedding)        (None, None, 16)          160000    \n",
      "_________________________________________________________________\n",
      "global_average_pooling1d (Gl (None, 16)                0         \n",
      "_________________________________________________________________\n",
      "dense (Dense)                (None, 16)                272       \n",
      "_________________________________________________________________\n",
      "dense_1 (Dense)              (None, 1)                 17        \n",
      "=================================================================\n",
      "Total params: 160,289\n",
      "Trainable params: 160,289\n",
      "Non-trainable params: 0\n",
      "_________________________________________________________________\n"
     ]
    }
   ],
   "source": [
    "# input shape is the vocabulary count used for the movie reviews (10,000 words)\n",
    "vocab_size = 10000\n",
    "\n",
    "model = keras.Sequential()\n",
    "model.add(keras.layers.Embedding(vocab_size, 16))\n",
    "model.add(keras.layers.GlobalAveragePooling1D())\n",
    "model.add(keras.layers.Dense(16, activation=tf.nn.relu))\n",
    "model.add(keras.layers.Dense(1, activation=tf.nn.sigmoid))\n",
    "\n",
    "model.summary()"
   ]
  },
  {
   "cell_type": "markdown",
   "metadata": {},
   "source": [
    "Here is a breakdown of the layers  \n",
    "  \n",
    "**vocab_size**: We need the input layer to be the same size as our text we are passing in.  \n",
    "**Embedding**: This takes in the int encoding and looks up the embedding vector for each word-index. These vectors are learned as the model trains. This adds a dimension to the output array (batch, sequence, embedding).  \n",
    "**GlobalAveragePooling1D**: This layer returns a fixed-length output vector for each example by averaging over the sequence dimension. This allows the model to handle input of variable length.  \n",
    "**Dense(16, activation=tf.nn.relu))**: This fixed-length output vector is piped through a fully-connected (Dense) layer with 16 hidden units.  \n",
    "**Dense(1, activation=tf.nn.sigmoid))**: Densely connected with a single output node (Positive or negative review). Using sigmoid makes this value between 0 and 1 representing a probability level."
   ]
  },
  {
   "cell_type": "markdown",
   "metadata": {},
   "source": [
    "**Hidden Units**  \n",
    "Our neural network has 2 hidden layers between the input and output layers. The number of hidden layers and units allows the network a much larger freedom to learn. But, the downside is that it is much more computationally expensive."
   ]
  },
  {
   "cell_type": "markdown",
   "metadata": {},
   "source": [
    "**Loss function and optimizer**  \n",
    "Every model needs a loss function and an optimizer for training. This model is a binary classification with a single probability output we will use *binary_crossentropy* loss function.  "
   ]
  },
  {
   "cell_type": "code",
   "execution_count": 14,
   "metadata": {
    "collapsed": true
   },
   "outputs": [],
   "source": [
    "model.compile(optimizer=tf.train.AdamOptimizer(),\n",
    "              loss='binary_crossentropy',\n",
    "              metrics=['accuracy'])"
   ]
  },
  {
   "cell_type": "markdown",
   "metadata": {},
   "source": [
    "**Validation Set**  \n",
    "In the previous notebook we were just given the validation set. This time we will create out own. The need for a validation set is that we need to check out work with data that the network has NEVER seen. This is different than the *testing* set that we will use to test our model. The validation set is used during training to tune our model. For our validation we will set aside 10k rows."
   ]
  },
  {
   "cell_type": "code",
   "execution_count": 15,
   "metadata": {
    "collapsed": true
   },
   "outputs": [],
   "source": [
    "x_val = train_data[:10000]\n",
    "partial_x_train = train_data[10000:]\n",
    "\n",
    "y_val = train_labels[:10000]\n",
    "partial_y_train = train_labels[10000:]"
   ]
  },
  {
   "cell_type": "markdown",
   "metadata": {},
   "source": [
    "**Train the model**  \n",
    "We will train the model using 40 epochs and mini-batches of 512 samples. This means that we iteration 40 times over all the samples in the training set."
   ]
  },
  {
   "cell_type": "code",
   "execution_count": 16,
   "metadata": {},
   "outputs": [
    {
     "name": "stdout",
     "output_type": "stream",
     "text": [
      "Train on 15000 samples, validate on 10000 samples\n",
      "Epoch 1/40\n",
      "15000/15000 [==============================] - 1s 65us/step - loss: 0.6912 - acc: 0.5649 - val_loss: 0.6888 - val_acc: 0.5882\n",
      "Epoch 2/40\n",
      "15000/15000 [==============================] - 1s 50us/step - loss: 0.6845 - acc: 0.6528 - val_loss: 0.6806 - val_acc: 0.7152\n",
      "Epoch 3/40\n",
      "15000/15000 [==============================] - 1s 48us/step - loss: 0.6722 - acc: 0.7279 - val_loss: 0.6658 - val_acc: 0.7295\n",
      "Epoch 4/40\n",
      "15000/15000 [==============================] - 1s 49us/step - loss: 0.6513 - acc: 0.7651 - val_loss: 0.6428 - val_acc: 0.7469\n",
      "Epoch 5/40\n",
      "15000/15000 [==============================] - 1s 47us/step - loss: 0.6209 - acc: 0.7867 - val_loss: 0.6102 - val_acc: 0.7803\n",
      "Epoch 6/40\n",
      "15000/15000 [==============================] - 1s 47us/step - loss: 0.5821 - acc: 0.8075 - val_loss: 0.5722 - val_acc: 0.7984\n",
      "Epoch 7/40\n",
      "15000/15000 [==============================] - 1s 52us/step - loss: 0.5379 - acc: 0.8274 - val_loss: 0.5314 - val_acc: 0.8135\n",
      "Epoch 8/40\n",
      "15000/15000 [==============================] - 1s 51us/step - loss: 0.4926 - acc: 0.8417 - val_loss: 0.4913 - val_acc: 0.8294\n",
      "Epoch 9/40\n",
      "15000/15000 [==============================] - 1s 53us/step - loss: 0.4500 - acc: 0.8556 - val_loss: 0.4549 - val_acc: 0.8395\n",
      "Epoch 10/40\n",
      "15000/15000 [==============================] - 1s 54us/step - loss: 0.4113 - acc: 0.8679 - val_loss: 0.4237 - val_acc: 0.8471\n",
      "Epoch 11/40\n",
      "15000/15000 [==============================] - 1s 55us/step - loss: 0.3783 - acc: 0.8777 - val_loss: 0.4000 - val_acc: 0.8526\n",
      "Epoch 12/40\n",
      "15000/15000 [==============================] - 1s 52us/step - loss: 0.3505 - acc: 0.8845 - val_loss: 0.3765 - val_acc: 0.8597\n",
      "Epoch 13/40\n",
      "15000/15000 [==============================] - 1s 50us/step - loss: 0.3255 - acc: 0.8917 - val_loss: 0.3600 - val_acc: 0.8652\n",
      "Epoch 14/40\n",
      "15000/15000 [==============================] - 1s 50us/step - loss: 0.3049 - acc: 0.8977 - val_loss: 0.3452 - val_acc: 0.8694\n",
      "Epoch 15/40\n",
      "15000/15000 [==============================] - 1s 50us/step - loss: 0.2871 - acc: 0.9025 - val_loss: 0.3337 - val_acc: 0.8724\n",
      "Epoch 16/40\n",
      "15000/15000 [==============================] - 1s 49us/step - loss: 0.2718 - acc: 0.9053 - val_loss: 0.3243 - val_acc: 0.8742\n",
      "Epoch 17/40\n",
      "15000/15000 [==============================] - 1s 50us/step - loss: 0.2571 - acc: 0.9123 - val_loss: 0.3165 - val_acc: 0.8776\n",
      "Epoch 18/40\n",
      "15000/15000 [==============================] - 1s 50us/step - loss: 0.2444 - acc: 0.9166 - val_loss: 0.3098 - val_acc: 0.8800\n",
      "Epoch 19/40\n",
      "15000/15000 [==============================] - 1s 51us/step - loss: 0.2327 - acc: 0.9210 - val_loss: 0.3044 - val_acc: 0.8803\n",
      "Epoch 20/40\n",
      "15000/15000 [==============================] - 1s 49us/step - loss: 0.2224 - acc: 0.9230 - val_loss: 0.3000 - val_acc: 0.8809\n",
      "Epoch 21/40\n",
      "15000/15000 [==============================] - 1s 48us/step - loss: 0.2124 - acc: 0.9274 - val_loss: 0.2962 - val_acc: 0.8823\n",
      "Epoch 22/40\n",
      "15000/15000 [==============================] - 1s 48us/step - loss: 0.2032 - acc: 0.9307 - val_loss: 0.2935 - val_acc: 0.8834\n",
      "Epoch 23/40\n",
      "15000/15000 [==============================] - 1s 53us/step - loss: 0.1948 - acc: 0.9338 - val_loss: 0.2914 - val_acc: 0.8835\n",
      "Epoch 24/40\n",
      "15000/15000 [==============================] - 1s 53us/step - loss: 0.1865 - acc: 0.9380 - val_loss: 0.2888 - val_acc: 0.8837\n",
      "Epoch 25/40\n",
      "15000/15000 [==============================] - 1s 50us/step - loss: 0.1791 - acc: 0.9417 - val_loss: 0.2873 - val_acc: 0.8848\n",
      "Epoch 26/40\n",
      "15000/15000 [==============================] - 1s 49us/step - loss: 0.1718 - acc: 0.9439 - val_loss: 0.2866 - val_acc: 0.8845\n",
      "Epoch 27/40\n",
      "15000/15000 [==============================] - 1s 48us/step - loss: 0.1656 - acc: 0.9469 - val_loss: 0.2862 - val_acc: 0.8850\n",
      "Epoch 28/40\n",
      "15000/15000 [==============================] - 1s 48us/step - loss: 0.1590 - acc: 0.9496 - val_loss: 0.2854 - val_acc: 0.8857\n",
      "Epoch 29/40\n",
      "15000/15000 [==============================] - 1s 51us/step - loss: 0.1530 - acc: 0.9514 - val_loss: 0.2853 - val_acc: 0.8857\n",
      "Epoch 30/40\n",
      "15000/15000 [==============================] - 1s 49us/step - loss: 0.1478 - acc: 0.9533 - val_loss: 0.2859 - val_acc: 0.8859\n",
      "Epoch 31/40\n",
      "15000/15000 [==============================] - 1s 51us/step - loss: 0.1416 - acc: 0.9567 - val_loss: 0.2867 - val_acc: 0.8866\n",
      "Epoch 32/40\n",
      "15000/15000 [==============================] - 1s 49us/step - loss: 0.1367 - acc: 0.9593 - val_loss: 0.2879 - val_acc: 0.8869\n",
      "Epoch 33/40\n",
      "15000/15000 [==============================] - 1s 49us/step - loss: 0.1309 - acc: 0.9613 - val_loss: 0.2893 - val_acc: 0.8860\n",
      "Epoch 34/40\n",
      "15000/15000 [==============================] - 1s 48us/step - loss: 0.1260 - acc: 0.9636 - val_loss: 0.2911 - val_acc: 0.8854\n",
      "Epoch 35/40\n",
      "15000/15000 [==============================] - 1s 49us/step - loss: 0.1215 - acc: 0.9645 - val_loss: 0.2927 - val_acc: 0.8862\n",
      "Epoch 36/40\n",
      "15000/15000 [==============================] - 1s 48us/step - loss: 0.1161 - acc: 0.9675 - val_loss: 0.2954 - val_acc: 0.8855\n",
      "Epoch 37/40\n",
      "15000/15000 [==============================] - 1s 50us/step - loss: 0.1117 - acc: 0.9681 - val_loss: 0.2981 - val_acc: 0.8858\n",
      "Epoch 38/40\n",
      "15000/15000 [==============================] - 1s 48us/step - loss: 0.1079 - acc: 0.9691 - val_loss: 0.3004 - val_acc: 0.8841\n",
      "Epoch 39/40\n",
      "15000/15000 [==============================] - 1s 50us/step - loss: 0.1031 - acc: 0.9710 - val_loss: 0.3030 - val_acc: 0.8841\n",
      "Epoch 40/40\n",
      "15000/15000 [==============================] - 1s 49us/step - loss: 0.0990 - acc: 0.9723 - val_loss: 0.3062 - val_acc: 0.8842\n"
     ]
    }
   ],
   "source": [
    "history = model.fit(partial_x_train,\n",
    "                    partial_y_train,\n",
    "                    epochs=40,\n",
    "                    batch_size=512,\n",
    "                    validation_data=(x_val, y_val),\n",
    "                    verbose=1)"
   ]
  },
  {
   "cell_type": "markdown",
   "metadata": {},
   "source": [
    "**Evaluate the Model**  \n",
    "Now, we will evaluate how well we did in our training. We will get two return values (same as the last notebook). The first is the loss (error) and accuracty."
   ]
  },
  {
   "cell_type": "code",
   "execution_count": 17,
   "metadata": {},
   "outputs": [
    {
     "name": "stdout",
     "output_type": "stream",
     "text": [
      "25000/25000 [==============================] - 0s 19us/step\n",
      "[0.32605546572208405, 0.8732]\n"
     ]
    }
   ],
   "source": [
    "results = model.evaluate(test_data, test_labels)\n",
    "\n",
    "print(results)"
   ]
  },
  {
   "cell_type": "markdown",
   "metadata": {},
   "source": [
    "**Graph Accuracy and Loss Over Time**  \n",
    "We will use the *History* object that is returned from *model.fit()*"
   ]
  },
  {
   "cell_type": "code",
   "execution_count": 18,
   "metadata": {},
   "outputs": [
    {
     "data": {
      "text/plain": [
       "dict_keys(['val_loss', 'val_acc', 'loss', 'acc'])"
      ]
     },
     "execution_count": 18,
     "metadata": {},
     "output_type": "execute_result"
    }
   ],
   "source": [
    "history_dict = history.history\n",
    "history_dict.keys()"
   ]
  },
  {
   "cell_type": "markdown",
   "metadata": {},
   "source": [
    "The history dictionary has 4 entries. One for each monitored metric during training and validation. We can plot these to give us some visibility into the training of the model."
   ]
  },
  {
   "cell_type": "code",
   "execution_count": 20,
   "metadata": {},
   "outputs": [
    {
     "data": {
      "image/png": "[encoded data removed]",
      "text/plain": [
       "<Figure size 432x288 with 1 Axes>"
      ]
     },
     "metadata": {},
     "output_type": "display_data"
    }
   ],
   "source": [
    "acc = history.history['acc']\n",
    "val_acc = history.history['val_acc']\n",
    "loss = history.history['loss']\n",
    "val_loss = history.history['val_loss']\n",
    "\n",
    "epochs = range(1, len(acc) + 1)\n",
    "\n",
    "# \"bo\" is for \"blue dot\"\n",
    "plt.plot(epochs, loss, 'bo', label='Training loss')\n",
    "# b is for \"solid blue line\"\n",
    "plt.plot(epochs, val_loss, 'b', label='Validation loss')\n",
    "plt.title('Training and validation loss')\n",
    "plt.xlabel('Epochs')\n",
    "plt.ylabel('Loss')\n",
    "plt.legend()\n",
    "\n",
    "plt.show()"
   ]
  },
  {
   "cell_type": "code",
   "execution_count": 21,
   "metadata": {},
   "outputs": [
    {
     "data": {
      "image/png": "[encoded data removed]",
      "text/plain": [
       "<Figure size 432x288 with 1 Axes>"
      ]
     },
     "metadata": {},
     "output_type": "display_data"
    }
   ],
   "source": [
    "plt.clf()   # clear figure\n",
    "acc_values = history_dict['acc']\n",
    "val_acc_values = history_dict['val_acc']\n",
    "\n",
    "plt.plot(epochs, acc, 'bo', label='Training acc')\n",
    "plt.plot(epochs, val_acc, 'b', label='Validation acc')\n",
    "plt.title('Training and validation accuracy')\n",
    "plt.xlabel('Epochs')\n",
    "plt.ylabel('Accuracy')\n",
    "plt.legend()\n",
    "\n",
    "plt.show()"
   ]
  },
  {
   "cell_type": "markdown",
   "metadata": {},
   "source": [
    "These two plots show you the loss values and the accuracy for each dataset over each of the 40 epochs.  \n",
    "  \n",
    "If you notice that each graph shows that we peak on the validation set around 20 epochs. This is when overfitting starts to show up. The model preforms better on the training set but the validation set doesn't get better. At this point, the model learns the specifics of the training set instead of learning the generalized information."
   ]
  },
  {
   "cell_type": "markdown",
   "metadata": {},
   "source": [
    " @title MIT License\n",
    "\n",
    " Copyright (c) 2017 François Chollet\n",
    "\n",
    " Permission is hereby granted, free of charge, to any person obtaining a\n",
    " copy of this software and associated documentation files (the \"Software\"),\n",
    " to deal in the Software without restriction, including without limitation\n",
    " the rights to use, copy, modify, merge, publish, distribute, sublicense,\n",
    " and/or sell copies of the Software, and to permit persons to whom the\n",
    " Software is furnished to do so, subject to the following conditions:\n",
    "\n",
    " The above copyright notice and this permission notice shall be included in\n",
    " all copies or substantial portions of the Software.\n",
    "\n",
    " THE SOFTWARE IS PROVIDED \"AS IS\", WITHOUT WARRANTY OF ANY KIND, EXPRESS OR\n",
    " IMPLIED, INCLUDING BUT NOT LIMITED TO THE WARRANTIES OF MERCHANTABILITY,\n",
    " FITNESS FOR A PARTICULAR PURPOSE AND NONINFRINGEMENT. IN NO EVENT SHALL\n",
    " THE AUTHORS OR COPYRIGHT HOLDERS BE LIABLE FOR ANY CLAIM, DAMAGES OR OTHER\n",
    " LIABILITY, WHETHER IN AN ACTION OF CONTRACT, TORT OR OTHERWISE, ARISING\n",
    " FROM, OUT OF OR IN CONNECTION WITH THE SOFTWARE OR THE USE OR OTHER\n",
    " DEALINGS IN THE SOFTWARE."
   ]
  }
 ],
 "metadata": {
  "kernelspec": {
   "display_name": "Python [conda env:tf_current]",
   "language": "python",
   "name": "conda-env-tf_current-py"
  },
  "language_info": {
   "codemirror_mode": {
    "name": "ipython",
    "version": 3
   },
   "file_extension": ".py",
   "mimetype": "text/x-python",
   "name": "python",
   "nbconvert_exporter": "python",
   "pygments_lexer": "ipython3",
   "version": "3.6.2"
  }
 },
 "nbformat": 4,
 "nbformat_minor": 2
}
