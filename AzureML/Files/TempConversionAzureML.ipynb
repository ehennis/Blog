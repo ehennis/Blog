{
  "cells": [
    {
      "cell_type": "markdown",
      "source": [
        "# Nebraska.Code\r\n",
        "  \r\n",
        "## Convert Celsius to Fahrenheit"
      ],
      "metadata": {
        "nteract": {
          "transient": {
            "deleting": false
          }
        }
      }
    },
    {
      "cell_type": "markdown",
      "source": [
        "Set environment to \"Python 3.10 - SDK v2\" to deploy the model"
      ],
      "metadata": {
        "nteract": {
          "transient": {
            "deleting": false
          }
        }
      }
    },
    {
      "cell_type": "code",
      "source": [
        "# Connect to Workspace\r\n",
        "\r\n",
        "# Handle to the workspace\r\n",
        "from azure.ai.ml import MLClient\r\n",
        "\r\n",
        "# Authentication package\r\n",
        "from azure.identity import DefaultAzureCredential\r\n",
        "\r\n",
        "credential = DefaultAzureCredential()"
      ],
      "outputs": [],
      "execution_count": 1,
      "metadata": {
        "gather": {
          "logged": 1689637973361
        }
      }
    },
    {
      "cell_type": "code",
      "source": [
        "# Get a handle to the workspace\r\n",
        "ml_client = MLClient(\r\n",
        "    credential=credential,\r\n",
        "    subscription_id=\"5801c542-e7c2-4159-b473-1f8f689c28d0\",\r\n",
        "    resource_group_name=\"nurl_50-rg\",\r\n",
        "    workspace_name=\"nebraskacodeworkspacepayasyougo\",\r\n",
        ")"
      ],
      "outputs": [],
      "execution_count": 2,
      "metadata": {
        "jupyter": {
          "source_hidden": false,
          "outputs_hidden": false
        },
        "nteract": {
          "transient": {
            "deleting": false
          }
        },
        "gather": {
          "logged": 1689637975677
        }
      }
    },
    {
      "cell_type": "code",
      "source": [
        "# Load Model\r\n",
        "\r\n",
        "from azure.ai.ml.entities import Model\r\n",
        "\r\n",
        "model = Model(\r\n",
        "    path=\"CtoF_Model.h5\", \r\n",
        "    name=\"ctofmodel\", \r\n",
        "    description=\"Celsius to Fahrenheit Model\"\r\n",
        ")"
      ],
      "outputs": [],
      "execution_count": 4,
      "metadata": {
        "jupyter": {
          "source_hidden": false,
          "outputs_hidden": false
        },
        "nteract": {
          "transient": {
            "deleting": false
          }
        },
        "gather": {
          "logged": 1689637990657
        }
      }
    },
    {
      "cell_type": "code",
      "source": [
        "# Register Model\r\n",
        "registered_model = ml_client.models.create_or_update(model=model)"
      ],
      "outputs": [],
      "execution_count": 5,
      "metadata": {
        "jupyter": {
          "source_hidden": false,
          "outputs_hidden": false
        },
        "nteract": {
          "transient": {
            "deleting": false
          }
        },
        "gather": {
          "logged": 1689637994703
        }
      }
    },
    {
      "cell_type": "code",
      "source": [
        "# Create Endpoint Name\r\n",
        "import uuid\r\n",
        "\r\n",
        "online_endpoint_name = \"CelsiusToFahrenheit-\" + str(uuid.uuid4())[:8]"
      ],
      "outputs": [],
      "execution_count": 6,
      "metadata": {
        "jupyter": {
          "source_hidden": false,
          "outputs_hidden": false
        },
        "nteract": {
          "transient": {
            "deleting": false
          }
        },
        "gather": {
          "logged": 1689637996962
        }
      }
    },
    {
      "cell_type": "code",
      "source": [
        "from azure.ai.ml.entities import (\r\n",
        "    ManagedOnlineEndpoint,\r\n",
        "    ManagedOnlineDeployment,\r\n",
        "    Model,\r\n",
        "    Environment,\r\n",
        ")\r\n",
        "\r\n",
        "# create an online endpoint\r\n",
        "endpoint = ManagedOnlineEndpoint(\r\n",
        "    name=online_endpoint_name,\r\n",
        "    description=\"Convert Celsius to Fahrenheit\",\r\n",
        "    auth_mode=\"key\",\r\n",
        ")\r\n",
        "\r\n",
        "endpoint = ml_client.begin_create_or_update(endpoint).result()\r\n",
        "\r\n",
        "print(f\"Endpoint {endpoint.name} provisioning state: {endpoint.provisioning_state}\")"
      ],
      "outputs": [
        {
          "output_type": "stream",
          "name": "stdout",
          "text": "Endpoint celsiustofahrenheit-db550e9a provisioning state: Succeeded\n"
        }
      ],
      "execution_count": 7,
      "metadata": {
        "jupyter": {
          "source_hidden": false,
          "outputs_hidden": false
        },
        "nteract": {
          "transient": {
            "deleting": false
          }
        },
        "gather": {
          "logged": 1689638097709
        }
      }
    },
    {
      "cell_type": "code",
      "source": [
        "# NOTE: Use if you already have an endpoint\r\n",
        "## Retrieve Endpoint\r\n",
        "#endpoint = ml_client.online_endpoints.get(name=online_endpoint_name)\r\n",
        "#\r\n",
        "#print(\r\n",
        "#    f'Endpoint \"{endpoint.name}\" with provisioning state \"{endpoint.provisioning_state}\" is retrieved'\r\n",
        "#)"
      ],
      "outputs": [
        {
          "output_type": "stream",
          "name": "stdout",
          "text": "Endpoint \"celsiustofahrenheit-e6075681\" with provisioning state \"Succeeded\" is retrieved\n"
        }
      ],
      "execution_count": 8,
      "metadata": {
        "jupyter": {
          "source_hidden": false,
          "outputs_hidden": false
        },
        "nteract": {
          "transient": {
            "deleting": false
          }
        },
        "gather": {
          "logged": 1689601335597
        }
      }
    },
    {
      "cell_type": "code",
      "source": [
        "# Create Environment\r\n",
        "import os\r\n",
        "\r\n",
        "dependencies_dir = \"./dependencies\"\r\n",
        "os.makedirs(dependencies_dir, exist_ok=True)"
      ],
      "outputs": [],
      "execution_count": 8,
      "metadata": {
        "jupyter": {
          "source_hidden": false,
          "outputs_hidden": false
        },
        "nteract": {
          "transient": {
            "deleting": false
          }
        },
        "gather": {
          "logged": 1689638174231
        }
      }
    },
    {
      "cell_type": "code",
      "source": [
        "%%writefile {dependencies_dir}/conda.yaml\r\n",
        "name: keras-env\r\n",
        "channels:\r\n",
        "  - conda-forge\r\n",
        "dependencies:\r\n",
        "  - python=3.8\r\n",
        "  - pip=21.2.4\r\n",
        "  - pip:\r\n",
        "      - numpy==1.21.2\r\n",
        "      - tensorflow==2.11.0\r\n",
        "      - azureml-core==1.52.0\r\n",
        "      - azureml-defaults==1.52.0"
      ],
      "outputs": [
        {
          "output_type": "stream",
          "name": "stdout",
          "text": "Overwriting ./dependencies/conda.yaml\n"
        }
      ],
      "execution_count": 9,
      "metadata": {
        "jupyter": {
          "source_hidden": false,
          "outputs_hidden": false
        },
        "nteract": {
          "transient": {
            "deleting": false
          }
        }
      }
    },
    {
      "cell_type": "code",
      "source": [
        "from azure.ai.ml.entities import Environment\r\n",
        "\r\n",
        "custom_env_name = \"keras-env\"\r\n",
        "\r\n",
        "job_env = Environment(\r\n",
        "    name=custom_env_name,\r\n",
        "    description=\"Custom environment for Celsius to Fahrenheit Conversion\",\r\n",
        "    conda_file=os.path.join(dependencies_dir, \"conda.yaml\"),\r\n",
        "    image=\"mcr.microsoft.com/azureml/openmpi4.1.0-ubuntu20.04:latest\",\r\n",
        ")\r\n",
        "job_env = ml_client.environments.create_or_update(job_env)\r\n",
        "\r\n",
        "print(\r\n",
        "    f\"Environment with name {job_env.name} is registered to workspace, the environment version is {job_env.version}\"\r\n",
        ")"
      ],
      "outputs": [
        {
          "output_type": "stream",
          "name": "stdout",
          "text": "Environment with name keras-env is registered to workspace, the environment version is 10\n"
        }
      ],
      "execution_count": 10,
      "metadata": {
        "jupyter": {
          "source_hidden": false,
          "outputs_hidden": false
        },
        "nteract": {
          "transient": {
            "deleting": false
          }
        },
        "gather": {
          "logged": 1689638186853
        }
      }
    },
    {
      "cell_type": "code",
      "source": [
        "# NOTE: Use this if you already have an environment created\r\n",
        "#job_env = ml_client.environments.get(\"keras-env\", \"10\")"
      ],
      "outputs": [],
      "execution_count": 12,
      "metadata": {
        "jupyter": {
          "source_hidden": false,
          "outputs_hidden": false
        },
        "nteract": {
          "transient": {
            "deleting": false
          }
        },
        "gather": {
          "logged": 1689638233146
        }
      }
    },
    {
      "cell_type": "code",
      "source": [
        "# Deploy the model\r\n",
        "from azure.ai.ml.entities import ManagedOnlineDeployment, CodeConfiguration\r\n",
        "\r\n",
        "model = registered_model\r\n",
        "\r\n",
        "# create an online deployment.\r\n",
        "blue_deployment = ManagedOnlineDeployment(\r\n",
        "    name=\"ctof-blue-deployment\",\r\n",
        "    endpoint_name=online_endpoint_name,\r\n",
        "    model=model,\r\n",
        "    code_configuration=CodeConfiguration(code=\"./src\", scoring_script=\"score.py\"),\r\n",
        "    instance_type=\"Standard_DS1_v2\",\r\n",
        "    instance_count=1,\r\n",
        "    environment=job_env,\r\n",
        ")\r\n",
        "\r\n",
        "blue_deployment = ml_client.begin_create_or_update(blue_deployment).result()"
      ],
      "outputs": [
        {
          "output_type": "stream",
          "name": "stderr",
          "text": "Instance type Standard_DS1_v2 may be too small for compute resources. Minimum recommended compute SKU is Standard_DS3_v2 for general purpose endpoints. Learn more about SKUs here: https://learn.microsoft.com/en-us/azure/machine-learning/referencemanaged-online-endpoints-vm-sku-list\nCheck: endpoint CelsiusToFahrenheit-db550e9a exists\n"
        },
        {
          "output_type": "stream",
          "name": "stdout",
          "text": "........................................................................................................."
        }
      ],
      "execution_count": 13,
      "metadata": {
        "jupyter": {
          "source_hidden": false,
          "outputs_hidden": false
        },
        "nteract": {
          "transient": {
            "deleting": false
          }
        },
        "gather": {
          "logged": 1689638812246
        }
      }
    },
    {
      "cell_type": "code",
      "source": [
        "# Test Deployed Model\r\n",
        "# { \"data\": [0] }\r\n",
        "\r\n",
        "result = ml_client.online_endpoints.invoke(\r\n",
        "    endpoint_name=online_endpoint_name,\r\n",
        "    request_file=\"./request/Deg0.json\",\r\n",
        "    deployment_name=\"ctof-blue-deployment\"\r\n",
        ")\r\n",
        "print( result )"
      ],
      "outputs": [],
      "execution_count": 15,
      "metadata": {
        "jupyter": {
          "source_hidden": false,
          "outputs_hidden": false
        },
        "nteract": {
          "transient": {
            "deleting": false
          }
        },
        "gather": {
          "logged": 1689640416961
        }
      }
    },
    {
      "cell_type": "code",
      "source": [
        "# Test Deployed Model\r\n",
        "# { \"data\": [0] }\r\n",
        "\r\n",
        "result = ml_client.online_endpoints.invoke(\r\n",
        "    endpoint_name=online_endpoint_name,\r\n",
        "    request_file=\"./request/Deg0.json\",\r\n",
        "    deployment_name=\"ctof-blue-deployment\"\r\n",
        ")\r\n",
        "print( result )"
      ],
      "outputs": [
        {
          "output_type": "stream",
          "name": "stdout",
          "text": "[[31.999773025512695]]\n"
        }
      ],
      "execution_count": 17,
      "metadata": {
        "jupyter": {
          "source_hidden": false,
          "outputs_hidden": false
        },
        "nteract": {
          "transient": {
            "deleting": false
          }
        },
        "gather": {
          "logged": 1689640440245
        }
      }
    },
    {
      "cell_type": "code",
      "source": [
        "result = ml_client.online_endpoints.invoke(\r\n",
        "    endpoint_name=online_endpoint_name,\r\n",
        "    request_file=\"./request/Deg100.json\",\r\n",
        "    deployment_name=\"ctof-blue-deployment\"\r\n",
        ")\r\n",
        "print( result )"
      ],
      "outputs": [
        {
          "output_type": "stream",
          "name": "stdout",
          "text": "[[211.99961853027344]]\n"
        }
      ],
      "execution_count": 19,
      "metadata": {
        "jupyter": {
          "source_hidden": false,
          "outputs_hidden": false
        },
        "nteract": {
          "transient": {
            "deleting": false
          }
        },
        "gather": {
          "logged": 1689640644650
        }
      }
    },
    {
      "cell_type": "code",
      "source": [
        "# Clean up resources\r\n",
        "ml_client.online_endpoints.begin_delete(name=online_endpoint_name)"
      ],
      "outputs": [],
      "execution_count": null,
      "metadata": {
        "jupyter": {
          "source_hidden": false,
          "outputs_hidden": false
        },
        "nteract": {
          "transient": {
            "deleting": false
          }
        }
      }
    }
  ],
  "metadata": {
    "kernelspec": {
      "name": "python310-sdkv2",
      "language": "python",
      "display_name": "Python 3.10 - SDK v2"
    },
    "language_info": {
      "name": "python",
      "version": "3.10.11",
      "mimetype": "text/x-python",
      "codemirror_mode": {
        "name": "ipython",
        "version": 3
      },
      "pygments_lexer": "ipython3",
      "nbconvert_exporter": "python",
      "file_extension": ".py"
    },
    "microsoft": {
      "ms_spell_check": {
        "ms_spell_check_language": "en"
      },
      "host": {
        "AzureML": {
          "notebookHasBeenCompleted": true
        }
      }
    },
    "nteract": {
      "version": "nteract-front-end@1.0.0"
    },
    "kernel_info": {
      "name": "python310-sdkv2"
    }
  },
  "nbformat": 4,
  "nbformat_minor": 2
}