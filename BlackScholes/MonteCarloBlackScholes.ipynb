{
 "cells": [
  {
   "cell_type": "markdown",
   "metadata": {},
   "source": [
    "# Using TensorFlow to run Monte Carlo Simulations"
   ]
  },
  {
   "cell_type": "markdown",
   "metadata": {},
   "source": [
    "This notebook will show how I worked through creating a Monte Carlo Simulation using TensorFlow. The inspiration for this post comes from [Matthias Groncki](https://ipythonquant.wordpress.com/2018/05/22/tensorflow-meets-quantitative-finance-pricing-exotic-options-with-monte-carlo-simulations-in-tensorflow/). Matthias covered multiple options but I will only cover the plain vanilla call at first since that is what I use to trade (poorly I might add)."
   ]
  },
  {
   "cell_type": "markdown",
   "metadata": {},
   "source": [
    "**Current Environment**  \n",
    "Windows 10  \n",
    "Python 3.6.1  \n",
    "Anaconda3 4.4.0  \n",
    "TensorFlow 1.2.0  \n",
    "Keras 2.0.5  \n",
    "NumPy 1.12.1  \n",
    "MatPlotLib 2.0.2  "
   ]
  },
  {
   "cell_type": "markdown",
   "metadata": {},
   "source": [
    "**Call Option**  \n",
    "I am going to use a plain vanilla call. A call is when you buy a call with a certain strike price and a certain expiration date. Buying the call means that you promise to buy that stock at a set price on a set date. Typically, there is something called an option premium that you will pay in order to enter into the contract. For example, let say that Wells Fargo (WFC) is trading at \\$50 on August 30th. You think it will go up at least 10% before the end of the year. So, you would buy the December 21st expiration with a strike price of \\$55. For the rights to buy that you would pay \\$3 in options premium. There are 3 common scenarios. First, the stock stays below $55 and you lose the premium and you don't get the shares. Second, the stock goes above \\$55 and you get to purchase those shares for \\$55. Third, you sell the options to someone else and collect the money.  \n",
    "\n",
    "This value at maturity would be:  $$C = max(S_T - K, 0)$$  \n",
    "Where $S_T$ is the price of the underlying stock on the maturity date  \n",
    "$K$ is the strike price  "
   ]
  },
  {
   "cell_type": "markdown",
   "metadata": {},
   "source": [
    "**Code for a call option**  \n",
    "Current stock price: \\$50  \n",
    "Strike price: \\$55  \n",
    "Maturity Date: 3 months (I am going to round this since August 30th is my birthday and I wanted to use it)  \n",
    "Risk Free Interest Rate: 2% (I didn't mention this earlier but this is used in most financial formulas to assess risk. You need to know what you could get risk free. Think a savings account or CD)  "
   ]
  },
  {
   "cell_type": "code",
   "execution_count": 3,
   "metadata": {
    "collapsed": true
   },
   "outputs": [],
   "source": [
    "#Notebook Imports\n",
    "import tensorflow as tf\n",
    "import numpy as np\n",
    "import scipy.stats as stats"
   ]
  },
  {
   "cell_type": "markdown",
   "metadata": {},
   "source": [
    "**Some Math**  \n",
    "The Black-Scholes call formula is: $$C(S,t) = S_tN(d_1) - Ke^{-r(T-t)}N(d_2)$$  \n",
    "Where $S_t$ is the stock price  \n",
    "$N(*)$ is the cumulative distribution function of the standard normal distribution (Don't worry scipy does this part)  \n",
    "$K$ is the strike price  \n",
    "$r$ is the risk free rate (annual rate)  \n",
    "$T - t$ is the time to maturity (in years)"
   ]
  },
  {
   "cell_type": "markdown",
   "metadata": {},
   "source": [
    "$$d_1 = \\frac{ln(\\frac{s}{K}) + (r + \\frac{\\sigma^2}{2}) (T-t)}{\\sigma \\sqrt{T-t}}$$  \n",
    "$$d_2 = \\frac{ln(\\frac{s}{K}) + (r - \\frac{\\sigma^2}{2}) (T-t)}{\\sigma \\sqrt{T-t}}$$  "
   ]
  },
  {
   "cell_type": "markdown",
   "metadata": {},
   "source": [
    "**Side Note**  \n",
    "If these were dividend paying stocks the $d_1$ and $d_2$ would be slightly different and look like this:  \n",
    "$$d_1 = \\frac{ln(\\frac{s}{K}) + (r - q + \\frac{\\sigma^2}{2}) (T-t)}{\\sigma \\sqrt{T-t}}$$  \n",
    "$$d_2 = \\frac{ln(\\frac{s}{K}) + (r - q - \\frac{\\sigma^2}{2}) (T-t)}{\\sigma \\sqrt{T-t}}$$  \n",
    "Where $q$ is the dividend rate"
   ]
  },
  {
   "cell_type": "code",
   "execution_count": 13,
   "metadata": {
    "collapsed": true
   },
   "outputs": [],
   "source": [
    "def blackscholes(stockPrice, strike, time_to_expr, imp_vol, risk_free):\n",
    "    #S: Stock Price\n",
    "    #K: Strike Price\n",
    "    #T: Time to Maturity\n",
    "    #Sigma: Volatility of underlying asset\n",
    "    #r: Interest Rate\n",
    "    \n",
    "    S = stockPrice\n",
    "    K = strike\n",
    "    T = time_to_expr\n",
    "    sigma = imp_vol\n",
    "    r = risk_free\n",
    "    \n",
    "    d_1 = (np.log(S / K) + (r + 0.5 * sigma ** 2) * T) / (sigma * np.sqrt(T))\n",
    "    d_2 = (np.log(S / K) + (r - 0.5 * sigma ** 2) * T) / (sigma * np.sqrt(T))\n",
    "    return (S * stats.norm.cdf(d_1, 0.0, 1.0) - K * np.exp(-r * T) * stats.norm.cdf(d_2,0.0,1.0))"
   ]
  },
  {
   "cell_type": "code",
   "execution_count": 14,
   "metadata": {},
   "outputs": [
    {
     "data": {
      "text/plain": [
       "0.52196991972285289"
      ]
     },
     "execution_count": 14,
     "metadata": {},
     "output_type": "execute_result"
    }
   ],
   "source": [
    "blackscholes(50.,55.,0.25,0.2,0.02)"
   ]
  },
  {
   "cell_type": "markdown",
   "metadata": {},
   "source": [
    "**Results**  \n",
    "The today price that is returned is 0.52. That means that if the option is \"perfectly\" priced it would cost you \\$0.52."
   ]
  },
  {
   "cell_type": "markdown",
   "metadata": {},
   "source": [
    "**TensorFlow Time!**  \n",
    "Now, we will do the same thing using TensorFlow. Note that we will return the price as well as all the \"greek\" values."
   ]
  },
  {
   "cell_type": "code",
   "execution_count": 27,
   "metadata": {
    "collapsed": true
   },
   "outputs": [],
   "source": [
    "def blackscholes_tf(show_greeks = True):\n",
    "    #Build the graphs\n",
    "    S = tf.placeholder(tf.float32)\n",
    "    K = tf.placeholder(tf.float32)\n",
    "    T = tf.placeholder(tf.float32)\n",
    "    sigma = tf.placeholder(tf.float32)\n",
    "    r = tf.placeholder(tf.float32)\n",
    "    \n",
    "    d_1 = (tf.log(S / K) + (r + 0.5 * sigma ** 2) * T) / (sigma * tf.sqrt(T))\n",
    "    d_2 = (tf.log(S / K) + (r - 0.5 * sigma ** 2) * T) / (sigma * tf.sqrt(T))\n",
    "    npv = S * tf.contrib.distributions.Normal(0.,1.).cdf(d_1) - K * tf.exp(-r * T) * tf.contrib.distributions.Normal(0.,1.).cdf(d_2)\n",
    "    target_calc = [npv]\n",
    "    if show_greeks:\n",
    "        greeks = tf.gradients(npv, [S, sigma, r, K, T])\n",
    "        dS_2ndOrder = tf.gradients(greeks[0], [S, sigma, r, K, T])\n",
    "        #Calculate mixed 2nd order\n",
    "        dsigma_2ndOrder = tf.gradients(greeks[1], [S, sigma, r, K, T])\n",
    "        dr_2ndOrder = tf.gradients(greeks[2], [S, sigma, r, K, T])\n",
    "        dK_2ndOrder = tf.gradients(greeks[3], [S, sigma, r, K, T])\n",
    "        dT_2ndOrder = tf.gradients(greeks[4], [S, sigma, r, K, T])\n",
    "        target_calc += [greeks, dS_2ndOrder, dsigma_2ndOrder, dr_2ndOrder, dK_2ndOrder, dT_2ndOrder]\n",
    "        \n",
    "    def exec_graph(stockPrice, strike, time_to_expr, imp_vol, risk_free):\n",
    "        with tf.Session() as sess:\n",
    "            res = sess.run(target_calc,\n",
    "                           {\n",
    "                               S: stockPrice,\n",
    "                               K: strike,\n",
    "                               r: risk_free,\n",
    "                               sigma: imp_vol,\n",
    "                               T: time_to_expr\n",
    "                           })\n",
    "            return res\n",
    "    return exec_graph"
   ]
  },
  {
   "cell_type": "code",
   "execution_count": 29,
   "metadata": {},
   "outputs": [
    {
     "data": {
      "text/plain": [
       "[0.5219698,\n",
       " [0.19680142, 6.9312944, 2.329525, -0.16942, 2.9588795],\n",
       " [0.05545029, 1.3212436, 0.69312859, -0.050409377, 0.58394784],\n",
       " [1.3212451, 28.178972, 14.782742, -1.0751084, 26.316799],\n",
       " [0.69312906, 14.782745, 8.0817337, -0.58776236, 15.877737],\n",
       " [-0.050409406, -1.0751081, -0.58776236, 0.045826733, -0.47706416],\n",
       " [0.58394831, 26.316769, 15.877747, -0.47706437, -0.038589478]]"
      ]
     },
     "execution_count": 29,
     "metadata": {},
     "output_type": "execute_result"
    }
   ],
   "source": [
    "bs_tf = blackscholes_tf()\n",
    "bs_tf(50.,55.,0.25,0.2,0.02)"
   ]
  },
  {
   "cell_type": "markdown",
   "metadata": {},
   "source": [
    "**Results**  \n",
    "As you can see we again get \\$0.52. Now, this took quite a bit longer to run and that will be an issue if we are wanting to run these at scale."
   ]
  },
  {
   "cell_type": "markdown",
   "metadata": {},
   "source": [
    "**Monte Carlo Time!!**  "
   ]
  },
  {
   "cell_type": "code",
   "execution_count": null,
   "metadata": {
    "collapsed": true
   },
   "outputs": [],
   "source": []
  }
 ],
 "metadata": {
  "kernelspec": {
   "display_name": "Python 3",
   "language": "python",
   "name": "python3"
  },
  "language_info": {
   "codemirror_mode": {
    "name": "ipython",
    "version": 3
   },
   "file_extension": ".py",
   "mimetype": "text/x-python",
   "name": "python",
   "nbconvert_exporter": "python",
   "pygments_lexer": "ipython3",
   "version": "3.6.1"
  }
 },
 "nbformat": 4,
 "nbformat_minor": 2
}
