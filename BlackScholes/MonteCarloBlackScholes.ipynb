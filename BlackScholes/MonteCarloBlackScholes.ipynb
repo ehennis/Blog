{
 "cells": [
  {
   "cell_type": "markdown",
   "metadata": {},
   "source": [
    "# Using TensorFlow to run Monte Carlo Simulations"
   ]
  },
  {
   "cell_type": "markdown",
   "metadata": {},
   "source": [
    "This notebook will show how I worked through creating a Monte Carlo Simulation using TensorFlow. The inspiration for this post comes from [Matthias Groncki](https://ipythonquant.wordpress.com/2018/05/22/tensorflow-meets-quantitative-finance-pricing-exotic-options-with-monte-carlo-simulations-in-tensorflow/). Matthias covered multiple options but I will only cover the plain vanilla call at first since that is what I use to trade (poorly I might add)."
   ]
  },
  {
   "cell_type": "markdown",
   "metadata": {},
   "source": [
    "**Current Environment**  \n",
    "Windows 10  \n",
    "Python 3.6.1  \n",
    "Anaconda3 4.4.0  \n",
    "TensorFlow 1.2.0  \n",
    "Keras 2.0.5  \n",
    "NumPy 1.12.1  \n",
    "MatPlotLib 2.0.2  "
   ]
  },
  {
   "cell_type": "code",
   "execution_count": null,
   "metadata": {
    "collapsed": true
   },
   "outputs": [],
   "source": []
  }
 ],
 "metadata": {
  "kernelspec": {
   "display_name": "Python 3",
   "language": "python",
   "name": "python3"
  },
  "language_info": {
   "codemirror_mode": {
    "name": "ipython",
    "version": 3
   },
   "file_extension": ".py",
   "mimetype": "text/x-python",
   "name": "python",
   "nbconvert_exporter": "python",
   "pygments_lexer": "ipython3",
   "version": "3.6.1"
  }
 },
 "nbformat": 4,
 "nbformat_minor": 2
}
